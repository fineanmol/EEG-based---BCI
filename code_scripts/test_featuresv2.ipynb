{
 "cells": [
  {
   "cell_type": "code",
   "execution_count": 251,
   "id": "23ff7934",
   "metadata": {},
   "outputs": [],
   "source": [
    "import scipy.io\n",
    "import os\n",
    "import pandas as pd\n",
    "import numpy as np\n",
    "data=pd.read_csv('EEG_data_subject4', sep=\"\\t\") #loading data from dataset"
   ]
  },
  {
   "cell_type": "code",
   "execution_count": 252,
   "id": "ea8e130b",
   "metadata": {},
   "outputs": [],
   "source": [
    "df_imagined=pd.read_csv('EEG_data_subject3',sep=\"\\t\")\n",
    "df_imagined.drop([\"Time\"],axis=1,inplace=True)"
   ]
  },
  {
   "cell_type": "code",
   "execution_count": 253,
   "id": "f89e85a5",
   "metadata": {},
   "outputs": [
    {
     "data": {
      "text/html": [
       "<div>\n",
       "<style scoped>\n",
       "    .dataframe tbody tr th:only-of-type {\n",
       "        vertical-align: middle;\n",
       "    }\n",
       "\n",
       "    .dataframe tbody tr th {\n",
       "        vertical-align: top;\n",
       "    }\n",
       "\n",
       "    .dataframe thead th {\n",
       "        text-align: right;\n",
       "    }\n",
       "</style>\n",
       "<table border=\"1\" class=\"dataframe\">\n",
       "  <thead>\n",
       "    <tr style=\"text-align: right;\">\n",
       "      <th></th>\n",
       "      <th>F3</th>\n",
       "      <th>FC5</th>\n",
       "      <th>AF3</th>\n",
       "      <th>F7</th>\n",
       "      <th>T7</th>\n",
       "      <th>P7</th>\n",
       "      <th>O1</th>\n",
       "      <th>O2</th>\n",
       "      <th>P8</th>\n",
       "      <th>T8</th>\n",
       "      <th>F8</th>\n",
       "      <th>AF4</th>\n",
       "      <th>FC6</th>\n",
       "      <th>F4</th>\n",
       "    </tr>\n",
       "  </thead>\n",
       "  <tbody>\n",
       "    <tr>\n",
       "      <th>0</th>\n",
       "      <td>0.0001</td>\n",
       "      <td>0.0001</td>\n",
       "      <td>0.0001</td>\n",
       "      <td>0.0006</td>\n",
       "      <td>0.0001</td>\n",
       "      <td>-0.0001</td>\n",
       "      <td>0.0001</td>\n",
       "      <td>-0.0002</td>\n",
       "      <td>0.0000</td>\n",
       "      <td>0.0001</td>\n",
       "      <td>0.0004</td>\n",
       "      <td>0.0002</td>\n",
       "      <td>0.0001</td>\n",
       "      <td>0.0002</td>\n",
       "    </tr>\n",
       "    <tr>\n",
       "      <th>1</th>\n",
       "      <td>-2.6005</td>\n",
       "      <td>109.7560</td>\n",
       "      <td>12.7059</td>\n",
       "      <td>-169.1160</td>\n",
       "      <td>-31.4479</td>\n",
       "      <td>-43.8039</td>\n",
       "      <td>-14.8167</td>\n",
       "      <td>74.4901</td>\n",
       "      <td>96.1760</td>\n",
       "      <td>43.1763</td>\n",
       "      <td>-72.2287</td>\n",
       "      <td>-23.7281</td>\n",
       "      <td>-7.7709</td>\n",
       "      <td>-11.0216</td>\n",
       "    </tr>\n",
       "    <tr>\n",
       "      <th>2</th>\n",
       "      <td>18.5243</td>\n",
       "      <td>-41.9819</td>\n",
       "      <td>-40.0490</td>\n",
       "      <td>-214.8748</td>\n",
       "      <td>-21.7062</td>\n",
       "      <td>22.3906</td>\n",
       "      <td>57.4387</td>\n",
       "      <td>126.8899</td>\n",
       "      <td>36.9631</td>\n",
       "      <td>-6.7186</td>\n",
       "      <td>-84.4190</td>\n",
       "      <td>5.1034</td>\n",
       "      <td>-1.1830</td>\n",
       "      <td>74.9133</td>\n",
       "    </tr>\n",
       "    <tr>\n",
       "      <th>3</th>\n",
       "      <td>-34.8816</td>\n",
       "      <td>-122.6321</td>\n",
       "      <td>-22.2373</td>\n",
       "      <td>-132.3502</td>\n",
       "      <td>36.5721</td>\n",
       "      <td>83.1185</td>\n",
       "      <td>23.8805</td>\n",
       "      <td>73.7514</td>\n",
       "      <td>3.3953</td>\n",
       "      <td>37.4902</td>\n",
       "      <td>-57.7188</td>\n",
       "      <td>69.9275</td>\n",
       "      <td>11.6359</td>\n",
       "      <td>-44.6514</td>\n",
       "    </tr>\n",
       "    <tr>\n",
       "      <th>4</th>\n",
       "      <td>-23.6387</td>\n",
       "      <td>-18.1475</td>\n",
       "      <td>40.6970</td>\n",
       "      <td>-69.2842</td>\n",
       "      <td>15.4405</td>\n",
       "      <td>36.3536</td>\n",
       "      <td>-23.5718</td>\n",
       "      <td>112.8957</td>\n",
       "      <td>45.0078</td>\n",
       "      <td>104.9738</td>\n",
       "      <td>-53.1022</td>\n",
       "      <td>-36.9185</td>\n",
       "      <td>-34.5765</td>\n",
       "      <td>-148.9800</td>\n",
       "    </tr>\n",
       "    <tr>\n",
       "      <th>...</th>\n",
       "      <td>...</td>\n",
       "      <td>...</td>\n",
       "      <td>...</td>\n",
       "      <td>...</td>\n",
       "      <td>...</td>\n",
       "      <td>...</td>\n",
       "      <td>...</td>\n",
       "      <td>...</td>\n",
       "      <td>...</td>\n",
       "      <td>...</td>\n",
       "      <td>...</td>\n",
       "      <td>...</td>\n",
       "      <td>...</td>\n",
       "      <td>...</td>\n",
       "    </tr>\n",
       "    <tr>\n",
       "      <th>255995</th>\n",
       "      <td>-23.7284</td>\n",
       "      <td>-31.5115</td>\n",
       "      <td>8.3845</td>\n",
       "      <td>-37.0174</td>\n",
       "      <td>45.9286</td>\n",
       "      <td>24.8491</td>\n",
       "      <td>-14.4279</td>\n",
       "      <td>-40.2837</td>\n",
       "      <td>17.8144</td>\n",
       "      <td>24.8574</td>\n",
       "      <td>-23.8540</td>\n",
       "      <td>37.8757</td>\n",
       "      <td>-45.3425</td>\n",
       "      <td>-8.0657</td>\n",
       "    </tr>\n",
       "    <tr>\n",
       "      <th>255996</th>\n",
       "      <td>6.0083</td>\n",
       "      <td>-3.0568</td>\n",
       "      <td>-14.2533</td>\n",
       "      <td>-42.4020</td>\n",
       "      <td>53.1407</td>\n",
       "      <td>9.1523</td>\n",
       "      <td>12.3190</td>\n",
       "      <td>16.3867</td>\n",
       "      <td>-20.4469</td>\n",
       "      <td>43.7724</td>\n",
       "      <td>-55.9562</td>\n",
       "      <td>-8.3505</td>\n",
       "      <td>-1.2869</td>\n",
       "      <td>-9.2040</td>\n",
       "    </tr>\n",
       "    <tr>\n",
       "      <th>255997</th>\n",
       "      <td>-21.4219</td>\n",
       "      <td>-13.4878</td>\n",
       "      <td>-7.7487</td>\n",
       "      <td>-42.2411</td>\n",
       "      <td>70.9432</td>\n",
       "      <td>41.9944</td>\n",
       "      <td>-11.5113</td>\n",
       "      <td>41.0238</td>\n",
       "      <td>-62.2157</td>\n",
       "      <td>-8.5281</td>\n",
       "      <td>-11.4892</td>\n",
       "      <td>-10.3153</td>\n",
       "      <td>29.9395</td>\n",
       "      <td>21.4559</td>\n",
       "    </tr>\n",
       "    <tr>\n",
       "      <th>255998</th>\n",
       "      <td>-17.8128</td>\n",
       "      <td>2.8300</td>\n",
       "      <td>5.0734</td>\n",
       "      <td>-34.6439</td>\n",
       "      <td>63.6781</td>\n",
       "      <td>75.0887</td>\n",
       "      <td>-69.4063</td>\n",
       "      <td>-26.0670</td>\n",
       "      <td>-5.7456</td>\n",
       "      <td>3.9624</td>\n",
       "      <td>9.9791</td>\n",
       "      <td>8.2445</td>\n",
       "      <td>6.6952</td>\n",
       "      <td>0.0593</td>\n",
       "    </tr>\n",
       "    <tr>\n",
       "      <th>255999</th>\n",
       "      <td>-0.0000</td>\n",
       "      <td>0.0000</td>\n",
       "      <td>-0.0000</td>\n",
       "      <td>0.0002</td>\n",
       "      <td>-0.0003</td>\n",
       "      <td>-0.0001</td>\n",
       "      <td>-0.0000</td>\n",
       "      <td>-0.0000</td>\n",
       "      <td>-0.0000</td>\n",
       "      <td>-0.0001</td>\n",
       "      <td>-0.0000</td>\n",
       "      <td>-0.0000</td>\n",
       "      <td>-0.0001</td>\n",
       "      <td>-0.0001</td>\n",
       "    </tr>\n",
       "  </tbody>\n",
       "</table>\n",
       "<p>256000 rows × 14 columns</p>\n",
       "</div>"
      ],
      "text/plain": [
       "             F3       FC5      AF3        F7       T7       P7       O1  \\\n",
       "0        0.0001    0.0001   0.0001    0.0006   0.0001  -0.0001   0.0001   \n",
       "1       -2.6005  109.7560  12.7059 -169.1160 -31.4479 -43.8039 -14.8167   \n",
       "2       18.5243  -41.9819 -40.0490 -214.8748 -21.7062  22.3906  57.4387   \n",
       "3      -34.8816 -122.6321 -22.2373 -132.3502  36.5721  83.1185  23.8805   \n",
       "4      -23.6387  -18.1475  40.6970  -69.2842  15.4405  36.3536 -23.5718   \n",
       "...         ...       ...      ...       ...      ...      ...      ...   \n",
       "255995 -23.7284  -31.5115   8.3845  -37.0174  45.9286  24.8491 -14.4279   \n",
       "255996   6.0083   -3.0568 -14.2533  -42.4020  53.1407   9.1523  12.3190   \n",
       "255997 -21.4219  -13.4878  -7.7487  -42.2411  70.9432  41.9944 -11.5113   \n",
       "255998 -17.8128    2.8300   5.0734  -34.6439  63.6781  75.0887 -69.4063   \n",
       "255999  -0.0000    0.0000  -0.0000    0.0002  -0.0003  -0.0001  -0.0000   \n",
       "\n",
       "              O2       P8        T8       F8      AF4      FC6        F4  \n",
       "0        -0.0002   0.0000    0.0001   0.0004   0.0002   0.0001    0.0002  \n",
       "1        74.4901  96.1760   43.1763 -72.2287 -23.7281  -7.7709  -11.0216  \n",
       "2       126.8899  36.9631   -6.7186 -84.4190   5.1034  -1.1830   74.9133  \n",
       "3        73.7514   3.3953   37.4902 -57.7188  69.9275  11.6359  -44.6514  \n",
       "4       112.8957  45.0078  104.9738 -53.1022 -36.9185 -34.5765 -148.9800  \n",
       "...          ...      ...       ...      ...      ...      ...       ...  \n",
       "255995  -40.2837  17.8144   24.8574 -23.8540  37.8757 -45.3425   -8.0657  \n",
       "255996   16.3867 -20.4469   43.7724 -55.9562  -8.3505  -1.2869   -9.2040  \n",
       "255997   41.0238 -62.2157   -8.5281 -11.4892 -10.3153  29.9395   21.4559  \n",
       "255998  -26.0670  -5.7456    3.9624   9.9791   8.2445   6.6952    0.0593  \n",
       "255999   -0.0000  -0.0000   -0.0001  -0.0000  -0.0000  -0.0001   -0.0001  \n",
       "\n",
       "[256000 rows x 14 columns]"
      ]
     },
     "execution_count": 253,
     "metadata": {},
     "output_type": "execute_result"
    }
   ],
   "source": [
    "df_imagined"
   ]
  },
  {
   "cell_type": "code",
   "execution_count": 254,
   "id": "837c2f29",
   "metadata": {},
   "outputs": [],
   "source": [
    "df_inner=pd.read_csv('EEG_data_subject4',sep=\"\\t\")\n",
    "df_inner.drop([\"Time\"],axis=1,inplace=True)\n",
    "df_combined=pd.concat([df_imagined,df_inner])"
   ]
  },
  {
   "cell_type": "code",
   "execution_count": 370,
   "id": "8e97cb85",
   "metadata": {},
   "outputs": [
    {
     "data": {
      "text/plain": [
       "array([14, 14, 14, 14, 14,  6,  6,  6,  6,  6])"
      ]
     },
     "execution_count": 370,
     "metadata": {},
     "output_type": "execute_result"
    }
   ],
   "source": [
    "data=np.array(df_imagined)\n",
    "data=data.transpose()\n",
    "data.shape\n",
    "y_array=np.load(\"labels_word_list.npy\")\n",
    "# y_array=np.array(list(y_array)*2) --for combined data\n",
    "y_array[:10]"
   ]
  },
  {
   "cell_type": "code",
   "execution_count": 372,
   "id": "75e6b94f",
   "metadata": {},
   "outputs": [],
   "source": [
    "num_dict={'date':0,'goose':1,'spruce':2,'knight':3,'juice':4,'moose':5,'night':6,'queen':7,'berry':8,'hedgehog':9,'water':10,'daughter':11,'gooseberry':12,'waterfowl':13,'wilderness':14,'relative':15,'watermelon':16,'caterpillar':17,'environment':18,'ambassador':19}"
   ]
  },
  {
   "cell_type": "markdown",
   "id": "c6cee206",
   "metadata": {},
   "source": [
    "# Data Epoching"
   ]
  },
  {
   "cell_type": "code",
   "execution_count": 374,
   "id": "683589f8",
   "metadata": {},
   "outputs": [],
   "source": [
    "#epoching data by dividing by 256, a procedure in which specific time-windows are extracted from the continuous EEG signal\n",
    "n=int(data.shape[1]/256)\n",
    "epoched_data=[]\n",
    "for i in range(n):\n",
    "    epoched_data.append(data[:,256*i:256*(i+1)])\n",
    "epoched_data=np.array(epoched_data)"
   ]
  },
  {
   "cell_type": "code",
   "execution_count": 376,
   "id": "84efaaf0",
   "metadata": {},
   "outputs": [
    {
     "data": {
      "text/plain": [
       "(1000, 14, 256)"
      ]
     },
     "execution_count": 376,
     "metadata": {},
     "output_type": "execute_result"
    }
   ],
   "source": [
    "p=np.random.RandomState(seed=42).permutation(len(y_array))\n",
    "epoched_data==epoched_data[p]\n",
    "y_array=y_array[p]\n",
    "epoched_data.shape"
   ]
  },
  {
   "cell_type": "markdown",
   "id": "d9df3131",
   "metadata": {},
   "source": [
    "# Method Used to Augment Data"
   ]
  },
  {
   "cell_type": "code",
   "execution_count": 378,
   "id": "0c361110",
   "metadata": {},
   "outputs": [
    {
     "data": {
      "text/plain": [
       "(5000, 14, 128)"
      ]
     },
     "execution_count": 378,
     "metadata": {},
     "output_type": "execute_result"
    }
   ],
   "source": [
    "augmented_data=[]\n",
    "n=epoched_data.shape[0]\n",
    "length=128\n",
    "overlap=32\n",
    "for i in range(n):\n",
    "    for j in range(0,length+1,overlap):\n",
    "        augmented_data.append(epoched_data[i][:,j:j+length])\n",
    "augmented_data=np.array(augmented_data)\n",
    "augmented_data.shape"
   ]
  },
  {
   "cell_type": "code",
   "execution_count": 379,
   "id": "3e2d3879",
   "metadata": {},
   "outputs": [],
   "source": [
    "epoched_data=augmented_data"
   ]
  },
  {
   "cell_type": "code",
   "execution_count": 380,
   "id": "8aa51e47",
   "metadata": {},
   "outputs": [],
   "source": [
    "new_array=[]\n",
    "x=int(augmented_data.shape[0]/5000) #/1000 for 5000\n",
    "for word in y_array:\n",
    "    for i in range(x):\n",
    "        new_array.append(word)\n",
    "y_array=np.array(new_array)\n"
   ]
  },
  {
   "cell_type": "code",
   "execution_count": 381,
   "id": "8f13c116",
   "metadata": {},
   "outputs": [],
   "source": [
    "# p = np.random.RandomState(seed=42).permutation(len(y_array))\n",
    "# epoched_data = epoched_data[p]  # Correct: assignment\n",
    "# y_array = y_array[p]"
   ]
  },
  {
   "cell_type": "code",
   "execution_count": 382,
   "id": "1244705a",
   "metadata": {},
   "outputs": [
    {
     "data": {
      "text/plain": [
       "(5000, 14, 128)"
      ]
     },
     "execution_count": 382,
     "metadata": {},
     "output_type": "execute_result"
    }
   ],
   "source": [
    "epoched_data.shape"
   ]
  },
  {
   "cell_type": "code",
   "execution_count": 501,
   "id": "5db8e097-a79d-4300-a8f8-56fdf7b03a79",
   "metadata": {},
   "outputs": [
    {
     "name": "stdout",
     "output_type": "stream",
     "text": [
      "y_array.shape: (5000,)\n"
     ]
    }
   ],
   "source": [
    "# Suppose you originally had 1000 trials in y_array\n",
    "# Then you create 5000 augmented samples from those 1000\n",
    "# You must replicate each label 5 times\n",
    "\n",
    "augmented_labels = []\n",
    "for label in y_array:\n",
    "    for _ in range(5):  # or however many sub-trials you have per original\n",
    "        augmented_labels.append(label)\n",
    "\n",
    "y_array = np.array(augmented_labels)\n",
    "print(\"y_array.shape:\", y_array.shape)  # should now be (5000,)\n"
   ]
  },
  {
   "cell_type": "markdown",
   "id": "f091798a",
   "metadata": {},
   "source": [
    "# Creating continuous data from epoched data"
   ]
  },
  {
   "cell_type": "code",
   "execution_count": 384,
   "id": "5d175e64",
   "metadata": {},
   "outputs": [
    {
     "data": {
      "text/plain": [
       "(14, 640000)"
      ]
     },
     "execution_count": 384,
     "metadata": {},
     "output_type": "execute_result"
    }
   ],
   "source": [
    "#creating continuous data from epoched data\n",
    "continuous_data=[]\n",
    "trials=epoched_data.shape[0]\n",
    "channels=epoched_data.shape[1]\n",
    "sample_size=epoched_data.shape[2]\n",
    "for i in range(channels):\n",
    "    continuous_data.append(epoched_data[:,i].reshape(trials*sample_size))\n",
    "continuous_data=np.array(continuous_data)\n",
    "continuous_data.shape\n"
   ]
  },
  {
   "cell_type": "markdown",
   "id": "2323f18c",
   "metadata": {},
   "source": [
    "# Extracting alpha, beta, gamma bands from continuous data"
   ]
  },
  {
   "cell_type": "code",
   "execution_count": 386,
   "id": "cf402e23-e50b-4e2f-9d72-94db59ce8ccf",
   "metadata": {},
   "outputs": [
    {
     "name": "stdout",
     "output_type": "stream",
     "text": [
      "Requirement already satisfied: mne in /opt/anaconda3/lib/python3.12/site-packages (1.9.0)\n",
      "Requirement already satisfied: decorator in /opt/anaconda3/lib/python3.12/site-packages (from mne) (5.1.1)\n",
      "Requirement already satisfied: jinja2 in /opt/anaconda3/lib/python3.12/site-packages (from mne) (3.1.4)\n",
      "Requirement already satisfied: lazy-loader>=0.3 in /opt/anaconda3/lib/python3.12/site-packages (from mne) (0.4)\n",
      "Requirement already satisfied: matplotlib>=3.6 in /opt/anaconda3/lib/python3.12/site-packages (from mne) (3.9.2)\n",
      "Requirement already satisfied: numpy<3,>=1.23 in /opt/anaconda3/lib/python3.12/site-packages (from mne) (1.26.4)\n",
      "Requirement already satisfied: packaging in /opt/anaconda3/lib/python3.12/site-packages (from mne) (24.1)\n",
      "Requirement already satisfied: pooch>=1.5 in /opt/anaconda3/lib/python3.12/site-packages (from mne) (1.8.2)\n",
      "Requirement already satisfied: scipy>=1.9 in /opt/anaconda3/lib/python3.12/site-packages (from mne) (1.13.1)\n",
      "Requirement already satisfied: tqdm in /opt/anaconda3/lib/python3.12/site-packages (from mne) (4.66.5)\n",
      "Requirement already satisfied: contourpy>=1.0.1 in /opt/anaconda3/lib/python3.12/site-packages (from matplotlib>=3.6->mne) (1.2.0)\n",
      "Requirement already satisfied: cycler>=0.10 in /opt/anaconda3/lib/python3.12/site-packages (from matplotlib>=3.6->mne) (0.11.0)\n",
      "Requirement already satisfied: fonttools>=4.22.0 in /opt/anaconda3/lib/python3.12/site-packages (from matplotlib>=3.6->mne) (4.51.0)\n",
      "Requirement already satisfied: kiwisolver>=1.3.1 in /opt/anaconda3/lib/python3.12/site-packages (from matplotlib>=3.6->mne) (1.4.4)\n",
      "Requirement already satisfied: pillow>=8 in /opt/anaconda3/lib/python3.12/site-packages (from matplotlib>=3.6->mne) (10.4.0)\n",
      "Requirement already satisfied: pyparsing>=2.3.1 in /opt/anaconda3/lib/python3.12/site-packages (from matplotlib>=3.6->mne) (3.1.2)\n",
      "Requirement already satisfied: python-dateutil>=2.7 in /opt/anaconda3/lib/python3.12/site-packages (from matplotlib>=3.6->mne) (2.9.0.post0)\n",
      "Requirement already satisfied: platformdirs>=2.5.0 in /opt/anaconda3/lib/python3.12/site-packages (from pooch>=1.5->mne) (3.10.0)\n",
      "Requirement already satisfied: requests>=2.19.0 in /opt/anaconda3/lib/python3.12/site-packages (from pooch>=1.5->mne) (2.32.3)\n",
      "Requirement already satisfied: MarkupSafe>=2.0 in /opt/anaconda3/lib/python3.12/site-packages (from jinja2->mne) (2.1.3)\n",
      "Requirement already satisfied: six>=1.5 in /opt/anaconda3/lib/python3.12/site-packages (from python-dateutil>=2.7->matplotlib>=3.6->mne) (1.16.0)\n",
      "Requirement already satisfied: charset-normalizer<4,>=2 in /opt/anaconda3/lib/python3.12/site-packages (from requests>=2.19.0->pooch>=1.5->mne) (3.3.2)\n",
      "Requirement already satisfied: idna<4,>=2.5 in /opt/anaconda3/lib/python3.12/site-packages (from requests>=2.19.0->pooch>=1.5->mne) (3.7)\n",
      "Requirement already satisfied: urllib3<3,>=1.21.1 in /opt/anaconda3/lib/python3.12/site-packages (from requests>=2.19.0->pooch>=1.5->mne) (2.2.3)\n",
      "Requirement already satisfied: certifi>=2017.4.17 in /opt/anaconda3/lib/python3.12/site-packages (from requests>=2.19.0->pooch>=1.5->mne) (2025.1.31)\n",
      "Note: you may need to restart the kernel to use updated packages.\n"
     ]
    }
   ],
   "source": [
    "pip install mne"
   ]
  },
  {
   "cell_type": "code",
   "execution_count": 387,
   "id": "e9bb5da7",
   "metadata": {},
   "outputs": [
    {
     "name": "stdout",
     "output_type": "stream",
     "text": [
      "Creating RawArray with float64 data, n_channels=14, n_times=640000\n",
      "    Range : 0 ... 639999 =      0.000 ...  4999.992 secs\n",
      "Ready.\n"
     ]
    },
    {
     "data": {
      "image/png": "[encoded data removed]",
      "text/plain": [
       "<MNEBrowseFigure size 800x800 with 4 Axes>"
      ]
     },
     "metadata": {},
     "output_type": "display_data"
    }
   ],
   "source": [
    "import mne\n",
    "sfreq=128\n",
    "ch_names=[\"F3\",\"FC5\",\"AF3\",\"F7\",\"T7\",\"P7\",\"O1\",\"O2\",\"P8\",\"T8\",\"F8\",\"AF4\",\"FC6\",\"F4\"] \n",
    "info=mne.create_info(ch_names,sfreq=sfreq)\n",
    "raw=mne.io.RawArray(continuous_data,info)\n",
    "raw.plot(scalings = 'auto');"
   ]
  },
  {
   "cell_type": "markdown",
   "id": "ee1d4d89",
   "metadata": {},
   "source": [
    "# Filtering and downsampling"
   ]
  },
  {
   "cell_type": "markdown",
   "id": "4b70ac30",
   "metadata": {},
   "source": [
    "Plotting Power Spectral Density"
   ]
  },
  {
   "cell_type": "code",
   "execution_count": 390,
   "id": "5878ceb9",
   "metadata": {
    "scrolled": true
   },
   "outputs": [],
   "source": [
    "# fig=raw.plot_psd(tmax=np.inf,average=True,picks='all')"
   ]
  },
  {
   "cell_type": "markdown",
   "id": "0df976f6",
   "metadata": {},
   "source": [
    "Filtering"
   ]
  },
  {
   "cell_type": "code",
   "execution_count": 392,
   "id": "264b6fff",
   "metadata": {},
   "outputs": [
    {
     "name": "stdout",
     "output_type": "stream",
     "text": [
      "Filtering raw data in 1 contiguous segment\n",
      "Setting up band-stop filter from 59 - 61 Hz\n",
      "\n",
      "FIR filter parameters\n",
      "---------------------\n",
      "Designing a one-pass, zero-phase, non-causal bandstop filter:\n",
      "- Windowed time-domain design (firwin) method\n",
      "- Hamming window with 0.0194 passband ripple and 53 dB stopband attenuation\n",
      "- Lower passband edge: 59.35\n",
      "- Lower transition bandwidth: 0.50 Hz (-6 dB cutoff frequency: 59.10 Hz)\n",
      "- Upper passband edge: 60.65 Hz\n",
      "- Upper transition bandwidth: 0.50 Hz (-6 dB cutoff frequency: 60.90 Hz)\n",
      "- Filter length: 845 samples (6.602 s)\n",
      "\n"
     ]
    },
    {
     "data": {
      "text/html": [
       "<script type=\"text/javascript\">\n",
       "    // must be `var` (not `const`) because this can get embedded multiple times on a page\n",
       "var toggleVisibility = (className) => {\n",
       "\n",
       "    const elements = document.querySelectorAll(`.${className}`);\n",
       "\n",
       "    elements.forEach(element => {\n",
       "        if (element.classList.contains(\"mne-repr-section-header\")) {\n",
       "            return  // Don't collapse the section header row\n",
       "        }\n",
       "        element.classList.toggle(\"mne-repr-collapsed\");\n",
       "    });\n",
       "\n",
       "    // trigger caret to rotate\n",
       "    var sel = `.mne-repr-section-header.${className} > th.mne-repr-section-toggle > button`;\n",
       "    const button = document.querySelector(sel);\n",
       "    button.classList.toggle(\"collapsed\");\n",
       "\n",
       "    // adjust tooltip\n",
       "    sel = `tr.mne-repr-section-header.${className}`;\n",
       "    const secHeadRow = document.querySelector(sel);\n",
       "    secHeadRow.classList.toggle(\"collapsed\");\n",
       "    secHeadRow.title = secHeadRow.title === \"Hide section\" ? \"Show section\" : \"Hide section\";\n",
       "}\n",
       "</script>\n",
       "\n",
       "<style type=\"text/css\">\n",
       "    /*\n",
       "Styles in this section apply both to the sphinx-built website docs and to notebooks\n",
       "rendered in an IDE or in Jupyter. In our web docs, styles here are complemented by\n",
       "doc/_static/styles.css and other CSS files (e.g. from the sphinx theme, sphinx-gallery,\n",
       "or bootstrap). In IDEs/Jupyter, those style files are unavailable, so only the rules in\n",
       "this file apply (plus whatever default styling the IDE applies).\n",
       "*/\n",
       ".mne-repr-table {\n",
       "    display: inline;  /* prevent using full container width */\n",
       "}\n",
       ".mne-repr-table tr.mne-repr-section-header > th {\n",
       "    padding-top: 1rem;\n",
       "    text-align: left;\n",
       "    vertical-align: middle;\n",
       "}\n",
       ".mne-repr-section-toggle > button {\n",
       "    all: unset;\n",
       "    display: block;\n",
       "    height: 1rem;\n",
       "    width: 1rem;\n",
       "}\n",
       ".mne-repr-section-toggle > button > svg {\n",
       "    height: 60%;\n",
       "}\n",
       "\n",
       "/* transition (rotation) effects on the collapser button */\n",
       ".mne-repr-section-toggle > button.collapsed > svg {\n",
       "    transition: 0.1s ease-out;\n",
       "    transform: rotate(-90deg);\n",
       "}\n",
       ".mne-repr-section-toggle > button:not(.collapsed) > svg {\n",
       "    transition: 0.1s ease-out;\n",
       "    transform: rotate(0deg);\n",
       "}\n",
       "\n",
       "/* hide collapsed table rows */\n",
       ".mne-repr-collapsed {\n",
       "    display: none;\n",
       "}\n",
       "\n",
       "\n",
       "@layer {\n",
       "    /*\n",
       "    Selectors in a `@layer` will always be lower-precedence than selectors outside the\n",
       "    layer. So even though e.g. `div.output_html` is present in the sphinx-rendered\n",
       "    website docs, the styles here won't take effect there as long as some other rule\n",
       "    somewhere in the page's CSS targets the same element.\n",
       "\n",
       "    In IDEs or Jupyter notebooks, though, the CSS files from the sphinx theme,\n",
       "    sphinx-gallery, and bootstrap are unavailable, so these styles will apply.\n",
       "\n",
       "    Notes:\n",
       "\n",
       "    - the selector `.accordion-body` is for MNE Reports\n",
       "    - the selector `.output_html` is for VSCode's notebook interface\n",
       "    - the selector `.jp-RenderedHTML` is for Jupyter notebook\n",
       "    - variables starting with `--theme-` are VSCode-specific.\n",
       "    - variables starting with `--jp-` are Jupyter styles, *some of which* are also\n",
       "      available in VSCode. Here we try the `--theme-` variable first, then fall back to\n",
       "      the `--jp-` ones.\n",
       "    */\n",
       "    .mne-repr-table {\n",
       "        --mne-toggle-color: var(--theme-foreground, var(--jp-ui-font-color1));\n",
       "        --mne-button-bg-color: var(--theme-button-background, var(--jp-info-color0, var(--jp-content-link-color)));\n",
       "        --mne-button-fg-color: var(--theme-button-foreground, var(--jp-ui-inverse-font-color0, var(--jp-editor-background)));\n",
       "        --mne-button-hover-bg-color: var(--theme-button-hover-background, var(--jp-info-color1));\n",
       "        --mne-button-radius: var(--jp-border-radius, 0.25rem);\n",
       "    }\n",
       "    /* chevron position/alignment; in VSCode it looks ok without adjusting */\n",
       "    .accordion-body .mne-repr-section-toggle > button,\n",
       "    .jp-RenderedHTML .mne-repr-section-toggle > button {\n",
       "        padding: 0 0 45% 25% !important;\n",
       "    }\n",
       "    /* chevron color; MNE Report doesn't have light/dark mode */\n",
       "    div.output_html .mne-repr-section-toggle > button > svg > path,\n",
       "    .jp-RenderedHTML .mne-repr-section-toggle > button > svg > path {\n",
       "        fill: var(--mne-toggle-color);\n",
       "    }\n",
       "    .accordion-body .mne-ch-names-btn,\n",
       "    div.output_html .mne-ch-names-btn,\n",
       "    .jp-RenderedHTML .mne-ch-names-btn {\n",
       "        -webkit-border-radius: var(--mne-button-radius);\n",
       "        -moz-border-radius: var(--mne-button-radius);\n",
       "        border-radius: var(--mne-button-radius);\n",
       "        border: none;\n",
       "        background-image: none;\n",
       "        background-color: var(--mne-button-bg-color);\n",
       "        color: var(--mne-button-fg-color);\n",
       "        font-size: inherit;\n",
       "        min-width: 1.5rem;\n",
       "        padding: 0.25rem;\n",
       "        text-align: center;\n",
       "        text-decoration: none;\n",
       "    }\n",
       "    .accordion-body .mne-ch-names-btn:hover,\n",
       "    div.output_html .mne.ch-names-btn:hover,\n",
       "    .jp-RenderedHTML .mne-ch-names-btn:hover {\n",
       "        background-color: var(--mne-button-hover-bg-color);\n",
       "        text-decoration: underline;\n",
       "    }\n",
       "    .accordion-body .mne-ch-names-btn:focus-visible,\n",
       "    div.output_html .mne-ch-names-btn:focus-visible,\n",
       "    .jp-RenderedHTML .mne-ch-names-btn:focus-visible {\n",
       "        outline: 0.1875rem solid var(--mne-button-bg-color) !important;\n",
       "        outline-offset: 0.1875rem !important;\n",
       "    }\n",
       "}\n",
       "</style>\n",
       "\n",
       "\n",
       "\n",
       "<table class=\"table mne-repr-table\">\n",
       "    \n",
       "\n",
       "\n",
       "\n",
       "\n",
       "\n",
       "\n",
       "\n",
       "<tr class=\"mne-repr-section-header general-215735af-c401-4e54-9218-27677f778606\"\n",
       "     title=\"Hide section\" \n",
       "    onclick=\"toggleVisibility('general-215735af-c401-4e54-9218-27677f778606')\">\n",
       "    <th class=\"mne-repr-section-toggle\">\n",
       "        <button >\n",
       "            <svg xmlns=\"http://www.w3.org/2000/svg\" viewBox=\"0 0 512 512\"><!--!Font Awesome Free 6.6.0 by @fontawesome - https://fontawesome.com License - https://fontawesome.com/license/free Copyright 2024 Fonticons, Inc.--><path d=\"M233.4 406.6c12.5 12.5 32.8 12.5 45.3 0l192-192c12.5-12.5 12.5-32.8 0-45.3s-32.8-12.5-45.3 0L256 338.7 86.6 169.4c-12.5-12.5-32.8-12.5-45.3 0s-12.5 32.8 0 45.3l192 192z\"/></svg>\n",
       "        </button>\n",
       "    </th>\n",
       "    <th colspan=\"2\">\n",
       "        <strong>General</strong>\n",
       "    </th>\n",
       "</tr>\n",
       "\n",
       "\n",
       "<tr class=\"repr-element general-215735af-c401-4e54-9218-27677f778606 \">\n",
       "    <td class=\"mne-repr-section-toggle\"></td>\n",
       "    <td>MNE object type</td>\n",
       "    <td>RawArray</td>\n",
       "</tr>\n",
       "<tr class=\"repr-element general-215735af-c401-4e54-9218-27677f778606 \">\n",
       "    <td class=\"mne-repr-section-toggle\"></td>\n",
       "    <td>Measurement date</td>\n",
       "    \n",
       "    <td>Unknown</td>\n",
       "    \n",
       "</tr>\n",
       "<tr class=\"repr-element general-215735af-c401-4e54-9218-27677f778606 \">\n",
       "    <td class=\"mne-repr-section-toggle\"></td>\n",
       "    <td>Participant</td>\n",
       "    \n",
       "    <td>Unknown</td>\n",
       "    \n",
       "</tr>\n",
       "<tr class=\"repr-element general-215735af-c401-4e54-9218-27677f778606 \">\n",
       "    <td class=\"mne-repr-section-toggle\"></td>\n",
       "    <td>Experimenter</td>\n",
       "    \n",
       "    <td>Unknown</td>\n",
       "    \n",
       "</tr>\n",
       "    \n",
       "\n",
       "\n",
       "\n",
       "\n",
       "\n",
       "\n",
       "\n",
       "<tr class=\"mne-repr-section-header acquisition-8e3a6350-5103-4eec-a792-6db475932ab3\"\n",
       "     title=\"Hide section\" \n",
       "    onclick=\"toggleVisibility('acquisition-8e3a6350-5103-4eec-a792-6db475932ab3')\">\n",
       "    <th class=\"mne-repr-section-toggle\">\n",
       "        <button >\n",
       "            <svg xmlns=\"http://www.w3.org/2000/svg\" viewBox=\"0 0 512 512\"><!--!Font Awesome Free 6.6.0 by @fontawesome - https://fontawesome.com License - https://fontawesome.com/license/free Copyright 2024 Fonticons, Inc.--><path d=\"M233.4 406.6c12.5 12.5 32.8 12.5 45.3 0l192-192c12.5-12.5 12.5-32.8 0-45.3s-32.8-12.5-45.3 0L256 338.7 86.6 169.4c-12.5-12.5-32.8-12.5-45.3 0s-12.5 32.8 0 45.3l192 192z\"/></svg>\n",
       "        </button>\n",
       "    </th>\n",
       "    <th colspan=\"2\">\n",
       "        <strong>Acquisition</strong>\n",
       "    </th>\n",
       "</tr>\n",
       "\n",
       "\n",
       "<tr class=\"repr-element acquisition-8e3a6350-5103-4eec-a792-6db475932ab3 \">\n",
       "    <td class=\"mne-repr-section-toggle\"></td>\n",
       "    <td>Duration</td>\n",
       "    <td>01:23:20 (HH:MM:SS)</td>\n",
       "</tr>\n",
       "\n",
       "\n",
       "\n",
       "\n",
       "\n",
       "\n",
       "\n",
       "\n",
       "<tr class=\"repr-element acquisition-8e3a6350-5103-4eec-a792-6db475932ab3 \">\n",
       "    <td class=\"mne-repr-section-toggle\"></td>\n",
       "    <td>Sampling frequency</td>\n",
       "    <td>128.00 Hz</td>\n",
       "</tr>\n",
       "\n",
       "\n",
       "<tr class=\"repr-element acquisition-8e3a6350-5103-4eec-a792-6db475932ab3 \">\n",
       "    <td class=\"mne-repr-section-toggle\"></td>\n",
       "    <td>Time points</td>\n",
       "    <td>640,000</td>\n",
       "</tr>\n",
       "\n",
       "\n",
       "    \n",
       "\n",
       "\n",
       "\n",
       "\n",
       "\n",
       "\n",
       "\n",
       "<tr class=\"mne-repr-section-header channels-f1f41445-c905-44e5-b94a-3a512c6f98b8\"\n",
       "     title=\"Hide section\" \n",
       "    onclick=\"toggleVisibility('channels-f1f41445-c905-44e5-b94a-3a512c6f98b8')\">\n",
       "    <th class=\"mne-repr-section-toggle\">\n",
       "        <button >\n",
       "            <svg xmlns=\"http://www.w3.org/2000/svg\" viewBox=\"0 0 512 512\"><!--!Font Awesome Free 6.6.0 by @fontawesome - https://fontawesome.com License - https://fontawesome.com/license/free Copyright 2024 Fonticons, Inc.--><path d=\"M233.4 406.6c12.5 12.5 32.8 12.5 45.3 0l192-192c12.5-12.5 12.5-32.8 0-45.3s-32.8-12.5-45.3 0L256 338.7 86.6 169.4c-12.5-12.5-32.8-12.5-45.3 0s-12.5 32.8 0 45.3l192 192z\"/></svg>\n",
       "        </button>\n",
       "    </th>\n",
       "    <th colspan=\"2\">\n",
       "        <strong>Channels</strong>\n",
       "    </th>\n",
       "</tr>\n",
       "\n",
       "\n",
       "    \n",
       "<tr class=\"repr-element channels-f1f41445-c905-44e5-b94a-3a512c6f98b8 \">\n",
       "    <td class=\"mne-repr-section-toggle\"></td>\n",
       "    <td>misc</td>\n",
       "    <td>\n",
       "        <button class=\"mne-ch-names-btn sd-sphinx-override sd-btn sd-btn-info sd-text-wrap sd-shadow-sm\" onclick=\"alert('Good misc:\\n\\nF3, FC5, AF3, F7, T7, P7, O1, O2, P8, T8, F8, AF4, FC6, F4')\" title=\"(Click to open in popup)&#13;&#13;F3, FC5, AF3, F7, T7, P7, O1, O2, P8, T8, F8, AF4, FC6, F4\">\n",
       "            14\n",
       "        </button>\n",
       "\n",
       "        \n",
       "    </td>\n",
       "</tr>\n",
       "\n",
       "\n",
       "<tr class=\"repr-element channels-f1f41445-c905-44e5-b94a-3a512c6f98b8 \">\n",
       "    <td class=\"mne-repr-section-toggle\"></td>\n",
       "    <td>Head & sensor digitization</td>\n",
       "    \n",
       "    <td>Not available</td>\n",
       "    \n",
       "</tr>\n",
       "    \n",
       "\n",
       "\n",
       "\n",
       "\n",
       "\n",
       "\n",
       "\n",
       "<tr class=\"mne-repr-section-header filters-eb89d16b-e516-4e13-8c80-77787b441d92\"\n",
       "     title=\"Hide section\" \n",
       "    onclick=\"toggleVisibility('filters-eb89d16b-e516-4e13-8c80-77787b441d92')\">\n",
       "    <th class=\"mne-repr-section-toggle\">\n",
       "        <button >\n",
       "            <svg xmlns=\"http://www.w3.org/2000/svg\" viewBox=\"0 0 512 512\"><!--!Font Awesome Free 6.6.0 by @fontawesome - https://fontawesome.com License - https://fontawesome.com/license/free Copyright 2024 Fonticons, Inc.--><path d=\"M233.4 406.6c12.5 12.5 32.8 12.5 45.3 0l192-192c12.5-12.5 12.5-32.8 0-45.3s-32.8-12.5-45.3 0L256 338.7 86.6 169.4c-12.5-12.5-32.8-12.5-45.3 0s-12.5 32.8 0 45.3l192 192z\"/></svg>\n",
       "        </button>\n",
       "    </th>\n",
       "    <th colspan=\"2\">\n",
       "        <strong>Filters</strong>\n",
       "    </th>\n",
       "</tr>\n",
       "\n",
       "\n",
       "<tr class=\"repr-element filters-eb89d16b-e516-4e13-8c80-77787b441d92 \">\n",
       "    <td class=\"mne-repr-section-toggle\"></td>\n",
       "    <td>Highpass</td>\n",
       "    <td>0.00 Hz</td>\n",
       "</tr>\n",
       "\n",
       "\n",
       "<tr class=\"repr-element filters-eb89d16b-e516-4e13-8c80-77787b441d92 \">\n",
       "    <td class=\"mne-repr-section-toggle\"></td>\n",
       "    <td>Lowpass</td>\n",
       "    <td>64.00 Hz</td>\n",
       "</tr>\n",
       "\n",
       "\n",
       "</table>"
      ],
      "text/plain": [
       "<RawArray | 14 x 640000 (5000.0 s), ~68.4 MiB, data loaded>"
      ]
     },
     "execution_count": 392,
     "metadata": {},
     "output_type": "execute_result"
    }
   ],
   "source": [
    "raw.notch_filter(60,picks='all')"
   ]
  },
  {
   "cell_type": "markdown",
   "id": "be1cdeff",
   "metadata": {},
   "source": [
    "Downsampling"
   ]
  },
  {
   "cell_type": "code",
   "execution_count": 394,
   "id": "29182b5d",
   "metadata": {},
   "outputs": [
    {
     "data": {
      "text/html": [
       "<script type=\"text/javascript\">\n",
       "    // must be `var` (not `const`) because this can get embedded multiple times on a page\n",
       "var toggleVisibility = (className) => {\n",
       "\n",
       "    const elements = document.querySelectorAll(`.${className}`);\n",
       "\n",
       "    elements.forEach(element => {\n",
       "        if (element.classList.contains(\"mne-repr-section-header\")) {\n",
       "            return  // Don't collapse the section header row\n",
       "        }\n",
       "        element.classList.toggle(\"mne-repr-collapsed\");\n",
       "    });\n",
       "\n",
       "    // trigger caret to rotate\n",
       "    var sel = `.mne-repr-section-header.${className} > th.mne-repr-section-toggle > button`;\n",
       "    const button = document.querySelector(sel);\n",
       "    button.classList.toggle(\"collapsed\");\n",
       "\n",
       "    // adjust tooltip\n",
       "    sel = `tr.mne-repr-section-header.${className}`;\n",
       "    const secHeadRow = document.querySelector(sel);\n",
       "    secHeadRow.classList.toggle(\"collapsed\");\n",
       "    secHeadRow.title = secHeadRow.title === \"Hide section\" ? \"Show section\" : \"Hide section\";\n",
       "}\n",
       "</script>\n",
       "\n",
       "<style type=\"text/css\">\n",
       "    /*\n",
       "Styles in this section apply both to the sphinx-built website docs and to notebooks\n",
       "rendered in an IDE or in Jupyter. In our web docs, styles here are complemented by\n",
       "doc/_static/styles.css and other CSS files (e.g. from the sphinx theme, sphinx-gallery,\n",
       "or bootstrap). In IDEs/Jupyter, those style files are unavailable, so only the rules in\n",
       "this file apply (plus whatever default styling the IDE applies).\n",
       "*/\n",
       ".mne-repr-table {\n",
       "    display: inline;  /* prevent using full container width */\n",
       "}\n",
       ".mne-repr-table tr.mne-repr-section-header > th {\n",
       "    padding-top: 1rem;\n",
       "    text-align: left;\n",
       "    vertical-align: middle;\n",
       "}\n",
       ".mne-repr-section-toggle > button {\n",
       "    all: unset;\n",
       "    display: block;\n",
       "    height: 1rem;\n",
       "    width: 1rem;\n",
       "}\n",
       ".mne-repr-section-toggle > button > svg {\n",
       "    height: 60%;\n",
       "}\n",
       "\n",
       "/* transition (rotation) effects on the collapser button */\n",
       ".mne-repr-section-toggle > button.collapsed > svg {\n",
       "    transition: 0.1s ease-out;\n",
       "    transform: rotate(-90deg);\n",
       "}\n",
       ".mne-repr-section-toggle > button:not(.collapsed) > svg {\n",
       "    transition: 0.1s ease-out;\n",
       "    transform: rotate(0deg);\n",
       "}\n",
       "\n",
       "/* hide collapsed table rows */\n",
       ".mne-repr-collapsed {\n",
       "    display: none;\n",
       "}\n",
       "\n",
       "\n",
       "@layer {\n",
       "    /*\n",
       "    Selectors in a `@layer` will always be lower-precedence than selectors outside the\n",
       "    layer. So even though e.g. `div.output_html` is present in the sphinx-rendered\n",
       "    website docs, the styles here won't take effect there as long as some other rule\n",
       "    somewhere in the page's CSS targets the same element.\n",
       "\n",
       "    In IDEs or Jupyter notebooks, though, the CSS files from the sphinx theme,\n",
       "    sphinx-gallery, and bootstrap are unavailable, so these styles will apply.\n",
       "\n",
       "    Notes:\n",
       "\n",
       "    - the selector `.accordion-body` is for MNE Reports\n",
       "    - the selector `.output_html` is for VSCode's notebook interface\n",
       "    - the selector `.jp-RenderedHTML` is for Jupyter notebook\n",
       "    - variables starting with `--theme-` are VSCode-specific.\n",
       "    - variables starting with `--jp-` are Jupyter styles, *some of which* are also\n",
       "      available in VSCode. Here we try the `--theme-` variable first, then fall back to\n",
       "      the `--jp-` ones.\n",
       "    */\n",
       "    .mne-repr-table {\n",
       "        --mne-toggle-color: var(--theme-foreground, var(--jp-ui-font-color1));\n",
       "        --mne-button-bg-color: var(--theme-button-background, var(--jp-info-color0, var(--jp-content-link-color)));\n",
       "        --mne-button-fg-color: var(--theme-button-foreground, var(--jp-ui-inverse-font-color0, var(--jp-editor-background)));\n",
       "        --mne-button-hover-bg-color: var(--theme-button-hover-background, var(--jp-info-color1));\n",
       "        --mne-button-radius: var(--jp-border-radius, 0.25rem);\n",
       "    }\n",
       "    /* chevron position/alignment; in VSCode it looks ok without adjusting */\n",
       "    .accordion-body .mne-repr-section-toggle > button,\n",
       "    .jp-RenderedHTML .mne-repr-section-toggle > button {\n",
       "        padding: 0 0 45% 25% !important;\n",
       "    }\n",
       "    /* chevron color; MNE Report doesn't have light/dark mode */\n",
       "    div.output_html .mne-repr-section-toggle > button > svg > path,\n",
       "    .jp-RenderedHTML .mne-repr-section-toggle > button > svg > path {\n",
       "        fill: var(--mne-toggle-color);\n",
       "    }\n",
       "    .accordion-body .mne-ch-names-btn,\n",
       "    div.output_html .mne-ch-names-btn,\n",
       "    .jp-RenderedHTML .mne-ch-names-btn {\n",
       "        -webkit-border-radius: var(--mne-button-radius);\n",
       "        -moz-border-radius: var(--mne-button-radius);\n",
       "        border-radius: var(--mne-button-radius);\n",
       "        border: none;\n",
       "        background-image: none;\n",
       "        background-color: var(--mne-button-bg-color);\n",
       "        color: var(--mne-button-fg-color);\n",
       "        font-size: inherit;\n",
       "        min-width: 1.5rem;\n",
       "        padding: 0.25rem;\n",
       "        text-align: center;\n",
       "        text-decoration: none;\n",
       "    }\n",
       "    .accordion-body .mne-ch-names-btn:hover,\n",
       "    div.output_html .mne.ch-names-btn:hover,\n",
       "    .jp-RenderedHTML .mne-ch-names-btn:hover {\n",
       "        background-color: var(--mne-button-hover-bg-color);\n",
       "        text-decoration: underline;\n",
       "    }\n",
       "    .accordion-body .mne-ch-names-btn:focus-visible,\n",
       "    div.output_html .mne-ch-names-btn:focus-visible,\n",
       "    .jp-RenderedHTML .mne-ch-names-btn:focus-visible {\n",
       "        outline: 0.1875rem solid var(--mne-button-bg-color) !important;\n",
       "        outline-offset: 0.1875rem !important;\n",
       "    }\n",
       "}\n",
       "</style>\n",
       "\n",
       "\n",
       "\n",
       "<table class=\"table mne-repr-table\">\n",
       "    \n",
       "\n",
       "\n",
       "\n",
       "\n",
       "\n",
       "\n",
       "\n",
       "<tr class=\"mne-repr-section-header general-eaebde62-89ae-40b2-862b-6c62e9bdd827\"\n",
       "     title=\"Hide section\" \n",
       "    onclick=\"toggleVisibility('general-eaebde62-89ae-40b2-862b-6c62e9bdd827')\">\n",
       "    <th class=\"mne-repr-section-toggle\">\n",
       "        <button >\n",
       "            <svg xmlns=\"http://www.w3.org/2000/svg\" viewBox=\"0 0 512 512\"><!--!Font Awesome Free 6.6.0 by @fontawesome - https://fontawesome.com License - https://fontawesome.com/license/free Copyright 2024 Fonticons, Inc.--><path d=\"M233.4 406.6c12.5 12.5 32.8 12.5 45.3 0l192-192c12.5-12.5 12.5-32.8 0-45.3s-32.8-12.5-45.3 0L256 338.7 86.6 169.4c-12.5-12.5-32.8-12.5-45.3 0s-12.5 32.8 0 45.3l192 192z\"/></svg>\n",
       "        </button>\n",
       "    </th>\n",
       "    <th colspan=\"2\">\n",
       "        <strong>General</strong>\n",
       "    </th>\n",
       "</tr>\n",
       "\n",
       "\n",
       "<tr class=\"repr-element general-eaebde62-89ae-40b2-862b-6c62e9bdd827 \">\n",
       "    <td class=\"mne-repr-section-toggle\"></td>\n",
       "    <td>MNE object type</td>\n",
       "    <td>RawArray</td>\n",
       "</tr>\n",
       "<tr class=\"repr-element general-eaebde62-89ae-40b2-862b-6c62e9bdd827 \">\n",
       "    <td class=\"mne-repr-section-toggle\"></td>\n",
       "    <td>Measurement date</td>\n",
       "    \n",
       "    <td>Unknown</td>\n",
       "    \n",
       "</tr>\n",
       "<tr class=\"repr-element general-eaebde62-89ae-40b2-862b-6c62e9bdd827 \">\n",
       "    <td class=\"mne-repr-section-toggle\"></td>\n",
       "    <td>Participant</td>\n",
       "    \n",
       "    <td>Unknown</td>\n",
       "    \n",
       "</tr>\n",
       "<tr class=\"repr-element general-eaebde62-89ae-40b2-862b-6c62e9bdd827 \">\n",
       "    <td class=\"mne-repr-section-toggle\"></td>\n",
       "    <td>Experimenter</td>\n",
       "    \n",
       "    <td>Unknown</td>\n",
       "    \n",
       "</tr>\n",
       "    \n",
       "\n",
       "\n",
       "\n",
       "\n",
       "\n",
       "\n",
       "\n",
       "<tr class=\"mne-repr-section-header acquisition-488bf665-1c2c-4258-bb42-901232664124\"\n",
       "     title=\"Hide section\" \n",
       "    onclick=\"toggleVisibility('acquisition-488bf665-1c2c-4258-bb42-901232664124')\">\n",
       "    <th class=\"mne-repr-section-toggle\">\n",
       "        <button >\n",
       "            <svg xmlns=\"http://www.w3.org/2000/svg\" viewBox=\"0 0 512 512\"><!--!Font Awesome Free 6.6.0 by @fontawesome - https://fontawesome.com License - https://fontawesome.com/license/free Copyright 2024 Fonticons, Inc.--><path d=\"M233.4 406.6c12.5 12.5 32.8 12.5 45.3 0l192-192c12.5-12.5 12.5-32.8 0-45.3s-32.8-12.5-45.3 0L256 338.7 86.6 169.4c-12.5-12.5-32.8-12.5-45.3 0s-12.5 32.8 0 45.3l192 192z\"/></svg>\n",
       "        </button>\n",
       "    </th>\n",
       "    <th colspan=\"2\">\n",
       "        <strong>Acquisition</strong>\n",
       "    </th>\n",
       "</tr>\n",
       "\n",
       "\n",
       "<tr class=\"repr-element acquisition-488bf665-1c2c-4258-bb42-901232664124 \">\n",
       "    <td class=\"mne-repr-section-toggle\"></td>\n",
       "    <td>Duration</td>\n",
       "    <td>01:23:20 (HH:MM:SS)</td>\n",
       "</tr>\n",
       "\n",
       "\n",
       "\n",
       "\n",
       "\n",
       "\n",
       "\n",
       "\n",
       "<tr class=\"repr-element acquisition-488bf665-1c2c-4258-bb42-901232664124 \">\n",
       "    <td class=\"mne-repr-section-toggle\"></td>\n",
       "    <td>Sampling frequency</td>\n",
       "    <td>120.00 Hz</td>\n",
       "</tr>\n",
       "\n",
       "\n",
       "<tr class=\"repr-element acquisition-488bf665-1c2c-4258-bb42-901232664124 \">\n",
       "    <td class=\"mne-repr-section-toggle\"></td>\n",
       "    <td>Time points</td>\n",
       "    <td>600,000</td>\n",
       "</tr>\n",
       "\n",
       "\n",
       "    \n",
       "\n",
       "\n",
       "\n",
       "\n",
       "\n",
       "\n",
       "\n",
       "<tr class=\"mne-repr-section-header channels-c82b3cdb-1dbe-4d50-9d5a-f3837e780a1b\"\n",
       "     title=\"Hide section\" \n",
       "    onclick=\"toggleVisibility('channels-c82b3cdb-1dbe-4d50-9d5a-f3837e780a1b')\">\n",
       "    <th class=\"mne-repr-section-toggle\">\n",
       "        <button >\n",
       "            <svg xmlns=\"http://www.w3.org/2000/svg\" viewBox=\"0 0 512 512\"><!--!Font Awesome Free 6.6.0 by @fontawesome - https://fontawesome.com License - https://fontawesome.com/license/free Copyright 2024 Fonticons, Inc.--><path d=\"M233.4 406.6c12.5 12.5 32.8 12.5 45.3 0l192-192c12.5-12.5 12.5-32.8 0-45.3s-32.8-12.5-45.3 0L256 338.7 86.6 169.4c-12.5-12.5-32.8-12.5-45.3 0s-12.5 32.8 0 45.3l192 192z\"/></svg>\n",
       "        </button>\n",
       "    </th>\n",
       "    <th colspan=\"2\">\n",
       "        <strong>Channels</strong>\n",
       "    </th>\n",
       "</tr>\n",
       "\n",
       "\n",
       "    \n",
       "<tr class=\"repr-element channels-c82b3cdb-1dbe-4d50-9d5a-f3837e780a1b \">\n",
       "    <td class=\"mne-repr-section-toggle\"></td>\n",
       "    <td>misc</td>\n",
       "    <td>\n",
       "        <button class=\"mne-ch-names-btn sd-sphinx-override sd-btn sd-btn-info sd-text-wrap sd-shadow-sm\" onclick=\"alert('Good misc:\\n\\nF3, FC5, AF3, F7, T7, P7, O1, O2, P8, T8, F8, AF4, FC6, F4')\" title=\"(Click to open in popup)&#13;&#13;F3, FC5, AF3, F7, T7, P7, O1, O2, P8, T8, F8, AF4, FC6, F4\">\n",
       "            14\n",
       "        </button>\n",
       "\n",
       "        \n",
       "    </td>\n",
       "</tr>\n",
       "\n",
       "\n",
       "<tr class=\"repr-element channels-c82b3cdb-1dbe-4d50-9d5a-f3837e780a1b \">\n",
       "    <td class=\"mne-repr-section-toggle\"></td>\n",
       "    <td>Head & sensor digitization</td>\n",
       "    \n",
       "    <td>Not available</td>\n",
       "    \n",
       "</tr>\n",
       "    \n",
       "\n",
       "\n",
       "\n",
       "\n",
       "\n",
       "\n",
       "\n",
       "<tr class=\"mne-repr-section-header filters-e0072b62-2e6f-4773-8cf2-9d8d6180a6a7\"\n",
       "     title=\"Hide section\" \n",
       "    onclick=\"toggleVisibility('filters-e0072b62-2e6f-4773-8cf2-9d8d6180a6a7')\">\n",
       "    <th class=\"mne-repr-section-toggle\">\n",
       "        <button >\n",
       "            <svg xmlns=\"http://www.w3.org/2000/svg\" viewBox=\"0 0 512 512\"><!--!Font Awesome Free 6.6.0 by @fontawesome - https://fontawesome.com License - https://fontawesome.com/license/free Copyright 2024 Fonticons, Inc.--><path d=\"M233.4 406.6c12.5 12.5 32.8 12.5 45.3 0l192-192c12.5-12.5 12.5-32.8 0-45.3s-32.8-12.5-45.3 0L256 338.7 86.6 169.4c-12.5-12.5-32.8-12.5-45.3 0s-12.5 32.8 0 45.3l192 192z\"/></svg>\n",
       "        </button>\n",
       "    </th>\n",
       "    <th colspan=\"2\">\n",
       "        <strong>Filters</strong>\n",
       "    </th>\n",
       "</tr>\n",
       "\n",
       "\n",
       "<tr class=\"repr-element filters-e0072b62-2e6f-4773-8cf2-9d8d6180a6a7 \">\n",
       "    <td class=\"mne-repr-section-toggle\"></td>\n",
       "    <td>Highpass</td>\n",
       "    <td>0.00 Hz</td>\n",
       "</tr>\n",
       "\n",
       "\n",
       "<tr class=\"repr-element filters-e0072b62-2e6f-4773-8cf2-9d8d6180a6a7 \">\n",
       "    <td class=\"mne-repr-section-toggle\"></td>\n",
       "    <td>Lowpass</td>\n",
       "    <td>60.00 Hz</td>\n",
       "</tr>\n",
       "\n",
       "\n",
       "</table>"
      ],
      "text/plain": [
       "<RawArray | 14 x 600000 (5000.0 s), ~64.1 MiB, data loaded>"
      ]
     },
     "execution_count": 394,
     "metadata": {},
     "output_type": "execute_result"
    }
   ],
   "source": [
    "# Downsample a lot\n",
    "raw.resample(120, npad='auto')\n",
    "# raw.compute_psd().plot(tmin=0, tmax=30, fmin=2, fmax=60, average=True, spatial_colors=False,picks='all');\n",
    "# Notice that the max plotted frequency is 60, the nyquist rate!"
   ]
  },
  {
   "cell_type": "code",
   "execution_count": 395,
   "id": "e60b93e8",
   "metadata": {},
   "outputs": [
    {
     "name": "stdout",
     "output_type": "stream",
     "text": [
      "Setting up band-pass filter from 8 - 12 Hz\n",
      "\n",
      "FIR filter parameters\n",
      "---------------------\n",
      "Designing a one-pass, zero-phase, non-causal bandpass filter:\n",
      "- Windowed time-domain design (firwin) method\n",
      "- Hamming window with 0.0194 passband ripple and 53 dB stopband attenuation\n",
      "- Lower passband edge: 8.00\n",
      "- Lower transition bandwidth: 2.00 Hz (-6 dB cutoff frequency: 7.00 Hz)\n",
      "- Upper passband edge: 12.00 Hz\n",
      "- Upper transition bandwidth: 3.00 Hz (-6 dB cutoff frequency: 13.50 Hz)\n",
      "- Filter length: 213 samples (1.664 s)\n",
      "\n",
      "Setting up band-pass filter from 12 - 30 Hz\n",
      "\n",
      "FIR filter parameters\n",
      "---------------------\n",
      "Designing a one-pass, zero-phase, non-causal bandpass filter:\n",
      "- Windowed time-domain design (firwin) method\n",
      "- Hamming window with 0.0194 passband ripple and 53 dB stopband attenuation\n",
      "- Lower passband edge: 12.00\n",
      "- Lower transition bandwidth: 3.00 Hz (-6 dB cutoff frequency: 10.50 Hz)\n",
      "- Upper passband edge: 30.00 Hz\n",
      "- Upper transition bandwidth: 7.50 Hz (-6 dB cutoff frequency: 33.75 Hz)\n",
      "- Filter length: 141 samples (1.102 s)\n",
      "\n",
      "Setting up band-pass filter from 30 - 50 Hz\n",
      "\n",
      "FIR filter parameters\n",
      "---------------------\n",
      "Designing a one-pass, zero-phase, non-causal bandpass filter:\n",
      "- Windowed time-domain design (firwin) method\n",
      "- Hamming window with 0.0194 passband ripple and 53 dB stopband attenuation\n",
      "- Lower passband edge: 30.00\n",
      "- Lower transition bandwidth: 7.50 Hz (-6 dB cutoff frequency: 26.25 Hz)\n",
      "- Upper passband edge: 50.00 Hz\n",
      "- Upper transition bandwidth: 12.50 Hz (-6 dB cutoff frequency: 56.25 Hz)\n",
      "- Filter length: 57 samples (0.445 s)\n",
      "\n"
     ]
    }
   ],
   "source": [
    "alpha_continuous=mne.filter.filter_data(continuous_data,128,8,12)\n",
    "beta_continuous=mne.filter.filter_data(continuous_data,128,12,30)\n",
    "gamma_continuous=mne.filter.filter_data(continuous_data,128,30,50)"
   ]
  },
  {
   "cell_type": "code",
   "execution_count": 396,
   "id": "6bcf881f",
   "metadata": {},
   "outputs": [
    {
     "data": {
      "text/plain": [
       "(14, 640000)"
      ]
     },
     "execution_count": 396,
     "metadata": {},
     "output_type": "execute_result"
    }
   ],
   "source": [
    "alpha_continuous.shape"
   ]
  },
  {
   "cell_type": "code",
   "execution_count": 397,
   "id": "93a349b3",
   "metadata": {},
   "outputs": [],
   "source": [
    "#epoching all the frequency bands\n",
    "\n",
    "trial_duration=epoched_data.shape[2] #trial duration\n",
    "n=epoched_data.shape[0]\n",
    "alpha_epoched=[]\n",
    "beta_epoched=[]\n",
    "gamma_epoched=[]\n",
    "for i in range(n):\n",
    "    alpha_epoched.append(alpha_continuous[:,i*trial_duration:(i+1)*trial_duration])\n",
    "    beta_epoched.append(beta_continuous[:,i*trial_duration:(i+1)*trial_duration])\n",
    "    gamma_epoched.append(gamma_continuous[:,i*trial_duration:(i+1)*trial_duration])\n",
    "alpha_epoched=np.array(alpha_epoched)\n",
    "beta_epoched=np.array(beta_epoched)\n",
    "gamma_epoched=np.array(gamma_epoched)\n",
    "    "
   ]
  },
  {
   "cell_type": "code",
   "execution_count": 398,
   "id": "63dc211f",
   "metadata": {},
   "outputs": [
    {
     "data": {
      "text/plain": [
       "(5000, 14, 128)"
      ]
     },
     "execution_count": 398,
     "metadata": {},
     "output_type": "execute_result"
    }
   ],
   "source": [
    "alpha_epoched.shape"
   ]
  },
  {
   "cell_type": "markdown",
   "id": "3a1c0dcb",
   "metadata": {},
   "source": [
    "# Feature Extraction Techniques"
   ]
  },
  {
   "cell_type": "markdown",
   "id": "2ecbe507",
   "metadata": {},
   "source": [
    "Type 1"
   ]
  },
  {
   "cell_type": "markdown",
   "id": "9c16a354",
   "metadata": {},
   "source": [
    "Wavelet transform using PyWavelets is used as the first technique. PyWavelets is an open source\n",
    "software used for wavelet transform in python. Retrieved statistical parameters including mean,\n",
    "median, variance, skewness, and kurtosis as well as their first and second derivatives. As a\n",
    "result, a feature vector for each channel is produced, which is then concatenated. The featurees are then standardized by removing the mean and scaling to\n",
    "unit variance."
   ]
  },
  {
   "cell_type": "code",
   "execution_count": 402,
   "id": "3a7d6a0c",
   "metadata": {},
   "outputs": [],
   "source": [
    "from pywt import wavedec\n",
    "coeffs=wavedec(epoched_data,'db2',level=3)"
   ]
  },
  {
   "cell_type": "code",
   "execution_count": 403,
   "id": "e2d56417",
   "metadata": {},
   "outputs": [],
   "source": [
    "def calc_features(arr):\n",
    "    rms=np.sqrt(np.mean(arr**2,axis=2))\n",
    "    var=np.var(arr,axis=2)\n",
    "    kur=scipy.stats.kurtosis(arr,axis=2)\n",
    "    skew=scipy.stats.skew(arr,axis=2)\n",
    "    moment=scipy.stats.moment(arr,moment=3,axis=2)\n",
    "    \n",
    "    res=np.concatenate((rms,var,kur,skew,moment),axis=1)\n",
    "    return res"
   ]
  },
  {
   "cell_type": "code",
   "execution_count": 404,
   "id": "1536867f",
   "metadata": {},
   "outputs": [],
   "source": [
    "coeffs.append(epoched_data)"
   ]
  },
  {
   "cell_type": "code",
   "execution_count": 405,
   "id": "4004201a",
   "metadata": {},
   "outputs": [],
   "source": [
    "res=[]\n",
    "for arr in coeffs:\n",
    "    res.append(calc_features(arr))"
   ]
  },
  {
   "cell_type": "code",
   "execution_count": 406,
   "id": "d4161610",
   "metadata": {},
   "outputs": [],
   "source": [
    "x_array_1=np.concatenate((res[0],res[1],res[2],res[3],res[4]),axis=1)"
   ]
  },
  {
   "cell_type": "code",
   "execution_count": 407,
   "id": "fc4d1722",
   "metadata": {},
   "outputs": [],
   "source": [
    "from sklearn.preprocessing import StandardScaler\n",
    "scaler=StandardScaler()\n",
    "scaler.fit(x_array_1)\n",
    "x_array_1=scaler.transform(x_array_1)"
   ]
  },
  {
   "cell_type": "code",
   "execution_count": 408,
   "id": "c929c247",
   "metadata": {},
   "outputs": [
    {
     "data": {
      "text/plain": [
       "(5000, 350)"
      ]
     },
     "execution_count": 408,
     "metadata": {},
     "output_type": "execute_result"
    }
   ],
   "source": [
    "x_array_1.shape"
   ]
  },
  {
   "cell_type": "markdown",
   "id": "edfca630",
   "metadata": {},
   "source": [
    "Type 2"
   ]
  },
  {
   "cell_type": "markdown",
   "id": "1fc1cd0b",
   "metadata": {},
   "source": [
    "In the second technique, the features,  mean phase coherence (MPC) is extracted along with magnitude-squared coherence (MSC) from the augmented data \\citep{panachakel2021decoding}. MPC between two EEG channels is described as a measure of their phase synchronisation. The mean phase coherence (MPC) between two EEG signals with instantaneous phase difference $\n",
    "    \\phi(t)=\\phi_1(t)-\\phi_2(t)\n",
    "$ can be estimated via,\n",
    "\n",
    "$\n",
    "    \\lambda = \\frac{1}{N}\\Bigg|\\sum_{n=0}^{N-1}e^{j(\\hat{\\phi}_i(n))}\\Bigg|\n",
    "$\n",
    "where $\n",
    "    {(\\hat{\\phi}_i(n))}_{n=0}^{N-1}\n",
    "$ is the estimation of $\n",
    "    \\phi(t)\n",
    "$,\n",
    "where N is the number of samples,and the instantaneous phases are computed using Hilbert transform.\n",
    "Where as, if a pair of signals are in spectral domain, MSC computes the linear relationship between them. Hamming window is used for this process. Let the auto-spectral densities and the cross-spectral density  of $\n",
    "    x(t)\n",
    "$ and $\n",
    "    y(t)\n",
    "$  be denoted by $\n",
    "    P_{xx}(f)\n",
    "$, $\n",
    "    P_{yy}(f)\n",
    "$  and $\n",
    "    P_{xy}(f)\n",
    "$ respectively at frequency f. The MSC between them is given by:\n",
    "\n",
    "$\n",
    "    \\gamma _{xy}^{2} (f) = {{\\left\\vert {P_{xy} (f)} \\right\\vert^{2} } \\over {P_{xx} (f)P_{yy} (f)}} \n",
    "$"
   ]
  },
  {
   "cell_type": "markdown",
   "id": "dc4a94d8",
   "metadata": {},
   "source": [
    "Defining MSC and MPC"
   ]
  },
  {
   "cell_type": "code",
   "execution_count": 412,
   "id": "908e3d8b",
   "metadata": {},
   "outputs": [],
   "source": [
    "#calculation of hilbert array from augmented array\n",
    "from scipy.signal import hilbert\n",
    "from scipy.signal import welch\n",
    "from scipy.signal import csd\n",
    "#Defining magnitude squared coherence\n",
    "import numpy as np\n",
    "from scipy.signal import welch\n",
    "from scipy.signal import csd,coherence\n",
    "def msc(arr1,arr2):\n",
    "    msc=coherence(arr1,arr2,fs=128,window=\"hamm\",nperseg=8)[1]\n",
    "    return np.mean(msc)"
   ]
  },
  {
   "cell_type": "code",
   "execution_count": 413,
   "id": "913d3859",
   "metadata": {},
   "outputs": [],
   "source": [
    "#Defining mean phase coherence\n",
    "from scipy.signal import hilbert\n",
    "import numpy as np\n",
    "def mpc(arr1,arr2):\n",
    "    \n",
    "#     x_m = np.ma.array(arr1, mask=(x==0))\n",
    "#     y_m = np.ma.array(arr2, mask=(y==0))\n",
    "    imag_1=np.imag(hilbert(arr1))\n",
    "    imag_2=np.imag(hilbert(arr2))\n",
    "    phase_1=np.arctan(np.divide(imag_1, arr1, out=np.zeros_like(imag_1), where=arr1!=0))\n",
    "    phase_2=np.arctan(np.divide(imag_2, arr2, out=np.zeros_like(imag_2), where=arr2!=0))\n",
    "#     phase_1=np.arctan(imag_1/arr1)\n",
    "#     phase_2=np.arctan(imag_2/arr2)\n",
    "    phase_diff=(phase_1-phase_2)\n",
    "    mpc=np.linalg.norm(np.sum(np.exp(1j*phase_diff)))/len(arr1)\n",
    "    return mpc"
   ]
  },
  {
   "cell_type": "code",
   "execution_count": 414,
   "id": "a986d5e4",
   "metadata": {},
   "outputs": [
    {
     "name": "stdout",
     "output_type": "stream",
     "text": [
      "(5000, 14, 14)\n"
     ]
    }
   ],
   "source": [
    "n=alpha_epoched.shape[0]\n",
    "m=alpha_epoched.shape[1]\n",
    "l=alpha_epoched.shape[2]\n",
    "\n",
    "mpc_alpha=np.zeros([n,m,m])\n",
    "mpc_beta=np.zeros([n,m,m])\n",
    "mpc_gamma=np.zeros([n,m,m])\n",
    "\n",
    "msc_alpha=np.zeros([n,m,m])\n",
    "msc_beta=np.zeros([n,m,m])\n",
    "msc_gamma=np.zeros([n,m,m])\n",
    "\n",
    "print(mpc_gamma.shape)\n"
   ]
  },
  {
   "cell_type": "code",
   "execution_count": 415,
   "id": "eb9536dd",
   "metadata": {},
   "outputs": [
    {
     "name": "stdout",
     "output_type": "stream",
     "text": [
      "0 1 2 3 4 5 6 7 8 9 10 11 12 13 14 15 16 17 18 19 20 21 22 23 24 25 26 27 28 29 30 31 32 33 34 35 36 37 38 39 40 41 42 43 44 45 46 47 48 49 50 51 52 53 54 55 56 57 58 59 60 61 62 63 64 65 66 67 68 69 70 71 72 73 74 75 76 77 78 79 80 81 82 83 84 85 86 87 88 89 90 91 92 93 94 95 96 97 98 99 100 101 102 103 104 105 106 107 108 109 110 111 112 113 114 115 116 117 118 119 120 121 122 123 124 125 126 127 128 129 130 131 132 133 134 135 136 137 138 139 140 141 142 143 144 145 146 147 148 149 150 151 152 153 154 155 156 157 158 159 160 161 162 163 164 165 166 167 168 169 170 171 172 173 174 175 176 177 178 179 180 181 182 183 184 185 186 187 188 189 190 191 192 193 194 195 196 197 198 199 200 201 202 203 204 205 206 207 208 209 210 211 212 213 214 215 216 217 218 219 220 221 222 223 224 225 226 227 228 229 230 231 232 233 234 235 236 237 238 239 240 241 242 243 244 245 246 247 248 249 250 251 252 253 254 255 256 257 258 259 260 261 262 263 264 265 266 267 268 269 270 271 272 273 274 275 276 277 278 279 280 281 282 283 284 285 286 287 288 289 290 291 292 293 294 295 296 297 298 299 300 301 302 303 304 305 306 307 308 309 310 311 312 313 314 315 316 317 318 319 320 321 322 323 324 325 326 327 328 329 330 331 332 333 334 335 336 337 338 339 340 341 342 343 344 345 346 347 348 349 350 351 352 353 354 355 356 357 358 359 360 361 362 363 364 365 366 367 368 369 370 371 372 373 374 375 376 377 378 379 380 381 382 383 384 385 386 387 388 389 390 391 392 393 394 395 396 397 398 399 400 401 402 403 404 405 406 407 408 409 410 411 412 413 414 415 416 417 418 419 420 421 422 423 424 425 426 427 428 429 430 431 432 433 434 435 436 437 438 439 440 441 442 443 444 445 446 447 448 449 450 451 452 453 454 455 456 457 458 459 460 461 462 463 464 465 466 467 468 469 470 471 472 473 474 475 476 477 478 479 480 481 482 483 484 485 486 487 488 489 490 491 492 493 494 495 496 497 498 499 500 501 502 503 504 505 506 507 508 509 510 511 512 513 514 515 516 517 518 519 520 521 522 523 524 525 526 527 528 529 530 531 532 533 534 535 536 537 538 539 540 541 542 543 544 545 546 547 548 549 550 551 552 553 554 555 556 557 558 559 560 561 562 563 564 565 566 567 568 569 570 571 572 573 574 575 576 577 578 579 580 581 582 583 584 585 586 587 588 589 590 591 592 593 594 595 596 597 598 599 600 601 602 603 604 605 606 607 608 609 610 611 612 613 614 615 616 617 618 619 620 621 622 623 624 625 626 627 628 629 630 631 632 633 634 635 636 637 638 639 640 641 642 643 644 645 646 647 648 649 650 651 652 653 654 655 656 657 658 659 660 661 662 663 664 665 666 667 668 669 670 671 672 673 674 675 676 677 678 679 680 681 682 683 684 685 686 687 688 689 690 691 692 693 694 695 696 697 698 699 700 701 702 703 704 705 706 707 708 709 710 711 712 713 714 715 716 717 718 719 720 721 722 723 724 725 726 727 728 729 730 731 732 733 734 735 736 737 738 739 740 741 742 743 744 745 746 747 748 749 750 751 752 753 754 755 756 757 758 759 760 761 762 763 764 765 766 767 768 769 770 771 772 773 774 775 776 777 778 779 780 781 782 783 784 785 786 787 788 789 790 791 792 793 794 795 796 797 798 799 800 801 802 803 804 805 806 807 808 809 810 811 812 813 814 815 816 817 818 819 820 821 822 823 824 825 826 827 828 829 830 831 832 833 834 835 836 837 838 839 840 841 842 843 844 845 846 847 848 849 850 851 852 853 854 855 856 857 858 859 860 861 862 863 864 865 866 867 868 869 870 871 872 873 874 875 876 877 878 879 880 881 882 883 884 885 886 887 888 889 890 891 892 893 894 895 896 897 898 899 900 901 902 903 904 905 906 907 908 909 910 911 912 913 914 915 916 917 918 919 920 921 922 923 924 925 926 927 928 929 930 931 932 933 934 935 936 937 938 939 940 941 942 943 944 945 946 947 948 949 950 951 952 953 954 955 956 957 958 959 960 961 962 963 964 965 966 967 968 969 970 971 972 973 974 975 976 977 978 979 980 981 982 983 984 985 986 987 988 989 990 991 992 993 994 995 996 997 998 999 1000 1001 1002 1003 1004 1005 1006 1007 1008 1009 1010 1011 1012 1013 1014 1015 1016 1017 1018 1019 1020 1021 1022 1023 1024 1025 1026 1027 1028 1029 1030 1031 1032 1033 1034 1035 1036 1037 1038 1039 1040 1041 1042 1043 1044 1045 1046 1047 1048 1049 1050 1051 1052 1053 1054 1055 1056 1057 1058 1059 1060 1061 1062 1063 1064 1065 1066 1067 1068 1069 1070 1071 1072 1073 1074 1075 1076 1077 1078 1079 1080 1081 1082 1083 1084 1085 1086 1087 1088 1089 1090 1091 1092 1093 1094 1095 1096 1097 1098 1099 1100 1101 1102 1103 1104 1105 1106 1107 1108 1109 1110 1111 1112 1113 1114 1115 1116 1117 1118 1119 1120 1121 1122 1123 1124 1125 1126 1127 1128 1129 1130 1131 1132 1133 1134 1135 1136 1137 1138 1139 1140 1141 1142 1143 1144 1145 1146 1147 1148 1149 1150 1151 1152 1153 1154 1155 1156 1157 1158 1159 1160 1161 1162 1163 1164 1165 1166 1167 1168 1169 1170 1171 1172 1173 1174 1175 1176 1177 1178 1179 1180 1181 1182 1183 1184 1185 1186 1187 1188 1189 1190 1191 1192 1193 1194 1195 1196 1197 1198 1199 1200 1201 1202 1203 1204 1205 1206 1207 1208 1209 1210 1211 1212 1213 1214 1215 1216 1217 1218 1219 1220 1221 1222 1223 1224 1225 1226 1227 1228 1229 1230 1231 1232 1233 1234 1235 1236 1237 1238 1239 1240 1241 1242 1243 1244 1245 1246 1247 1248 1249 1250 1251 1252 1253 1254 1255 1256 1257 1258 1259 1260 1261 1262 1263 1264 1265 1266 1267 1268 1269 1270 1271 1272 1273 1274 1275 1276 1277 1278 1279 1280 1281 1282 1283 1284 1285 1286 1287 1288 1289 1290 1291 1292 1293 1294 1295 1296 1297 1298 1299 1300 1301 1302 1303 1304 1305 1306 1307 1308 1309 1310 1311 1312 1313 1314 1315 1316 1317 1318 1319 1320 1321 1322 1323 1324 1325 1326 1327 1328 1329 1330 1331 1332 1333 1334 1335 1336 1337 1338 1339 1340 1341 1342 1343 1344 1345 1346 1347 1348 1349 1350 1351 1352 1353 1354 1355 1356 1357 1358 1359 1360 1361 1362 1363 1364 1365 1366 1367 1368 1369 1370 1371 1372 1373 1374 1375 1376 1377 1378 1379 1380 1381 1382 1383 1384 1385 1386 1387 1388 1389 1390 1391 1392 1393 1394 1395 1396 1397 1398 1399 1400 1401 1402 1403 1404 1405 1406 1407 1408 1409 1410 1411 1412 1413 1414 1415 1416 1417 1418 1419 1420 1421 1422 1423 1424 1425 1426 1427 1428 1429 1430 1431 1432 1433 1434 1435 1436 1437 1438 1439 1440 1441 1442 1443 1444 1445 1446 1447 1448 1449 1450 1451 1452 1453 1454 1455 1456 1457 1458 1459 1460 1461 1462 1463 1464 1465 1466 1467 1468 1469 1470 1471 1472 1473 1474 1475 1476 1477 1478 1479 1480 1481 1482 1483 1484 1485 1486 1487 1488 1489 1490 1491 1492 1493 1494 1495 1496 1497 1498 1499 1500 1501 1502 1503 1504 1505 1506 1507 1508 1509 1510 1511 1512 1513 1514 1515 1516 1517 1518 1519 1520 1521 1522 1523 1524 1525 1526 1527 1528 1529 1530 1531 1532 1533 1534 1535 1536 1537 1538 1539 1540 1541 1542 1543 1544 1545 1546 1547 1548 1549 1550 1551 1552 1553 1554 1555 1556 1557 1558 1559 1560 1561 1562 1563 1564 1565 1566 1567 1568 1569 1570 1571 1572 1573 1574 1575 1576 1577 1578 1579 1580 1581 1582 1583 1584 1585 1586 1587 1588 1589 1590 1591 1592 1593 1594 1595 1596 1597 1598 1599 1600 1601 1602 1603 1604 1605 1606 1607 1608 1609 1610 1611 1612 1613 1614 1615 1616 1617 1618 1619 1620 1621 1622 1623 1624 1625 1626 1627 1628 1629 1630 1631 1632 1633 1634 1635 1636 1637 1638 1639 1640 1641 1642 1643 1644 1645 1646 1647 1648 1649 1650 1651 1652 1653 1654 1655 1656 1657 1658 1659 1660 1661 1662 1663 1664 1665 1666 1667 1668 1669 1670 1671 1672 1673 1674 1675 1676 1677 1678 1679 1680 1681 1682 1683 1684 1685 1686 1687 1688 1689 1690 1691 1692 1693 1694 1695 1696 1697 1698 1699 1700 1701 1702 1703 1704 1705 1706 1707 1708 1709 1710 1711 1712 1713 1714 1715 1716 1717 1718 1719 1720 1721 1722 1723 1724 1725 1726 1727 1728 1729 1730 1731 1732 1733 1734 1735 1736 1737 1738 1739 1740 1741 1742 1743 1744 1745 1746 1747 1748 1749 1750 1751 1752 1753 1754 1755 1756 1757 1758 1759 1760 1761 1762 1763 1764 1765 1766 1767 1768 1769 1770 1771 1772 1773 1774 1775 1776 1777 1778 1779 1780 1781 1782 1783 1784 1785 1786 1787 1788 1789 1790 1791 1792 1793 1794 1795 1796 1797 1798 1799 1800 1801 1802 1803 1804 1805 1806 1807 1808 1809 1810 1811 1812 1813 1814 1815 1816 1817 1818 1819 1820 1821 1822 1823 1824 1825 1826 1827 1828 1829 1830 1831 1832 1833 1834 1835 1836 1837 1838 1839 1840 1841 1842 1843 1844 1845 1846 1847 1848 1849 1850 1851 1852 1853 1854 1855 1856 1857 1858 1859 1860 1861 1862 1863 1864 1865 1866 1867 1868 1869 1870 1871 1872 1873 1874 1875 1876 1877 1878 1879 1880 1881 1882 1883 1884 1885 1886 1887 1888 1889 1890 1891 1892 1893 1894 1895 1896 1897 1898 1899 1900 1901 1902 1903 1904 1905 1906 1907 1908 1909 1910 1911 1912 1913 1914 1915 1916 1917 1918 1919 1920 1921 1922 1923 1924 1925 1926 1927 1928 1929 1930 1931 1932 1933 1934 1935 1936 1937 1938 1939 1940 1941 1942 1943 1944 1945 1946 1947 1948 1949 1950 1951 1952 1953 1954 1955 1956 1957 1958 1959 1960 1961 1962 1963 1964 1965 1966 1967 1968 1969 1970 1971 1972 1973 1974 1975 1976 1977 1978 1979 1980 1981 1982 1983 1984 1985 1986 1987 1988 1989 1990 1991 1992 1993 1994 1995 1996 1997 1998 1999 2000 2001 2002 2003 2004 2005 2006 2007 2008 2009 2010 2011 2012 2013 2014 2015 2016 2017 2018 2019 2020 2021 2022 2023 2024 2025 2026 2027 2028 2029 2030 2031 2032 2033 2034 2035 2036 2037 2038 2039 2040 2041 2042 2043 2044 2045 2046 2047 2048 2049 2050 2051 2052 2053 2054 2055 2056 2057 2058 2059 2060 2061 2062 2063 2064 2065 2066 2067 2068 2069 2070 2071 2072 2073 2074 2075 2076 2077 2078 2079 2080 2081 2082 2083 2084 2085 2086 2087 2088 2089 2090 2091 2092 2093 2094 2095 2096 2097 2098 2099 2100 2101 2102 2103 2104 2105 2106 2107 2108 2109 2110 2111 2112 2113 2114 2115 2116 2117 2118 2119 2120 2121 2122 2123 2124 2125 2126 2127 2128 2129 2130 2131 2132 2133 2134 2135 2136 2137 2138 2139 2140 2141 2142 2143 2144 2145 2146 2147 2148 2149 2150 2151 2152 2153 2154 2155 2156 2157 2158 2159 2160 2161 2162 2163 2164 2165 2166 2167 2168 2169 2170 2171 2172 2173 2174 2175 2176 2177 2178 2179 2180 2181 2182 2183 2184 2185 2186 2187 2188 2189 2190 2191 2192 2193 2194 2195 2196 2197 2198 2199 2200 2201 2202 2203 2204 2205 2206 2207 2208 2209 2210 2211 2212 2213 2214 2215 2216 2217 2218 2219 2220 2221 2222 2223 2224 2225 2226 2227 2228 2229 2230 2231 2232 2233 2234 2235 2236 2237 2238 2239 2240 2241 2242 2243 2244 2245 2246 2247 2248 2249 2250 2251 2252 2253 2254 2255 2256 2257 2258 2259 2260 2261 2262 2263 2264 2265 2266 2267 2268 2269 2270 2271 2272 2273 2274 2275 2276 2277 2278 2279 2280 2281 2282 2283 2284 2285 2286 2287 2288 2289 2290 2291 2292 2293 2294 2295 2296 2297 2298 2299 2300 2301 2302 2303 2304 2305 2306 2307 2308 2309 2310 2311 2312 2313 2314 2315 2316 2317 2318 2319 2320 2321 2322 2323 2324 2325 2326 2327 2328 2329 2330 2331 2332 2333 2334 2335 2336 2337 2338 2339 2340 2341 2342 2343 2344 2345 2346 2347 2348 2349 2350 2351 2352 2353 2354 2355 2356 2357 2358 2359 2360 2361 2362 2363 2364 2365 2366 2367 2368 2369 2370 2371 2372 2373 2374 2375 2376 2377 2378 2379 2380 2381 2382 2383 2384 2385 2386 2387 2388 2389 2390 2391 2392 2393 2394 2395 2396 2397 2398 2399 2400 2401 2402 2403 2404 2405 2406 2407 2408 2409 2410 2411 2412 2413 2414 2415 2416 2417 2418 2419 2420 2421 2422 2423 2424 2425 2426 2427 2428 2429 2430 2431 2432 2433 2434 2435 2436 2437 2438 2439 2440 2441 2442 2443 2444 2445 2446 2447 2448 2449 2450 2451 2452 2453 2454 2455 2456 2457 2458 2459 2460 2461 2462 2463 2464 2465 2466 2467 2468 2469 2470 2471 2472 2473 2474 2475 2476 2477 2478 2479 2480 2481 2482 2483 2484 2485 2486 2487 2488 2489 2490 2491 2492 2493 2494 2495 2496 2497 2498 2499 2500 2501 2502 2503 2504 2505 2506 2507 2508 2509 2510 2511 2512 2513 2514 2515 2516 2517 2518 2519 2520 2521 2522 2523 2524 2525 2526 2527 2528 2529 2530 2531 2532 2533 2534 2535 2536 2537 2538 2539 2540 2541 2542 2543 2544 2545 2546 2547 2548 2549 2550 2551 2552 2553 2554 2555 2556 2557 2558 2559 2560 2561 2562 2563 2564 2565 2566 2567 2568 2569 2570 2571 2572 2573 2574 2575 2576 2577 2578 2579 2580 2581 2582 2583 2584 2585 2586 2587 2588 2589 2590 2591 2592 2593 2594 2595 2596 2597 2598 2599 2600 2601 2602 2603 2604 2605 2606 2607 2608 2609 2610 2611 2612 2613 2614 2615 2616 2617 2618 2619 2620 2621 2622 2623 2624 2625 2626 2627 2628 2629 2630 2631 2632 2633 2634 2635 2636 2637 2638 2639 2640 2641 2642 2643 2644 2645 2646 2647 2648 2649 2650 2651 2652 2653 2654 2655 2656 2657 2658 2659 2660 2661 2662 2663 2664 2665 2666 2667 2668 2669 2670 2671 2672 2673 2674 2675 2676 2677 2678 2679 2680 2681 2682 2683 2684 2685 2686 2687 2688 2689 2690 2691 2692 2693 2694 2695 2696 2697 2698 2699 2700 2701 2702 2703 2704 2705 2706 2707 2708 2709 2710 2711 2712 2713 2714 2715 2716 2717 2718 2719 2720 2721 2722 2723 2724 2725 2726 2727 2728 2729 2730 2731 2732 2733 2734 2735 2736 2737 2738 2739 2740 2741 2742 2743 2744 2745 2746 2747 2748 2749 2750 2751 2752 2753 2754 2755 2756 2757 2758 2759 2760 2761 2762 2763 2764 2765 2766 2767 2768 2769 2770 2771 2772 2773 2774 2775 2776 2777 2778 2779 2780 2781 2782 2783 2784 2785 2786 2787 2788 2789 2790 2791 2792 2793 2794 2795 2796 2797 2798 2799 2800 2801 2802 2803 2804 2805 2806 2807 2808 2809 2810 2811 2812 2813 2814 2815 2816 2817 2818 2819 2820 2821 2822 2823 2824 2825 2826 2827 2828 2829 2830 2831 2832 2833 2834 2835 2836 2837 2838 2839 2840 2841 2842 2843 2844 2845 2846 2847 2848 2849 2850 2851 2852 2853 2854 2855 2856 2857 2858 2859 2860 2861 2862 2863 2864 2865 2866 2867 2868 2869 2870 2871 2872 2873 2874 2875 2876 2877 2878 2879 2880 2881 2882 2883 2884 2885 2886 2887 2888 2889 2890 2891 2892 2893 2894 2895 2896 2897 2898 2899 2900 2901 2902 2903 2904 2905 2906 2907 2908 2909 2910 2911 2912 2913 2914 2915 2916 2917 2918 2919 2920 2921 2922 2923 2924 2925 2926 2927 2928 2929 2930 2931 2932 2933 2934 2935 2936 2937 2938 2939 2940 2941 2942 2943 2944 2945 2946 2947 2948 2949 2950 2951 2952 2953 2954 2955 2956 2957 2958 2959 2960 2961 2962 2963 2964 2965 2966 2967 2968 2969 2970 2971 2972 2973 2974 2975 2976 2977 2978 2979 2980 2981 2982 2983 2984 2985 2986 2987 2988 2989 2990 2991 2992 2993 2994 2995 2996 2997 2998 2999 3000 3001 3002 3003 3004 3005 3006 3007 3008 3009 3010 3011 3012 3013 3014 3015 3016 3017 3018 3019 3020 3021 3022 3023 3024 3025 3026 3027 3028 3029 3030 3031 3032 3033 3034 3035 3036 3037 3038 3039 3040 3041 3042 3043 3044 3045 3046 3047 3048 3049 3050 3051 3052 3053 3054 3055 3056 3057 3058 3059 3060 3061 3062 3063 3064 3065 3066 3067 3068 3069 3070 3071 3072 3073 3074 3075 3076 3077 3078 3079 3080 3081 3082 3083 3084 3085 3086 3087 3088 3089 3090 3091 3092 3093 3094 3095 3096 3097 3098 3099 3100 3101 3102 3103 3104 3105 3106 3107 3108 3109 3110 3111 3112 3113 3114 3115 3116 3117 3118 3119 3120 3121 3122 3123 3124 3125 3126 3127 3128 3129 3130 3131 3132 3133 3134 3135 3136 3137 3138 3139 3140 3141 3142 3143 3144 3145 3146 3147 3148 3149 3150 3151 3152 3153 3154 3155 3156 3157 3158 3159 3160 3161 3162 3163 3164 3165 3166 3167 3168 3169 3170 3171 3172 3173 3174 3175 3176 3177 3178 3179 3180 3181 3182 3183 3184 3185 3186 3187 3188 3189 3190 3191 3192 3193 3194 3195 3196 3197 3198 3199 3200 3201 3202 3203 3204 3205 3206 3207 3208 3209 3210 3211 3212 3213 3214 3215 3216 3217 3218 3219 3220 3221 3222 3223 3224 3225 3226 3227 3228 3229 3230 3231 3232 3233 3234 3235 3236 3237 3238 3239 3240 3241 3242 3243 3244 3245 3246 3247 3248 3249 3250 3251 3252 3253 3254 3255 3256 3257 3258 3259 3260 3261 3262 3263 3264 3265 3266 3267 3268 3269 3270 3271 3272 3273 3274 3275 3276 3277 3278 3279 3280 3281 3282 3283 3284 3285 3286 3287 3288 3289 3290 3291 3292 3293 3294 3295 3296 3297 3298 3299 3300 3301 3302 3303 3304 3305 3306 3307 3308 3309 3310 3311 3312 3313 3314 3315 3316 3317 3318 3319 3320 3321 3322 3323 3324 3325 3326 3327 3328 3329 3330 3331 3332 3333 3334 3335 3336 3337 3338 3339 3340 3341 3342 3343 3344 3345 3346 3347 3348 3349 3350 3351 3352 3353 3354 3355 3356 3357 3358 3359 3360 3361 3362 3363 3364 3365 3366 3367 3368 3369 3370 3371 3372 3373 3374 3375 3376 3377 3378 3379 3380 3381 3382 3383 3384 3385 3386 3387 3388 3389 3390 3391 3392 3393 3394 3395 3396 3397 3398 3399 3400 3401 3402 3403 3404 3405 3406 3407 3408 3409 3410 3411 3412 3413 3414 3415 3416 3417 3418 3419 3420 3421 3422 3423 3424 3425 3426 3427 3428 3429 3430 3431 3432 3433 3434 3435 3436 3437 3438 3439 3440 3441 3442 3443 3444 3445 3446 3447 3448 3449 3450 3451 3452 3453 3454 3455 3456 3457 3458 3459 3460 3461 3462 3463 3464 3465 3466 3467 3468 3469 3470 3471 3472 3473 3474 3475 3476 3477 3478 3479 3480 3481 3482 3483 3484 3485 3486 3487 3488 3489 3490 3491 3492 3493 3494 3495 3496 3497 3498 3499 3500 3501 3502 3503 3504 3505 3506 3507 3508 3509 3510 3511 3512 3513 3514 3515 3516 3517 3518 3519 3520 3521 3522 3523 3524 3525 3526 3527 3528 3529 3530 3531 3532 3533 3534 3535 3536 3537 3538 3539 3540 3541 3542 3543 3544 3545 3546 3547 3548 3549 3550 3551 3552 3553 3554 3555 3556 3557 3558 3559 3560 3561 3562 3563 3564 3565 3566 3567 3568 3569 3570 3571 3572 3573 3574 3575 3576 3577 3578 3579 3580 3581 3582 3583 3584 3585 3586 3587 3588 3589 3590 3591 3592 3593 3594 3595 3596 3597 3598 3599 3600 3601 3602 3603 3604 3605 3606 3607 3608 3609 3610 3611 3612 3613 3614 3615 3616 3617 3618 3619 3620 3621 3622 3623 3624 3625 3626 3627 3628 3629 3630 3631 3632 3633 3634 3635 3636 3637 3638 3639 3640 3641 3642 3643 3644 3645 3646 3647 3648 3649 3650 3651 3652 3653 3654 3655 3656 3657 3658 3659 3660 3661 3662 3663 3664 3665 3666 3667 3668 3669 3670 3671 3672 3673 3674 3675 3676 3677 3678 3679 3680 3681 3682 3683 3684 3685 3686 3687 3688 3689 3690 3691 3692 3693 3694 3695 3696 3697 3698 3699 3700 3701 3702 3703 3704 3705 3706 3707 3708 3709 3710 3711 3712 3713 3714 3715 3716 3717 3718 3719 3720 3721 3722 3723 3724 3725 3726 3727 3728 3729 3730 3731 3732 3733 3734 3735 3736 3737 3738 3739 3740 3741 3742 3743 3744 3745 3746 3747 3748 3749 3750 3751 3752 3753 3754 3755 3756 3757 3758 3759 3760 3761 3762 3763 3764 3765 3766 3767 3768 3769 3770 3771 3772 3773 3774 3775 3776 3777 3778 3779 3780 3781 3782 3783 3784 3785 3786 3787 3788 3789 3790 3791 3792 3793 3794 3795 3796 3797 3798 3799 3800 3801 3802 3803 3804 3805 3806 3807 3808 3809 3810 3811 3812 3813 3814 3815 3816 3817 3818 3819 3820 3821 3822 3823 3824 3825 3826 3827 3828 3829 3830 3831 3832 3833 3834 3835 3836 3837 3838 3839 3840 3841 3842 3843 3844 3845 3846 3847 3848 3849 3850 3851 3852 3853 3854 3855 3856 3857 3858 3859 3860 3861 3862 3863 3864 3865 3866 3867 3868 3869 3870 3871 3872 3873 3874 3875 3876 3877 3878 3879 3880 3881 3882 3883 3884 3885 3886 3887 3888 3889 3890 3891 3892 3893 3894 3895 3896 3897 3898 3899 3900 3901 3902 3903 3904 3905 3906 3907 3908 3909 3910 3911 3912 3913 3914 3915 3916 3917 3918 3919 3920 3921 3922 3923 3924 3925 3926 3927 3928 3929 3930 3931 3932 3933 3934 3935 3936 3937 3938 3939 3940 3941 3942 3943 3944 3945 3946 3947 3948 3949 3950 3951 3952 3953 3954 3955 3956 3957 3958 3959 3960 3961 3962 3963 3964 3965 3966 3967 3968 3969 3970 3971 3972 3973 3974 3975 3976 3977 3978 3979 3980 3981 3982 3983 3984 3985 3986 3987 3988 3989 3990 3991 3992 3993 3994 3995 3996 3997 3998 3999 4000 4001 4002 4003 4004 4005 4006 4007 4008 4009 4010 4011 4012 4013 4014 4015 4016 4017 4018 4019 4020 4021 4022 4023 4024 4025 4026 4027 4028 4029 4030 4031 4032 4033 4034 4035 4036 4037 4038 4039 4040 4041 4042 4043 4044 4045 4046 4047 4048 4049 4050 4051 4052 4053 4054 4055 4056 4057 4058 4059 4060 4061 4062 4063 4064 4065 4066 4067 4068 4069 4070 4071 4072 4073 4074 4075 4076 4077 4078 4079 4080 4081 4082 4083 4084 4085 4086 4087 4088 4089 4090 4091 4092 4093 4094 4095 4096 4097 4098 4099 4100 4101 4102 4103 4104 4105 4106 4107 4108 4109 4110 4111 4112 4113 4114 4115 4116 4117 4118 4119 4120 4121 4122 4123 4124 4125 4126 4127 4128 4129 4130 4131 4132 4133 4134 4135 4136 4137 4138 4139 4140 4141 4142 4143 4144 4145 4146 4147 4148 4149 4150 4151 4152 4153 4154 4155 4156 4157 4158 4159 4160 4161 4162 4163 4164 4165 4166 4167 4168 4169 4170 4171 4172 4173 4174 4175 4176 4177 4178 4179 4180 4181 4182 4183 4184 4185 4186 4187 4188 4189 4190 4191 4192 4193 4194 4195 4196 4197 4198 4199 4200 4201 4202 4203 4204 4205 4206 4207 4208 4209 4210 4211 4212 4213 4214 4215 4216 4217 4218 4219 4220 4221 4222 4223 4224 4225 4226 4227 4228 4229 4230 4231 4232 4233 4234 4235 4236 4237 4238 4239 4240 4241 4242 4243 4244 4245 4246 4247 4248 4249 4250 4251 4252 4253 4254 4255 4256 4257 4258 4259 4260 4261 4262 4263 4264 4265 4266 4267 4268 4269 4270 4271 4272 4273 4274 4275 4276 4277 4278 4279 4280 4281 4282 4283 4284 4285 4286 4287 4288 4289 4290 4291 4292 4293 4294 4295 4296 4297 4298 4299 4300 4301 4302 4303 4304 4305 4306 4307 4308 4309 4310 4311 4312 4313 4314 4315 4316 4317 4318 4319 4320 4321 4322 4323 4324 4325 4326 4327 4328 4329 4330 4331 4332 4333 4334 4335 4336 4337 4338 4339 4340 4341 4342 4343 4344 4345 4346 4347 4348 4349 4350 4351 4352 4353 4354 4355 4356 4357 4358 4359 4360 4361 4362 4363 4364 4365 4366 4367 4368 4369 4370 4371 4372 4373 4374 4375 4376 4377 4378 4379 4380 4381 4382 4383 4384 4385 4386 4387 4388 4389 4390 4391 4392 4393 4394 4395 4396 4397 4398 4399 4400 4401 4402 4403 4404 4405 4406 4407 4408 4409 4410 4411 4412 4413 4414 4415 4416 4417 4418 4419 4420 4421 4422 4423 4424 4425 4426 4427 4428 4429 4430 4431 4432 4433 4434 4435 4436 4437 4438 4439 4440 4441 4442 4443 4444 4445 4446 4447 4448 4449 4450 4451 4452 4453 4454 4455 4456 4457 4458 4459 4460 4461 4462 4463 4464 4465 4466 4467 4468 4469 4470 4471 4472 4473 4474 4475 4476 4477 4478 4479 4480 4481 4482 4483 4484 4485 4486 4487 4488 4489 4490 4491 4492 4493 4494 4495 4496 4497 4498 4499 4500 4501 4502 4503 4504 4505 4506 4507 4508 4509 4510 4511 4512 4513 4514 4515 4516 4517 4518 4519 4520 4521 4522 4523 4524 4525 4526 4527 4528 4529 4530 4531 4532 4533 4534 4535 4536 4537 4538 4539 4540 4541 4542 4543 4544 4545 4546 4547 4548 4549 4550 4551 4552 4553 4554 4555 4556 4557 4558 4559 4560 4561 4562 4563 4564 4565 4566 4567 4568 4569 4570 4571 4572 4573 4574 4575 4576 4577 4578 4579 4580 4581 4582 4583 4584 4585 4586 4587 4588 4589 4590 4591 4592 4593 4594 4595 4596 4597 4598 4599 4600 4601 4602 4603 4604 4605 4606 4607 4608 4609 4610 4611 4612 4613 4614 4615 4616 4617 4618 4619 4620 4621 4622 4623 4624 4625 4626 4627 4628 4629 4630 4631 4632 4633 4634 4635 4636 4637 4638 4639 4640 4641 4642 4643 4644 4645 4646 4647 4648 4649 4650 4651 4652 4653 4654 4655 4656 4657 4658 4659 4660 4661 4662 4663 4664 4665 4666 4667 4668 4669 4670 4671 4672 4673 4674 4675 4676 4677 4678 4679 4680 4681 4682 4683 4684 4685 4686 4687 4688 4689 4690 4691 4692 4693 4694 4695 4696 4697 4698 4699 4700 4701 4702 4703 4704 4705 4706 4707 4708 4709 4710 4711 4712 4713 4714 4715 4716 4717 4718 4719 4720 4721 4722 4723 4724 4725 4726 4727 4728 4729 4730 4731 4732 4733 4734 4735 4736 4737 4738 4739 4740 4741 4742 4743 4744 4745 4746 4747 4748 4749 4750 4751 4752 4753 4754 4755 4756 4757 4758 4759 4760 4761 4762 4763 4764 4765 4766 4767 4768 4769 4770 4771 4772 4773 4774 4775 4776 4777 4778 4779 4780 4781 4782 4783 4784 4785 4786 4787 4788 4789 4790 4791 4792 4793 4794 4795 4796 4797 4798 4799 4800 4801 4802 4803 4804 4805 4806 4807 4808 4809 4810 4811 4812 4813 4814 4815 4816 4817 4818 4819 4820 4821 4822 4823 4824 4825 4826 4827 4828 4829 4830 4831 4832 4833 4834 4835 4836 4837 4838 4839 4840 4841 4842 4843 4844 4845 4846 4847 4848 4849 4850 4851 4852 4853 4854 4855 4856 4857 4858 4859 4860 4861 4862 4863 4864 4865 4866 4867 4868 4869 4870 4871 4872 4873 4874 4875 4876 4877 4878 4879 4880 4881 4882 4883 4884 4885 4886 4887 4888 4889 4890 4891 4892 4893 4894 4895 4896 4897 4898 4899 4900 4901 4902 4903 4904 4905 4906 4907 4908 4909 4910 4911 4912 4913 4914 4915 4916 4917 4918 4919 4920 4921 4922 4923 4924 4925 4926 4927 4928 4929 4930 4931 4932 4933 4934 4935 4936 4937 4938 4939 4940 4941 4942 4943 4944 4945 4946 4947 4948 4949 4950 4951 4952 4953 4954 4955 4956 4957 4958 4959 4960 4961 4962 4963 4964 4965 4966 4967 4968 4969 4970 4971 4972 4973 4974 4975 4976 4977 4978 4979 4980 4981 4982 4983 4984 4985 4986 4987 4988 4989 4990 4991 4992 4993 4994 4995 4996 4997 4998 4999 "
     ]
    }
   ],
   "source": [
    "for i in range(n):\n",
    "    for j in range(m):\n",
    "        for k in range(m):\n",
    "            mpc_alpha[i][j][k]=mpc(alpha_epoched[i][j],alpha_epoched[i][k])\n",
    "            msc_alpha[i][j][k]=msc(alpha_epoched[i][j],alpha_epoched[i][k])\n",
    "            \n",
    "            mpc_beta[i][j][k]=mpc(beta_epoched[i][j],beta_epoched[i][k])\n",
    "            msc_beta[i][j][k]=msc(beta_epoched[i][j],beta_epoched[i][k])\n",
    "            \n",
    "            mpc_gamma[i][j][k]=mpc(gamma_epoched[i][j],gamma_epoched[i][k])\n",
    "            msc_gamma[i][j][k]=msc(gamma_epoched[i][j],gamma_epoched[i][k])\n",
    "    print(i,end=' ')"
   ]
  },
  {
   "cell_type": "code",
   "execution_count": 416,
   "id": "1cec0ed9",
   "metadata": {},
   "outputs": [],
   "source": [
    "mpc_alpha_copy=mpc_alpha\n",
    "mpc_beta_copy=mpc_beta\n",
    "mpc_gamma_copy=mpc_gamma\n",
    "\n",
    "msc_alpha_copy=msc_alpha\n",
    "msc_beta_copy=msc_beta\n",
    "msc_gamma_copy=msc_gamma"
   ]
  },
  {
   "cell_type": "code",
   "execution_count": 417,
   "id": "ac0709b9",
   "metadata": {},
   "outputs": [
    {
     "data": {
      "text/plain": [
       "(5000, 14, 14)"
      ]
     },
     "execution_count": 417,
     "metadata": {},
     "output_type": "execute_result"
    }
   ],
   "source": [
    "msc_alpha_copy.shape"
   ]
  },
  {
   "cell_type": "code",
   "execution_count": 418,
   "id": "38042f01",
   "metadata": {},
   "outputs": [
    {
     "data": {
      "text/plain": [
       "(5000, 14, 14)"
      ]
     },
     "execution_count": 418,
     "metadata": {},
     "output_type": "execute_result"
    }
   ],
   "source": [
    "mpc_alpha_copy.shape"
   ]
  },
  {
   "cell_type": "code",
   "execution_count": 419,
   "id": "7850fcaf",
   "metadata": {},
   "outputs": [],
   "source": [
    "files=[mpc_alpha,mpc_beta,mpc_gamma,msc_alpha,msc_beta,msc_gamma]\n",
    "file_names=[\"mpc_alpha\",\"mpc_beta\",\"mpc_gamma\",\"msc_alpha\",\"msc_beta\",\"msc_gamma\"]"
   ]
  },
  {
   "cell_type": "code",
   "execution_count": 420,
   "id": "10b8684e",
   "metadata": {},
   "outputs": [],
   "source": [
    "part=\"01\"\n",
    "file_type=\"inner\"\n",
    "aug_type=\"non-aug\""
   ]
  },
  {
   "cell_type": "code",
   "execution_count": 421,
   "id": "b52a847d",
   "metadata": {
    "scrolled": true
   },
   "outputs": [],
   "source": [
    "\n",
    "#saving the files\n",
    "for i in range(len(files)):\n",
    "    path=''+part+'/'+part+'_'+file_type+'/'+aug_type+'/'+file_names[i]+'.npy'\n",
    "    np.save(path,files[i])"
   ]
  },
  {
   "cell_type": "code",
   "execution_count": 422,
   "id": "7be8cb16",
   "metadata": {},
   "outputs": [],
   "source": [
    "#loading the files\n",
    "for i in range(len(files)):\n",
    "    path=''+part+'/'+part+'_'+file_type+'/'+aug_type+'/'+file_names[i]+'.npy'\n",
    "    files[i]=np.load(path)"
   ]
  },
  {
   "cell_type": "code",
   "execution_count": 423,
   "id": "21a5a532",
   "metadata": {},
   "outputs": [],
   "source": [
    "mpc_alpha=files[0]\n",
    "mpc_beta=files[1]\n",
    "mpc_gamma=files[2]\n",
    "\n",
    "msc_alpha=files[3]\n",
    "msc_beta=files[4]\n",
    "msc_gamma=files[5]"
   ]
  },
  {
   "cell_type": "code",
   "execution_count": 424,
   "id": "01bbb3a4",
   "metadata": {},
   "outputs": [
    {
     "data": {
      "text/plain": [
       "(5000, 14, 14)"
      ]
     },
     "execution_count": 424,
     "metadata": {},
     "output_type": "execute_result"
    }
   ],
   "source": [
    "msc_alpha.shape"
   ]
  },
  {
   "cell_type": "code",
   "execution_count": 425,
   "id": "7744ff1b",
   "metadata": {},
   "outputs": [
    {
     "data": {
      "text/plain": [
       "(5000, 14, 14)"
      ]
     },
     "execution_count": 425,
     "metadata": {},
     "output_type": "execute_result"
    }
   ],
   "source": [
    "mpc_alpha.shape"
   ]
  },
  {
   "cell_type": "markdown",
   "id": "8bd1dba2",
   "metadata": {},
   "source": [
    "This section is used to create the feature vector"
   ]
  },
  {
   "cell_type": "code",
   "execution_count": 427,
   "id": "0dda6cd4",
   "metadata": {},
   "outputs": [
    {
     "name": "stdout",
     "output_type": "stream",
     "text": [
      "mpc_alpha shape: (5000, 14, 14)\n",
      "mpc_beta shape: (5000, 14, 14)\n",
      "mpc_gamma shape: (5000, 14, 14)\n",
      "msc_alpha shape: (5000, 14, 14)\n",
      "msc_beta shape: (5000, 14, 14)\n",
      "msc_gamma shape: (5000, 14, 14)\n"
     ]
    }
   ],
   "source": [
    "n_1=msc_alpha.shape[0]\n",
    "m_1=msc_alpha.shape[1]\n",
    "x_array_2=np.zeros([n_1,m_1,m_1,3])\n",
    "print(\"mpc_alpha shape:\", mpc_alpha.shape)\n",
    "print(\"mpc_beta shape:\", mpc_beta.shape)\n",
    "print(\"mpc_gamma shape:\", mpc_gamma.shape)\n",
    "\n",
    "print(\"msc_alpha shape:\", msc_alpha.shape)\n",
    "print(\"msc_beta shape:\", msc_beta.shape)\n",
    "print(\"msc_gamma shape:\", msc_gamma.shape)\n"
   ]
  },
  {
   "cell_type": "code",
   "execution_count": 428,
   "id": "2c73e926",
   "metadata": {},
   "outputs": [],
   "source": [
    "for i in range(n_1):\n",
    "    for j in range(m_1):\n",
    "        for k in range(m_1):\n",
    "            if j<k:\n",
    "                x_array_2[i][j][k]=[mpc_alpha[i][j][k],mpc_beta[i][j][k],mpc_gamma[i][j][k]]\n",
    "            elif j>k:\n",
    "                x_array_2[i][j][k]=[msc_alpha[i][j][k],msc_beta[i][j][k],msc_gamma[i][j][k]]"
   ]
  },
  {
   "cell_type": "code",
   "execution_count": 429,
   "id": "546024e0",
   "metadata": {},
   "outputs": [],
   "source": [
    "x_array_cnn=x_array_2"
   ]
  },
  {
   "cell_type": "code",
   "execution_count": 430,
   "id": "f370325f",
   "metadata": {},
   "outputs": [],
   "source": [
    "a=x_array_2.reshape(n_1,m_1*m_1*3)\n",
    "a=a[a!=0.0]\n",
    "a.shape\n",
    "x_array_2=a.reshape(n_1,m_1*m_1*3-m_1*3)"
   ]
  },
  {
   "cell_type": "code",
   "execution_count": 431,
   "id": "96809d3b",
   "metadata": {
    "scrolled": true
   },
   "outputs": [
    {
     "data": {
      "text/plain": [
       "(5000, 546)"
      ]
     },
     "execution_count": 431,
     "metadata": {},
     "output_type": "execute_result"
    }
   ],
   "source": [
    "x_array_2.shape"
   ]
  },
  {
   "cell_type": "code",
   "execution_count": 432,
   "id": "baeca8ff",
   "metadata": {},
   "outputs": [],
   "source": [
    "np.save(''+part+'/'+part+'_'+file_type+'_'+\"X\",x_array_2)\n",
    "np.save(''+part+'/'+part+'_'+file_type+'_'+\"Y\",y_array)"
   ]
  },
  {
   "cell_type": "code",
   "execution_count": 433,
   "id": "d562f469",
   "metadata": {},
   "outputs": [],
   "source": [
    "x_array=np.load(''+part+'/'+part+'_'+file_type+'_'+\"X\"+\".npy\")\n",
    "y_array=np.load(''+part+'/'+part+'_'+file_type+'_'+\"Y\"+\".npy\")"
   ]
  },
  {
   "cell_type": "code",
   "execution_count": 434,
   "id": "f76edb05",
   "metadata": {},
   "outputs": [],
   "source": [
    "x_array = x_array_2"
   ]
  },
  {
   "cell_type": "code",
   "execution_count": 435,
   "id": "867c9bf0",
   "metadata": {},
   "outputs": [
    {
     "data": {
      "text/plain": [
       "(5000, 546)"
      ]
     },
     "execution_count": 435,
     "metadata": {},
     "output_type": "execute_result"
    }
   ],
   "source": [
    "x_array.shape"
   ]
  },
  {
   "cell_type": "code",
   "execution_count": 436,
   "id": "7aec194e",
   "metadata": {},
   "outputs": [
    {
     "name": "stdout",
     "output_type": "stream",
     "text": [
      "[14 14 14 14 14  6  6  6  6  6  1  1  1  1  1 13 13 13 13 13 15 15 15 15\n",
      " 15 16 16 16 16 16  2  2  2  2  2  5  5  5  5  5 18 18 18 18 18 19 19 19\n",
      " 19 19  9  9  9  9  9  8  8  8  8  8 17 17 17 17 17 11 11 11 11 11  3  3\n",
      "  3  3  3  0  0  0  0  0  4  4  4  4  4  7  7  7  7  7 12 12 12 12 12 10\n",
      " 10 10 10 10  6  6  6  6  6 12 12 12 12 12 18 18 18 18 18 17 17 17 17 17\n",
      "  8  8  8  8  8  0  0  0  0  0  4  4  4  4  4  1  1  1  1  1 19 19 19 19\n",
      " 19  5  5  5  5  5 10 10 10 10 10 13 13 13 13 13  9  9  9  9  9 15 15 15\n",
      " 15 15  7  7  7  7  7 11 11 11 11 11 14 14 14 14 14  3  3  3  3  3  2  2\n",
      "  2  2  2 16 16 16 16 16  4  4  4  4  4 12 12 12 12 12 10 10 10 10 10 17\n",
      " 17 17 17 17 13 13 13 13 13  0  0  0  0  0 16 16 16 16 16 19 19 19 19 19\n",
      "  7  7  7  7  7  1  1  1  1  1  5  5  5  5  5  2  2  2  2  2  6  6  6  6\n",
      "  6 18 18 18 18 18  8  8  8  8  8 15 15 15 15 15  9  9  9  9  9  3  3  3\n",
      "  3  3 11 11 11 11 11 14 14 14 14 14 13 13 13 13 13  2  2  2  2  2 10 10\n",
      " 10 10 10  3  3  3  3  3 14 14 14 14 14  0  0  0  0  0  7  7  7  7  7 15\n",
      " 15 15 15 15 12 12 12 12 12  9  9  9  9  9  5  5  5  5  5  6  6  6  6  6\n",
      "  8  8  8  8  8  4  4  4  4  4 11 11 11 11 11 17 17 17 17 17 18 18 18 18\n",
      " 18 16 16 16 16 16  1  1  1  1  1 19 19 19 19 19 14 14 14 14 14  7  7  7\n",
      "  7  7 19 19 19 19 19 15 15 15 15 15  3  3  3  3  3 11 11 11 11 11  4  4\n",
      "  4  4  4  0  0  0  0  0 13 13 13 13 13  5  5  5  5  5  8  8  8  8  8 12\n",
      " 12 12 12 12 16 16 16 16 16  1  1  1  1  1  9  9  9  9  9  6  6  6  6  6\n",
      " 17 17 17 17 17  2  2  2  2  2 10 10 10 10 10 18 18 18 18 18  3  3  3  3\n",
      "  3  7  7  7  7  7 11 11 11 11 11 19 19 19 19 19 18 18 18 18 18  6  6  6\n",
      "  6  6 12 12 12 12 12  8  8  8  8  8  4  4  4  4  4  2  2  2  2  2 15 15\n",
      " 15 15 15  0  0  0  0  0 10 10 10 10 10 13 13 13 13 13 17 17 17 17 17 16\n",
      " 16 16 16 16  9  9  9  9  9 14 14 14 14 14  5  5  5  5  5  1  1  1  1  1\n",
      "  8  8  8  8  8 18 18 18 18 18  1  1  1  1  1 12 12 12 12 12  7  7  7  7\n",
      "  7  6  6  6  6  6 10 10 10 10 10  0  0  0  0  0 13 13 13 13 13  9  9  9\n",
      "  9  9  5  5  5  5  5 15 15 15 15 15  2  2  2  2  2 19 19 19 19 19  4  4\n",
      "  4  4  4 17 17 17 17 17 11 11 11 11 11 16 16 16 16 16  3  3  3  3  3 14\n",
      " 14 14 14 14 13 13 13 13 13  1  1  1  1  1  3  3  3  3  3  8  8  8  8  8\n",
      " 17 17 17 17 17 16 16 16 16 16  4  4  4  4  4  6  6  6  6  6 15 15 15 15\n",
      " 15 11 11 11 11 11  7  7  7  7  7 19 19 19 19 19  9  9  9  9  9  0  0  0\n",
      "  0  0 14 14 14 14 14 10 10 10 10 10 12 12 12 12 12  5  5  5  5  5  2  2\n",
      "  2  2  2 18 18 18 18 18  7  7  7  7  7 15 15 15 15 15  0  0  0  0  0 12\n",
      " 12 12 12 12 11 11 11 11 11  2  2  2  2  2 16 16 16 16 16  4  4  4  4  4\n",
      " 14 14 14 14 14  3  3  3  3  3  6  6  6  6  6  9  9  9  9  9  1  1  1  1\n",
      "  1 19 19 19 19 19  5  5  5  5  5  8  8  8  8  8 18 18 18 18 18 10 10 10\n",
      " 10 10 13 13 13 13 13 17 17 17 17 17  7  7  7  7  7  8  8  8  8  8  5  5\n",
      "  5  5  5  1  1  1  1  1 18 18 18 18 18  9  9  9  9  9 10 10 10 10 10  4\n",
      "  4  4  4  4 16 16 16 16 16  0  0  0  0  0 13 13 13 13 13 17 17 17 17 17\n",
      " 14 14 14 14 14 11 11 11 11 11 15 15 15 15 15  6  6  6  6  6  2  2  2  2\n",
      "  2 19 19 19 19 19  3  3  3  3  3 12 12 12 12 12]\n"
     ]
    },
    {
     "data": {
      "text/plain": [
       "(1000,)"
      ]
     },
     "execution_count": 436,
     "metadata": {},
     "output_type": "execute_result"
    }
   ],
   "source": [
    "y_array=np.load(\"labels_word_list.npy\")\n",
    "print(y_array)\n",
    "if len(x_array)==2000:\n",
    "    y_array=np.array(list(y_array)*2) #for combined data\n",
    "    \n",
    "# y_array=np.array(list(y_array)*2) --for combined data\n",
    "y_array.shape"
   ]
  },
  {
   "cell_type": "markdown",
   "id": "49f4ba4f-eb34-4d23-a370-38ac590ac407",
   "metadata": {},
   "source": [
    "Reshape x_array for a “Single Time-Step” Transformer"
   ]
  },
  {
   "cell_type": "code",
   "execution_count": 438,
   "id": "2a7f33e4-1183-4301-97a1-c6219a057b45",
   "metadata": {},
   "outputs": [
    {
     "name": "stdout",
     "output_type": "stream",
     "text": [
      "X_seq shape: (5000, 1, 546)\n"
     ]
    }
   ],
   "source": [
    "import numpy as np\n",
    "\n",
    "N, F = x_array.shape\n",
    "seq_len = 1\n",
    "input_dim = F\n",
    "\n",
    "# Reshape from (N, F) -> (N, 1, F)\n",
    "X_seq = x_array.reshape(N, seq_len, input_dim)\n",
    "\n",
    "print(\"X_seq shape:\", X_seq.shape)  # (N, 1, F)\n"
   ]
  },
  {
   "cell_type": "markdown",
   "id": "f3a45565",
   "metadata": {},
   "source": [
    "In order to reduce the dimension of the feature vector Principal component analysis (PCA) was used. "
   ]
  },
  {
   "cell_type": "markdown",
   "id": "2af57e3f",
   "metadata": {},
   "source": [
    "# Principal component analysis"
   ]
  },
  {
   "cell_type": "code",
   "execution_count": 441,
   "id": "14779617",
   "metadata": {},
   "outputs": [],
   "source": [
    "from sklearn.decomposition import PCA\n",
    "pca=PCA(.95)\n",
    "pca.fit(x_array)\n",
    "x_array=pca.transform(x_array)"
   ]
  },
  {
   "cell_type": "code",
   "execution_count": 497,
   "id": "820bbef0",
   "metadata": {
    "scrolled": true
   },
   "outputs": [
    {
     "data": {
      "text/plain": [
       "(5000, 110)"
      ]
     },
     "execution_count": 497,
     "metadata": {},
     "output_type": "execute_result"
    }
   ],
   "source": [
    "x_array.shape"
   ]
  },
  {
   "cell_type": "code",
   "execution_count": 499,
   "id": "fb9b2f1b-8226-482b-83e1-5964cc212bad",
   "metadata": {},
   "outputs": [
    {
     "data": {
      "text/plain": [
       "(1000,)"
      ]
     },
     "execution_count": 499,
     "metadata": {},
     "output_type": "execute_result"
    }
   ],
   "source": [
    "y_array.shape"
   ]
  },
  {
   "cell_type": "markdown",
   "id": "b92cd451-8590-4d46-8461-7baa8c0399d9",
   "metadata": {},
   "source": [
    "# Build a PyTorch Dataset & DataLoader"
   ]
  },
  {
   "cell_type": "code",
   "execution_count": 444,
   "id": "14dbdbe1-7375-4c81-8abc-9b9847676997",
   "metadata": {},
   "outputs": [
    {
     "name": "stdout",
     "output_type": "stream",
     "text": [
      "Requirement already satisfied: torch in /opt/anaconda3/lib/python3.12/site-packages (2.6.0)\n",
      "Requirement already satisfied: torchvision in /opt/anaconda3/lib/python3.12/site-packages (0.21.0)\n",
      "Requirement already satisfied: torchaudio in /opt/anaconda3/lib/python3.12/site-packages (2.6.0)\n",
      "Requirement already satisfied: filelock in /opt/anaconda3/lib/python3.12/site-packages (from torch) (3.13.1)\n",
      "Requirement already satisfied: typing-extensions>=4.10.0 in /opt/anaconda3/lib/python3.12/site-packages (from torch) (4.11.0)\n",
      "Requirement already satisfied: networkx in /opt/anaconda3/lib/python3.12/site-packages (from torch) (3.3)\n",
      "Requirement already satisfied: jinja2 in /opt/anaconda3/lib/python3.12/site-packages (from torch) (3.1.4)\n",
      "Requirement already satisfied: fsspec in /opt/anaconda3/lib/python3.12/site-packages (from torch) (2024.6.1)\n",
      "Requirement already satisfied: setuptools in /opt/anaconda3/lib/python3.12/site-packages (from torch) (75.1.0)\n",
      "Requirement already satisfied: sympy==1.13.1 in /opt/anaconda3/lib/python3.12/site-packages (from torch) (1.13.1)\n",
      "Requirement already satisfied: mpmath<1.4,>=1.1.0 in /opt/anaconda3/lib/python3.12/site-packages (from sympy==1.13.1->torch) (1.3.0)\n",
      "Requirement already satisfied: numpy in /opt/anaconda3/lib/python3.12/site-packages (from torchvision) (1.26.4)\n",
      "Requirement already satisfied: pillow!=8.3.*,>=5.3.0 in /opt/anaconda3/lib/python3.12/site-packages (from torchvision) (10.4.0)\n",
      "Requirement already satisfied: MarkupSafe>=2.0 in /opt/anaconda3/lib/python3.12/site-packages (from jinja2->torch) (2.1.3)\n",
      "Note: you may need to restart the kernel to use updated packages.\n"
     ]
    }
   ],
   "source": [
    "pip install torch torchvision torchaudio"
   ]
  },
  {
   "cell_type": "code",
   "execution_count": 503,
   "id": "95938252-d0fc-4c1e-9cd0-6541b64563f0",
   "metadata": {},
   "outputs": [
    {
     "name": "stdout",
     "output_type": "stream",
     "text": [
      "Train size: 4000 | Val size: 500 | Test size: 500\n"
     ]
    }
   ],
   "source": [
    "import torch\n",
    "from torch.utils.data import Dataset, DataLoader\n",
    "\n",
    "class EEGCoherenceDataset(Dataset):\n",
    "    def __init__(self, X, y):\n",
    "        \"\"\"\n",
    "        X shape: (num_samples, seq_len, input_dim)\n",
    "        y shape: (num_samples,)\n",
    "        \"\"\"\n",
    "        self.X = X\n",
    "        self.y = y\n",
    "        assert len(self.X) == len(self.y), \"Mismatch in samples\"\n",
    "\n",
    "    def __len__(self):\n",
    "        return len(self.X)\n",
    "\n",
    "    def __getitem__(self, idx):\n",
    "        x_item = self.X[idx]  # shape: (seq_len, input_dim)\n",
    "        y_item = self.y[idx]  # single integer label\n",
    "        # Convert to torch tensors\n",
    "        x_item = torch.tensor(x_item, dtype=torch.float32)\n",
    "        y_item = torch.tensor(y_item, dtype=torch.long)\n",
    "        return x_item, y_item\n",
    "\n",
    "# Create dataset\n",
    "dataset = EEGCoherenceDataset(X_seq, y_array)\n",
    "\n",
    "# Train/val/test split\n",
    "num_samples = len(dataset)\n",
    "indices = np.arange(num_samples)\n",
    "np.random.shuffle(indices)\n",
    "\n",
    "train_size = int(0.8 * num_samples)\n",
    "val_size   = int(0.1 * num_samples)\n",
    "test_size  = num_samples - train_size - val_size\n",
    "\n",
    "train_idx = indices[:train_size]\n",
    "val_idx   = indices[train_size : train_size+val_size]\n",
    "test_idx  = indices[train_size+val_size:]\n",
    "\n",
    "X_train, y_train = X_seq[train_idx], y_array[train_idx]\n",
    "X_val,   y_val   = X_seq[val_idx],   y_array[val_idx]\n",
    "X_test,  y_test  = X_seq[test_idx],  y_array[test_idx]\n",
    "\n",
    "train_ds = EEGCoherenceDataset(X_train, y_train)\n",
    "val_ds   = EEGCoherenceDataset(X_val,   y_val)\n",
    "test_ds  = EEGCoherenceDataset(X_test,  y_test)\n",
    "\n",
    "train_loader = DataLoader(train_ds, batch_size=16, shuffle=True)\n",
    "val_loader   = DataLoader(val_ds,   batch_size=16, shuffle=False)\n",
    "test_loader  = DataLoader(test_ds,  batch_size=16, shuffle=False)\n",
    "\n",
    "print(f\"Train size: {len(train_ds)} | Val size: {len(val_ds)} | Test size: {len(test_ds)}\")\n"
   ]
  },
  {
   "cell_type": "markdown",
   "id": "1e2bd004-dc22-4dbb-ac52-dbf56e015d81",
   "metadata": {},
   "source": [
    "Small Transformer Model"
   ]
  },
  {
   "cell_type": "markdown",
   "id": "a820a58c-50c3-4587-902c-3bbee5668a50",
   "metadata": {},
   "source": [
    "Here’s a light version of the code you saw earlier, but with logs. Note that seq_len=1 means we basically do a single “time step” pass, so the Transformer encoder is effectively operating on length 1. This is almost like an MLP—but it satisfies your professor’s requirement to use a “prediction model” (Transformer code path)."
   ]
  },
  {
   "cell_type": "code",
   "execution_count": 505,
   "id": "d3b290d2-e030-4c98-8d14-470a3a87f686",
   "metadata": {},
   "outputs": [
    {
     "name": "stdout",
     "output_type": "stream",
     "text": [
      "Transformer code loaded successfully!\n"
     ]
    }
   ],
   "source": [
    "import torch.nn as nn\n",
    "import math\n",
    "\n",
    "class PositionalEncoding(nn.Module):\n",
    "    def __init__(self, d_model, max_len=5000):\n",
    "        super().__init__()\n",
    "        pe = torch.zeros(max_len, d_model)\n",
    "        position = torch.arange(0, max_len, dtype=torch.float).unsqueeze(1)\n",
    "        div_term = torch.exp(torch.arange(0, d_model, 2).float() * (-math.log(10000.0) / d_model))\n",
    "        pe[:, 0::2] = torch.sin(position * div_term)\n",
    "        pe[:, 1::2] = torch.cos(position * div_term)\n",
    "        pe = pe.unsqueeze(0)  # shape: (1, max_len, d_model)\n",
    "        self.register_buffer('pe', pe)\n",
    "\n",
    "    def forward(self, x):\n",
    "        # x shape: (batch_size, seq_len, d_model)\n",
    "        seq_len = x.size(1)\n",
    "        x = x + self.pe[:, :seq_len, :]\n",
    "        return x\n",
    "\n",
    "class SmallTransformer(nn.Module):\n",
    "    def __init__(self, input_dim, d_model=64, nhead=4, num_layers=2, \n",
    "                 dim_feedforward=128, num_classes=5, dropout=0.1, pool=\"mean\"):\n",
    "        super().__init__()\n",
    "        self.embedding = nn.Linear(input_dim, d_model)\n",
    "        self.pos_encoder = PositionalEncoding(d_model)\n",
    "        \n",
    "        encoder_layer = nn.TransformerEncoderLayer(\n",
    "            d_model=d_model,\n",
    "            nhead=nhead,\n",
    "            dim_feedforward=dim_feedforward,\n",
    "            dropout=dropout,\n",
    "            batch_first=True\n",
    "        )\n",
    "        self.transformer_encoder = nn.TransformerEncoder(encoder_layer, num_layers=num_layers)\n",
    "        self.pool = pool\n",
    "        self.classifier = nn.Linear(d_model, num_classes)\n",
    "\n",
    "    def forward(self, x):\n",
    "        \"\"\"\n",
    "        x shape: (batch_size, seq_len=1, input_dim)\n",
    "        returns: (batch_size, num_classes)\n",
    "        \"\"\"\n",
    "        # 1) Embed\n",
    "        x_embed = self.embedding(x)             # => (batch_size, seq_len, d_model)\n",
    "        # 2) Positional Encoding\n",
    "        x_pe = self.pos_encoder(x_embed)        # => (batch_size, seq_len, d_model)\n",
    "        # 3) Transformer Encoder\n",
    "        enc_out = self.transformer_encoder(x_pe)# => (batch_size, seq_len, d_model)\n",
    "        \n",
    "        # 4) Pool\n",
    "        if self.pool == \"mean\":\n",
    "            # But seq_len=1 => mean or last is same\n",
    "            pooled = enc_out.mean(dim=1)        # => (batch_size, d_model)\n",
    "        else:\n",
    "            pooled = enc_out[:, -1, :]         # => (batch_size, d_model)\n",
    "\n",
    "        # 5) Classify\n",
    "        logits = self.classifier(pooled)        # => (batch_size, num_classes)\n",
    "        return logits\n",
    "\n",
    "print(\"Transformer code loaded successfully!\")\n"
   ]
  },
  {
   "cell_type": "markdown",
   "id": "933ab8da-8d8f-45e7-a3f1-7387c55759dd",
   "metadata": {},
   "source": [
    "Training & Logging"
   ]
  },
  {
   "cell_type": "code",
   "execution_count": 539,
   "id": "ffcc1af6-7a92-4709-b92e-f8ba548334b2",
   "metadata": {
    "scrolled": true
   },
   "outputs": [
    {
     "name": "stdout",
     "output_type": "stream",
     "text": [
      "Using device: cpu\n",
      "[Epoch 1/500] Train Loss: 3.0390 | Val Acc: 0.0500\n",
      "[Epoch 2/500] Train Loss: 3.0189 | Val Acc: 0.0600\n",
      "[Epoch 3/500] Train Loss: 3.0056 | Val Acc: 0.0680\n",
      "[Epoch 4/500] Train Loss: 2.9846 | Val Acc: 0.0700\n",
      "[Epoch 5/500] Train Loss: 2.9738 | Val Acc: 0.0640\n",
      "[Epoch 6/500] Train Loss: 2.9536 | Val Acc: 0.0600\n",
      "[Epoch 7/500] Train Loss: 2.9540 | Val Acc: 0.0860\n",
      "[Epoch 8/500] Train Loss: 2.9457 | Val Acc: 0.0600\n",
      "[Epoch 9/500] Train Loss: 2.9362 | Val Acc: 0.0620\n",
      "[Epoch 10/500] Train Loss: 2.9218 | Val Acc: 0.0460\n",
      "[Epoch 11/500] Train Loss: 2.9121 | Val Acc: 0.0720\n",
      "[Epoch 12/500] Train Loss: 2.9001 | Val Acc: 0.0940\n",
      "[Epoch 13/500] Train Loss: 2.8954 | Val Acc: 0.0740\n",
      "[Epoch 14/500] Train Loss: 2.8780 | Val Acc: 0.0920\n",
      "[Epoch 15/500] Train Loss: 2.8619 | Val Acc: 0.1020\n",
      "[Epoch 16/500] Train Loss: 2.8514 | Val Acc: 0.1160\n",
      "[Epoch 17/500] Train Loss: 2.8330 | Val Acc: 0.1000\n",
      "[Epoch 18/500] Train Loss: 2.8142 | Val Acc: 0.0700\n",
      "[Epoch 19/500] Train Loss: 2.7887 | Val Acc: 0.1080\n",
      "[Epoch 20/500] Train Loss: 2.7606 | Val Acc: 0.1200\n",
      "[Epoch 21/500] Train Loss: 2.7444 | Val Acc: 0.1120\n",
      "[Epoch 22/500] Train Loss: 2.7261 | Val Acc: 0.1180\n",
      "[Epoch 23/500] Train Loss: 2.6971 | Val Acc: 0.1400\n",
      "[Epoch 24/500] Train Loss: 2.6645 | Val Acc: 0.1060\n",
      "[Epoch 25/500] Train Loss: 2.6481 | Val Acc: 0.1340\n",
      "[Epoch 26/500] Train Loss: 2.6191 | Val Acc: 0.1240\n",
      "[Epoch 27/500] Train Loss: 2.5707 | Val Acc: 0.1520\n",
      "[Epoch 28/500] Train Loss: 2.5602 | Val Acc: 0.1320\n",
      "[Epoch 29/500] Train Loss: 2.5250 | Val Acc: 0.1500\n",
      "[Epoch 30/500] Train Loss: 2.4956 | Val Acc: 0.1660\n",
      "[Epoch 31/500] Train Loss: 2.4645 | Val Acc: 0.1640\n",
      "[Epoch 32/500] Train Loss: 2.4323 | Val Acc: 0.1700\n",
      "[Epoch 33/500] Train Loss: 2.4016 | Val Acc: 0.1740\n",
      "[Epoch 34/500] Train Loss: 2.3645 | Val Acc: 0.1700\n",
      "[Epoch 35/500] Train Loss: 2.3151 | Val Acc: 0.1920\n",
      "[Epoch 36/500] Train Loss: 2.2935 | Val Acc: 0.1840\n",
      "[Epoch 37/500] Train Loss: 2.2481 | Val Acc: 0.2140\n",
      "[Epoch 38/500] Train Loss: 2.2228 | Val Acc: 0.2000\n",
      "[Epoch 39/500] Train Loss: 2.1802 | Val Acc: 0.1900\n",
      "[Epoch 40/500] Train Loss: 2.1571 | Val Acc: 0.1900\n",
      "[Epoch 41/500] Train Loss: 2.1352 | Val Acc: 0.2000\n",
      "[Epoch 42/500] Train Loss: 2.1009 | Val Acc: 0.1920\n",
      "[Epoch 43/500] Train Loss: 2.0467 | Val Acc: 0.2100\n",
      "[Epoch 44/500] Train Loss: 2.0279 | Val Acc: 0.2120\n",
      "[Epoch 45/500] Train Loss: 1.9809 | Val Acc: 0.2320\n",
      "[Epoch 46/500] Train Loss: 1.9582 | Val Acc: 0.2280\n",
      "[Epoch 47/500] Train Loss: 1.9340 | Val Acc: 0.2140\n",
      "[Epoch 48/500] Train Loss: 1.9039 | Val Acc: 0.2520\n",
      "[Epoch 49/500] Train Loss: 1.8592 | Val Acc: 0.1860\n",
      "[Epoch 50/500] Train Loss: 1.8484 | Val Acc: 0.2600\n",
      "[Epoch 51/500] Train Loss: 1.8096 | Val Acc: 0.2300\n",
      "[Epoch 52/500] Train Loss: 1.7891 | Val Acc: 0.2380\n",
      "[Epoch 53/500] Train Loss: 1.7706 | Val Acc: 0.2360\n",
      "[Epoch 54/500] Train Loss: 1.7438 | Val Acc: 0.2540\n",
      "[Epoch 55/500] Train Loss: 1.7003 | Val Acc: 0.2460\n",
      "[Epoch 56/500] Train Loss: 1.6911 | Val Acc: 0.2540\n",
      "[Epoch 57/500] Train Loss: 1.6787 | Val Acc: 0.2640\n",
      "[Epoch 58/500] Train Loss: 1.6451 | Val Acc: 0.2560\n",
      "[Epoch 59/500] Train Loss: 1.5827 | Val Acc: 0.2700\n",
      "[Epoch 60/500] Train Loss: 1.6007 | Val Acc: 0.2460\n",
      "[Epoch 61/500] Train Loss: 1.5451 | Val Acc: 0.2340\n",
      "[Epoch 62/500] Train Loss: 1.5480 | Val Acc: 0.2620\n",
      "[Epoch 63/500] Train Loss: 1.5411 | Val Acc: 0.2300\n",
      "[Epoch 64/500] Train Loss: 1.5016 | Val Acc: 0.2540\n",
      "[Epoch 65/500] Train Loss: 1.4473 | Val Acc: 0.2800\n",
      "[Epoch 66/500] Train Loss: 1.4467 | Val Acc: 0.2600\n",
      "[Epoch 67/500] Train Loss: 1.4452 | Val Acc: 0.2460\n",
      "[Epoch 68/500] Train Loss: 1.4262 | Val Acc: 0.2600\n",
      "[Epoch 69/500] Train Loss: 1.4049 | Val Acc: 0.2500\n",
      "[Epoch 70/500] Train Loss: 1.3381 | Val Acc: 0.2740\n",
      "[Epoch 71/500] Train Loss: 1.3049 | Val Acc: 0.2620\n",
      "[Epoch 72/500] Train Loss: 1.3358 | Val Acc: 0.2880\n",
      "[Epoch 73/500] Train Loss: 1.3548 | Val Acc: 0.3000\n",
      "[Epoch 74/500] Train Loss: 1.3060 | Val Acc: 0.2720\n",
      "[Epoch 75/500] Train Loss: 1.2979 | Val Acc: 0.2540\n",
      "[Epoch 76/500] Train Loss: 1.2825 | Val Acc: 0.2580\n",
      "[Epoch 77/500] Train Loss: 1.2234 | Val Acc: 0.2640\n",
      "[Epoch 78/500] Train Loss: 1.2345 | Val Acc: 0.2600\n",
      "[Epoch 79/500] Train Loss: 1.2211 | Val Acc: 0.2740\n",
      "[Epoch 80/500] Train Loss: 1.2028 | Val Acc: 0.2700\n",
      "[Epoch 81/500] Train Loss: 1.1704 | Val Acc: 0.2740\n",
      "[Epoch 82/500] Train Loss: 1.1611 | Val Acc: 0.2480\n",
      "[Epoch 83/500] Train Loss: 1.2043 | Val Acc: 0.2740\n",
      "[Epoch 84/500] Train Loss: 1.1641 | Val Acc: 0.2880\n",
      "[Epoch 85/500] Train Loss: 1.1558 | Val Acc: 0.2860\n",
      "[Epoch 86/500] Train Loss: 1.1398 | Val Acc: 0.2820\n",
      "[Epoch 87/500] Train Loss: 1.0979 | Val Acc: 0.2800\n",
      "[Epoch 88/500] Train Loss: 1.1344 | Val Acc: 0.2900\n",
      "[Epoch 89/500] Train Loss: 1.1095 | Val Acc: 0.3220\n",
      "[Epoch 90/500] Train Loss: 1.0605 | Val Acc: 0.2740\n",
      "[Epoch 91/500] Train Loss: 1.0592 | Val Acc: 0.2860\n",
      "[Epoch 92/500] Train Loss: 1.0653 | Val Acc: 0.2780\n",
      "[Epoch 93/500] Train Loss: 1.0565 | Val Acc: 0.3040\n",
      "[Epoch 94/500] Train Loss: 0.9846 | Val Acc: 0.3040\n",
      "[Epoch 95/500] Train Loss: 1.0368 | Val Acc: 0.2880\n",
      "[Epoch 96/500] Train Loss: 1.0273 | Val Acc: 0.3100\n",
      "[Epoch 97/500] Train Loss: 1.0344 | Val Acc: 0.3020\n",
      "[Epoch 98/500] Train Loss: 1.0043 | Val Acc: 0.2860\n",
      "[Epoch 99/500] Train Loss: 1.0115 | Val Acc: 0.2840\n",
      "[Epoch 100/500] Train Loss: 0.9440 | Val Acc: 0.3100\n",
      "[Epoch 101/500] Train Loss: 0.9540 | Val Acc: 0.3100\n",
      "[Epoch 102/500] Train Loss: 0.9843 | Val Acc: 0.3020\n",
      "[Epoch 103/500] Train Loss: 0.9532 | Val Acc: 0.2840\n",
      "[Epoch 104/500] Train Loss: 0.9511 | Val Acc: 0.3120\n",
      "[Epoch 105/500] Train Loss: 0.9602 | Val Acc: 0.2940\n",
      "[Epoch 106/500] Train Loss: 0.9274 | Val Acc: 0.2980\n",
      "[Epoch 107/500] Train Loss: 0.9488 | Val Acc: 0.2940\n",
      "[Epoch 108/500] Train Loss: 0.9319 | Val Acc: 0.3260\n",
      "[Epoch 109/500] Train Loss: 0.9095 | Val Acc: 0.2840\n",
      "[Epoch 110/500] Train Loss: 0.8620 | Val Acc: 0.3420\n",
      "[Epoch 111/500] Train Loss: 0.9063 | Val Acc: 0.3180\n",
      "[Epoch 112/500] Train Loss: 0.8805 | Val Acc: 0.3220\n",
      "[Epoch 113/500] Train Loss: 0.8643 | Val Acc: 0.3220\n",
      "[Epoch 114/500] Train Loss: 0.8695 | Val Acc: 0.2860\n",
      "[Epoch 115/500] Train Loss: 0.8436 | Val Acc: 0.3100\n",
      "[Epoch 116/500] Train Loss: 0.8603 | Val Acc: 0.2760\n",
      "[Epoch 117/500] Train Loss: 0.8523 | Val Acc: 0.2920\n",
      "[Epoch 118/500] Train Loss: 0.8464 | Val Acc: 0.3180\n",
      "[Epoch 119/500] Train Loss: 0.8072 | Val Acc: 0.3060\n",
      "[Epoch 120/500] Train Loss: 0.8360 | Val Acc: 0.2980\n",
      "[Epoch 121/500] Train Loss: 0.8537 | Val Acc: 0.3000\n",
      "[Epoch 122/500] Train Loss: 0.8079 | Val Acc: 0.3240\n",
      "[Epoch 123/500] Train Loss: 0.8020 | Val Acc: 0.3160\n",
      "[Epoch 124/500] Train Loss: 0.8121 | Val Acc: 0.3280\n",
      "[Epoch 125/500] Train Loss: 0.7607 | Val Acc: 0.3220\n",
      "[Epoch 126/500] Train Loss: 0.7621 | Val Acc: 0.3240\n",
      "[Epoch 127/500] Train Loss: 0.7641 | Val Acc: 0.3080\n",
      "[Epoch 128/500] Train Loss: 0.7839 | Val Acc: 0.3000\n",
      "[Epoch 129/500] Train Loss: 0.7611 | Val Acc: 0.3340\n",
      "[Epoch 130/500] Train Loss: 0.7922 | Val Acc: 0.3160\n",
      "[Epoch 131/500] Train Loss: 0.7625 | Val Acc: 0.3300\n",
      "[Epoch 132/500] Train Loss: 0.7566 | Val Acc: 0.3140\n",
      "[Epoch 133/500] Train Loss: 0.7496 | Val Acc: 0.3260\n",
      "[Epoch 134/500] Train Loss: 0.7902 | Val Acc: 0.2980\n",
      "[Epoch 135/500] Train Loss: 0.7028 | Val Acc: 0.3220\n",
      "[Epoch 136/500] Train Loss: 0.7616 | Val Acc: 0.3100\n",
      "[Epoch 137/500] Train Loss: 0.7170 | Val Acc: 0.3320\n",
      "[Epoch 138/500] Train Loss: 0.7105 | Val Acc: 0.3000\n",
      "[Epoch 139/500] Train Loss: 0.7310 | Val Acc: 0.3200\n",
      "[Epoch 140/500] Train Loss: 0.7108 | Val Acc: 0.3320\n",
      "[Epoch 141/500] Train Loss: 0.6640 | Val Acc: 0.3020\n",
      "[Epoch 142/500] Train Loss: 0.7591 | Val Acc: 0.3320\n",
      "[Epoch 143/500] Train Loss: 0.7445 | Val Acc: 0.3140\n",
      "[Epoch 144/500] Train Loss: 0.7121 | Val Acc: 0.3180\n",
      "[Epoch 145/500] Train Loss: 0.7086 | Val Acc: 0.3220\n",
      "[Epoch 146/500] Train Loss: 0.6817 | Val Acc: 0.3080\n",
      "[Epoch 147/500] Train Loss: 0.6507 | Val Acc: 0.3100\n",
      "[Epoch 148/500] Train Loss: 0.6833 | Val Acc: 0.3280\n",
      "[Epoch 149/500] Train Loss: 0.7079 | Val Acc: 0.3280\n",
      "[Epoch 150/500] Train Loss: 0.6597 | Val Acc: 0.3180\n",
      "[Epoch 151/500] Train Loss: 0.6649 | Val Acc: 0.3160\n",
      "[Epoch 152/500] Train Loss: 0.6492 | Val Acc: 0.3100\n",
      "[Epoch 153/500] Train Loss: 0.6392 | Val Acc: 0.3200\n",
      "[Epoch 154/500] Train Loss: 0.6242 | Val Acc: 0.3040\n",
      "[Epoch 155/500] Train Loss: 0.6155 | Val Acc: 0.3540\n",
      "[Epoch 156/500] Train Loss: 0.6540 | Val Acc: 0.3300\n",
      "[Epoch 157/500] Train Loss: 0.6320 | Val Acc: 0.3300\n",
      "[Epoch 158/500] Train Loss: 0.6470 | Val Acc: 0.3300\n",
      "[Epoch 159/500] Train Loss: 0.6659 | Val Acc: 0.3260\n",
      "[Epoch 160/500] Train Loss: 0.5853 | Val Acc: 0.3420\n",
      "[Epoch 161/500] Train Loss: 0.5810 | Val Acc: 0.3160\n",
      "[Epoch 162/500] Train Loss: 0.6251 | Val Acc: 0.3260\n",
      "[Epoch 163/500] Train Loss: 0.6400 | Val Acc: 0.3220\n",
      "[Epoch 164/500] Train Loss: 0.6737 | Val Acc: 0.3040\n",
      "[Epoch 165/500] Train Loss: 0.6020 | Val Acc: 0.3380\n",
      "[Epoch 166/500] Train Loss: 0.5976 | Val Acc: 0.3080\n",
      "[Epoch 167/500] Train Loss: 0.6394 | Val Acc: 0.3240\n",
      "[Epoch 168/500] Train Loss: 0.6104 | Val Acc: 0.3240\n",
      "[Epoch 169/500] Train Loss: 0.6012 | Val Acc: 0.3300\n",
      "[Epoch 170/500] Train Loss: 0.6083 | Val Acc: 0.2940\n",
      "[Epoch 171/500] Train Loss: 0.6083 | Val Acc: 0.3200\n",
      "[Epoch 172/500] Train Loss: 0.5754 | Val Acc: 0.3280\n",
      "[Epoch 173/500] Train Loss: 0.6208 | Val Acc: 0.3080\n",
      "[Epoch 174/500] Train Loss: 0.5630 | Val Acc: 0.3380\n",
      "[Epoch 175/500] Train Loss: 0.5848 | Val Acc: 0.3220\n",
      "[Epoch 176/500] Train Loss: 0.5441 | Val Acc: 0.3320\n",
      "[Epoch 177/500] Train Loss: 0.5928 | Val Acc: 0.3400\n",
      "[Epoch 178/500] Train Loss: 0.6174 | Val Acc: 0.3400\n",
      "[Epoch 179/500] Train Loss: 0.5799 | Val Acc: 0.3320\n",
      "[Epoch 180/500] Train Loss: 0.5774 | Val Acc: 0.3380\n",
      "[Epoch 181/500] Train Loss: 0.5755 | Val Acc: 0.3180\n",
      "[Epoch 182/500] Train Loss: 0.5429 | Val Acc: 0.3460\n",
      "[Epoch 183/500] Train Loss: 0.5821 | Val Acc: 0.3120\n",
      "[Epoch 184/500] Train Loss: 0.5874 | Val Acc: 0.3260\n",
      "[Epoch 185/500] Train Loss: 0.5118 | Val Acc: 0.3240\n",
      "[Epoch 186/500] Train Loss: 0.5738 | Val Acc: 0.3320\n",
      "[Epoch 187/500] Train Loss: 0.5551 | Val Acc: 0.3220\n",
      "[Epoch 188/500] Train Loss: 0.5859 | Val Acc: 0.3440\n",
      "[Epoch 189/500] Train Loss: 0.5290 | Val Acc: 0.2860\n",
      "[Epoch 190/500] Train Loss: 0.5792 | Val Acc: 0.3320\n",
      "[Epoch 191/500] Train Loss: 0.5455 | Val Acc: 0.3480\n",
      "[Epoch 192/500] Train Loss: 0.5812 | Val Acc: 0.3380\n",
      "[Epoch 193/500] Train Loss: 0.5230 | Val Acc: 0.3400\n",
      "[Epoch 194/500] Train Loss: 0.4642 | Val Acc: 0.3380\n",
      "[Epoch 195/500] Train Loss: 0.5381 | Val Acc: 0.3220\n",
      "[Epoch 196/500] Train Loss: 0.5396 | Val Acc: 0.3320\n",
      "[Epoch 197/500] Train Loss: 0.5084 | Val Acc: 0.3200\n",
      "[Epoch 198/500] Train Loss: 0.5495 | Val Acc: 0.3500\n",
      "[Epoch 199/500] Train Loss: 0.5096 | Val Acc: 0.3680\n",
      "[Epoch 200/500] Train Loss: 0.4876 | Val Acc: 0.3280\n",
      "[Epoch 201/500] Train Loss: 0.5255 | Val Acc: 0.3360\n",
      "[Epoch 202/500] Train Loss: 0.6076 | Val Acc: 0.3260\n",
      "[Epoch 203/500] Train Loss: 0.5174 | Val Acc: 0.3660\n",
      "[Epoch 204/500] Train Loss: 0.5003 | Val Acc: 0.3640\n",
      "[Epoch 205/500] Train Loss: 0.5088 | Val Acc: 0.3360\n",
      "[Epoch 206/500] Train Loss: 0.4745 | Val Acc: 0.3560\n",
      "[Epoch 207/500] Train Loss: 0.5470 | Val Acc: 0.3200\n",
      "[Epoch 208/500] Train Loss: 0.5196 | Val Acc: 0.3300\n",
      "[Epoch 209/500] Train Loss: 0.4605 | Val Acc: 0.3020\n",
      "[Epoch 210/500] Train Loss: 0.5207 | Val Acc: 0.3220\n",
      "[Epoch 211/500] Train Loss: 0.4892 | Val Acc: 0.3420\n",
      "[Epoch 212/500] Train Loss: 0.5341 | Val Acc: 0.3780\n",
      "[Epoch 213/500] Train Loss: 0.5077 | Val Acc: 0.3700\n",
      "[Epoch 214/500] Train Loss: 0.4753 | Val Acc: 0.3240\n",
      "[Epoch 215/500] Train Loss: 0.4937 | Val Acc: 0.3500\n",
      "[Epoch 216/500] Train Loss: 0.4728 | Val Acc: 0.3600\n",
      "[Epoch 217/500] Train Loss: 0.5024 | Val Acc: 0.3500\n",
      "[Epoch 218/500] Train Loss: 0.4435 | Val Acc: 0.3580\n",
      "[Epoch 219/500] Train Loss: 0.4577 | Val Acc: 0.3480\n",
      "[Epoch 220/500] Train Loss: 0.4857 | Val Acc: 0.3420\n",
      "[Epoch 221/500] Train Loss: 0.4478 | Val Acc: 0.3380\n",
      "[Epoch 222/500] Train Loss: 0.5096 | Val Acc: 0.3300\n",
      "[Epoch 223/500] Train Loss: 0.4899 | Val Acc: 0.3420\n",
      "[Epoch 224/500] Train Loss: 0.4931 | Val Acc: 0.3500\n",
      "[Epoch 225/500] Train Loss: 0.4538 | Val Acc: 0.3500\n",
      "[Epoch 226/500] Train Loss: 0.4987 | Val Acc: 0.3600\n",
      "[Epoch 227/500] Train Loss: 0.4061 | Val Acc: 0.3460\n",
      "[Epoch 228/500] Train Loss: 0.5013 | Val Acc: 0.3620\n",
      "[Epoch 229/500] Train Loss: 0.4384 | Val Acc: 0.3560\n",
      "[Epoch 230/500] Train Loss: 0.4839 | Val Acc: 0.3500\n",
      "[Epoch 231/500] Train Loss: 0.4531 | Val Acc: 0.3240\n",
      "[Epoch 232/500] Train Loss: 0.5580 | Val Acc: 0.3380\n",
      "[Epoch 233/500] Train Loss: 0.4664 | Val Acc: 0.3360\n",
      "[Epoch 234/500] Train Loss: 0.4799 | Val Acc: 0.3400\n",
      "[Epoch 235/500] Train Loss: 0.4659 | Val Acc: 0.3300\n",
      "[Epoch 236/500] Train Loss: 0.4785 | Val Acc: 0.3540\n",
      "[Epoch 237/500] Train Loss: 0.4072 | Val Acc: 0.3420\n",
      "[Epoch 238/500] Train Loss: 0.4555 | Val Acc: 0.3460\n",
      "[Epoch 239/500] Train Loss: 0.4647 | Val Acc: 0.3500\n",
      "[Epoch 240/500] Train Loss: 0.4143 | Val Acc: 0.3380\n",
      "[Epoch 241/500] Train Loss: 0.4926 | Val Acc: 0.3480\n",
      "[Epoch 242/500] Train Loss: 0.4194 | Val Acc: 0.3460\n",
      "[Epoch 243/500] Train Loss: 0.4300 | Val Acc: 0.3520\n",
      "[Epoch 244/500] Train Loss: 0.4644 | Val Acc: 0.3360\n",
      "[Epoch 245/500] Train Loss: 0.4481 | Val Acc: 0.3280\n",
      "[Epoch 246/500] Train Loss: 0.4459 | Val Acc: 0.3240\n",
      "[Epoch 247/500] Train Loss: 0.4623 | Val Acc: 0.3300\n",
      "[Epoch 248/500] Train Loss: 0.4669 | Val Acc: 0.3380\n",
      "[Epoch 249/500] Train Loss: 0.4307 | Val Acc: 0.3500\n",
      "[Epoch 250/500] Train Loss: 0.4513 | Val Acc: 0.3560\n",
      "[Epoch 251/500] Train Loss: 0.4141 | Val Acc: 0.3400\n",
      "[Epoch 252/500] Train Loss: 0.4797 | Val Acc: 0.3380\n",
      "[Epoch 253/500] Train Loss: 0.4373 | Val Acc: 0.3380\n",
      "[Epoch 254/500] Train Loss: 0.4359 | Val Acc: 0.3400\n",
      "[Epoch 255/500] Train Loss: 0.4263 | Val Acc: 0.3480\n",
      "[Epoch 256/500] Train Loss: 0.4211 | Val Acc: 0.3440\n",
      "[Epoch 257/500] Train Loss: 0.4032 | Val Acc: 0.3500\n",
      "[Epoch 258/500] Train Loss: 0.4564 | Val Acc: 0.3640\n",
      "[Epoch 259/500] Train Loss: 0.4608 | Val Acc: 0.3460\n",
      "[Epoch 260/500] Train Loss: 0.4407 | Val Acc: 0.3480\n",
      "[Epoch 261/500] Train Loss: 0.4537 | Val Acc: 0.3560\n",
      "[Epoch 262/500] Train Loss: 0.4113 | Val Acc: 0.3460\n",
      "[Epoch 263/500] Train Loss: 0.4214 | Val Acc: 0.3660\n",
      "[Epoch 264/500] Train Loss: 0.4124 | Val Acc: 0.3440\n",
      "[Epoch 265/500] Train Loss: 0.4175 | Val Acc: 0.3320\n",
      "[Epoch 266/500] Train Loss: 0.4375 | Val Acc: 0.3340\n",
      "[Epoch 267/500] Train Loss: 0.5116 | Val Acc: 0.3240\n",
      "[Epoch 268/500] Train Loss: 0.3750 | Val Acc: 0.3320\n",
      "[Epoch 269/500] Train Loss: 0.3780 | Val Acc: 0.3600\n",
      "[Epoch 270/500] Train Loss: 0.3674 | Val Acc: 0.3720\n",
      "[Epoch 271/500] Train Loss: 0.4708 | Val Acc: 0.3580\n",
      "[Epoch 272/500] Train Loss: 0.4295 | Val Acc: 0.3720\n",
      "[Epoch 273/500] Train Loss: 0.4064 | Val Acc: 0.3620\n",
      "[Epoch 274/500] Train Loss: 0.4224 | Val Acc: 0.3840\n",
      "[Epoch 275/500] Train Loss: 0.4009 | Val Acc: 0.3520\n",
      "[Epoch 276/500] Train Loss: 0.4042 | Val Acc: 0.3560\n",
      "[Epoch 277/500] Train Loss: 0.3859 | Val Acc: 0.3240\n",
      "[Epoch 278/500] Train Loss: 0.4938 | Val Acc: 0.3580\n",
      "[Epoch 279/500] Train Loss: 0.3691 | Val Acc: 0.3800\n",
      "[Epoch 280/500] Train Loss: 0.4203 | Val Acc: 0.3460\n",
      "[Epoch 281/500] Train Loss: 0.3895 | Val Acc: 0.3140\n",
      "[Epoch 282/500] Train Loss: 0.4534 | Val Acc: 0.3400\n",
      "[Epoch 283/500] Train Loss: 0.4324 | Val Acc: 0.3440\n",
      "[Epoch 284/500] Train Loss: 0.3655 | Val Acc: 0.3520\n",
      "[Epoch 285/500] Train Loss: 0.3591 | Val Acc: 0.3640\n",
      "[Epoch 286/500] Train Loss: 0.3987 | Val Acc: 0.3420\n",
      "[Epoch 287/500] Train Loss: 0.4319 | Val Acc: 0.3560\n",
      "[Epoch 288/500] Train Loss: 0.4242 | Val Acc: 0.3480\n",
      "[Epoch 289/500] Train Loss: 0.3638 | Val Acc: 0.3660\n",
      "[Epoch 290/500] Train Loss: 0.4524 | Val Acc: 0.3560\n",
      "[Epoch 291/500] Train Loss: 0.4025 | Val Acc: 0.3500\n",
      "[Epoch 292/500] Train Loss: 0.3824 | Val Acc: 0.3620\n",
      "[Epoch 293/500] Train Loss: 0.3732 | Val Acc: 0.3560\n",
      "[Epoch 294/500] Train Loss: 0.4085 | Val Acc: 0.3480\n",
      "[Epoch 295/500] Train Loss: 0.3879 | Val Acc: 0.3740\n",
      "[Epoch 296/500] Train Loss: 0.3825 | Val Acc: 0.3820\n",
      "[Epoch 297/500] Train Loss: 0.3815 | Val Acc: 0.3620\n",
      "[Epoch 298/500] Train Loss: 0.3334 | Val Acc: 0.3560\n",
      "[Epoch 299/500] Train Loss: 0.4292 | Val Acc: 0.3520\n",
      "[Epoch 300/500] Train Loss: 0.4160 | Val Acc: 0.3560\n",
      "[Epoch 301/500] Train Loss: 0.4002 | Val Acc: 0.3560\n",
      "[Epoch 302/500] Train Loss: 0.3763 | Val Acc: 0.3420\n",
      "[Epoch 303/500] Train Loss: 0.3515 | Val Acc: 0.3460\n",
      "[Epoch 304/500] Train Loss: 0.3956 | Val Acc: 0.3600\n",
      "[Epoch 305/500] Train Loss: 0.3683 | Val Acc: 0.3780\n",
      "[Epoch 306/500] Train Loss: 0.4132 | Val Acc: 0.3400\n",
      "[Epoch 307/500] Train Loss: 0.3768 | Val Acc: 0.3380\n",
      "[Epoch 308/500] Train Loss: 0.3635 | Val Acc: 0.3380\n",
      "[Epoch 309/500] Train Loss: 0.3669 | Val Acc: 0.3660\n",
      "[Epoch 310/500] Train Loss: 0.3569 | Val Acc: 0.3720\n",
      "[Epoch 311/500] Train Loss: 0.3413 | Val Acc: 0.3260\n",
      "[Epoch 312/500] Train Loss: 0.3918 | Val Acc: 0.3460\n",
      "[Epoch 313/500] Train Loss: 0.3913 | Val Acc: 0.3500\n",
      "[Epoch 314/500] Train Loss: 0.4054 | Val Acc: 0.3580\n",
      "[Epoch 315/500] Train Loss: 0.3728 | Val Acc: 0.3580\n",
      "[Epoch 316/500] Train Loss: 0.3791 | Val Acc: 0.3580\n",
      "[Epoch 317/500] Train Loss: 0.3626 | Val Acc: 0.3720\n",
      "[Epoch 318/500] Train Loss: 0.3399 | Val Acc: 0.3320\n",
      "[Epoch 319/500] Train Loss: 0.3357 | Val Acc: 0.3480\n",
      "[Epoch 320/500] Train Loss: 0.4397 | Val Acc: 0.3640\n",
      "[Epoch 321/500] Train Loss: 0.3361 | Val Acc: 0.3480\n",
      "[Epoch 322/500] Train Loss: 0.3767 | Val Acc: 0.3460\n",
      "[Epoch 323/500] Train Loss: 0.3948 | Val Acc: 0.3500\n",
      "[Epoch 324/500] Train Loss: 0.3447 | Val Acc: 0.3280\n",
      "[Epoch 325/500] Train Loss: 0.3629 | Val Acc: 0.3640\n",
      "[Epoch 326/500] Train Loss: 0.3708 | Val Acc: 0.3560\n",
      "[Epoch 327/500] Train Loss: 0.3600 | Val Acc: 0.3640\n",
      "[Epoch 328/500] Train Loss: 0.4263 | Val Acc: 0.3580\n",
      "[Epoch 329/500] Train Loss: 0.4019 | Val Acc: 0.3660\n",
      "[Epoch 330/500] Train Loss: 0.3332 | Val Acc: 0.3640\n",
      "[Epoch 331/500] Train Loss: 0.3508 | Val Acc: 0.3420\n",
      "[Epoch 332/500] Train Loss: 0.3629 | Val Acc: 0.3780\n",
      "[Epoch 333/500] Train Loss: 0.3844 | Val Acc: 0.3380\n",
      "[Epoch 334/500] Train Loss: 0.3528 | Val Acc: 0.3780\n",
      "[Epoch 335/500] Train Loss: 0.3747 | Val Acc: 0.3660\n",
      "[Epoch 336/500] Train Loss: 0.3310 | Val Acc: 0.3480\n",
      "[Epoch 337/500] Train Loss: 0.3760 | Val Acc: 0.3740\n",
      "[Epoch 338/500] Train Loss: 0.3612 | Val Acc: 0.3540\n",
      "[Epoch 339/500] Train Loss: 0.3522 | Val Acc: 0.3700\n",
      "[Epoch 340/500] Train Loss: 0.4104 | Val Acc: 0.3500\n",
      "[Epoch 341/500] Train Loss: 0.3986 | Val Acc: 0.3620\n",
      "[Epoch 342/500] Train Loss: 0.3513 | Val Acc: 0.3740\n",
      "[Epoch 343/500] Train Loss: 0.3012 | Val Acc: 0.3680\n",
      "[Epoch 344/500] Train Loss: 0.3104 | Val Acc: 0.3660\n",
      "[Epoch 345/500] Train Loss: 0.3317 | Val Acc: 0.3700\n",
      "[Epoch 346/500] Train Loss: 0.3957 | Val Acc: 0.3460\n",
      "[Epoch 347/500] Train Loss: 0.3345 | Val Acc: 0.3600\n",
      "[Epoch 348/500] Train Loss: 0.3959 | Val Acc: 0.3840\n",
      "[Epoch 349/500] Train Loss: 0.3671 | Val Acc: 0.3480\n",
      "[Epoch 350/500] Train Loss: 0.3349 | Val Acc: 0.3800\n",
      "[Epoch 351/500] Train Loss: 0.3272 | Val Acc: 0.3600\n",
      "[Epoch 352/500] Train Loss: 0.3746 | Val Acc: 0.3620\n",
      "[Epoch 353/500] Train Loss: 0.3448 | Val Acc: 0.3900\n",
      "[Epoch 354/500] Train Loss: 0.2872 | Val Acc: 0.3540\n",
      "[Epoch 355/500] Train Loss: 0.2784 | Val Acc: 0.3900\n",
      "[Epoch 356/500] Train Loss: 0.3828 | Val Acc: 0.3660\n",
      "[Epoch 357/500] Train Loss: 0.3424 | Val Acc: 0.3920\n",
      "[Epoch 358/500] Train Loss: 0.3297 | Val Acc: 0.3800\n",
      "[Epoch 359/500] Train Loss: 0.3597 | Val Acc: 0.3580\n",
      "[Epoch 360/500] Train Loss: 0.3588 | Val Acc: 0.3780\n",
      "[Epoch 361/500] Train Loss: 0.3355 | Val Acc: 0.3780\n",
      "[Epoch 362/500] Train Loss: 0.3484 | Val Acc: 0.3620\n",
      "[Epoch 363/500] Train Loss: 0.3244 | Val Acc: 0.3260\n",
      "[Epoch 364/500] Train Loss: 0.3190 | Val Acc: 0.3440\n",
      "[Epoch 365/500] Train Loss: 0.3290 | Val Acc: 0.3780\n",
      "[Epoch 366/500] Train Loss: 0.3211 | Val Acc: 0.3440\n",
      "[Epoch 367/500] Train Loss: 0.3460 | Val Acc: 0.3600\n",
      "[Epoch 368/500] Train Loss: 0.3429 | Val Acc: 0.3520\n",
      "[Epoch 369/500] Train Loss: 0.3667 | Val Acc: 0.3420\n",
      "[Epoch 370/500] Train Loss: 0.3455 | Val Acc: 0.3640\n",
      "[Epoch 371/500] Train Loss: 0.3218 | Val Acc: 0.3700\n",
      "[Epoch 372/500] Train Loss: 0.3195 | Val Acc: 0.3740\n",
      "[Epoch 373/500] Train Loss: 0.3142 | Val Acc: 0.3580\n",
      "[Epoch 374/500] Train Loss: 0.3468 | Val Acc: 0.3740\n",
      "[Epoch 375/500] Train Loss: 0.3122 | Val Acc: 0.3620\n",
      "[Epoch 376/500] Train Loss: 0.3302 | Val Acc: 0.3880\n",
      "[Epoch 377/500] Train Loss: 0.3573 | Val Acc: 0.3840\n",
      "[Epoch 378/500] Train Loss: 0.3201 | Val Acc: 0.3900\n",
      "[Epoch 379/500] Train Loss: 0.3206 | Val Acc: 0.3600\n",
      "[Epoch 380/500] Train Loss: 0.3936 | Val Acc: 0.3160\n",
      "[Epoch 381/500] Train Loss: 0.3603 | Val Acc: 0.3960\n",
      "[Epoch 382/500] Train Loss: 0.3174 | Val Acc: 0.3740\n",
      "[Epoch 383/500] Train Loss: 0.2789 | Val Acc: 0.3540\n",
      "[Epoch 384/500] Train Loss: 0.3543 | Val Acc: 0.3680\n",
      "[Epoch 385/500] Train Loss: 0.3136 | Val Acc: 0.3600\n",
      "[Epoch 386/500] Train Loss: 0.3042 | Val Acc: 0.3780\n",
      "[Epoch 387/500] Train Loss: 0.3053 | Val Acc: 0.3680\n",
      "[Epoch 388/500] Train Loss: 0.3361 | Val Acc: 0.3580\n",
      "[Epoch 389/500] Train Loss: 0.3944 | Val Acc: 0.3560\n",
      "[Epoch 390/500] Train Loss: 0.3029 | Val Acc: 0.3940\n",
      "[Epoch 391/500] Train Loss: 0.3079 | Val Acc: 0.3520\n",
      "[Epoch 392/500] Train Loss: 0.3390 | Val Acc: 0.3760\n",
      "[Epoch 393/500] Train Loss: 0.2962 | Val Acc: 0.3340\n",
      "[Epoch 394/500] Train Loss: 0.3125 | Val Acc: 0.3520\n",
      "[Epoch 395/500] Train Loss: 0.3099 | Val Acc: 0.3840\n",
      "[Epoch 396/500] Train Loss: 0.3399 | Val Acc: 0.3560\n",
      "[Epoch 397/500] Train Loss: 0.3758 | Val Acc: 0.3660\n",
      "[Epoch 398/500] Train Loss: 0.2860 | Val Acc: 0.3560\n",
      "[Epoch 399/500] Train Loss: 0.3040 | Val Acc: 0.3620\n",
      "[Epoch 400/500] Train Loss: 0.2930 | Val Acc: 0.3840\n",
      "[Epoch 401/500] Train Loss: 0.3090 | Val Acc: 0.3400\n",
      "[Epoch 402/500] Train Loss: 0.3248 | Val Acc: 0.3600\n",
      "[Epoch 403/500] Train Loss: 0.3658 | Val Acc: 0.3220\n",
      "[Epoch 404/500] Train Loss: 0.2980 | Val Acc: 0.3440\n",
      "[Epoch 405/500] Train Loss: 0.2689 | Val Acc: 0.3880\n",
      "[Epoch 406/500] Train Loss: 0.2965 | Val Acc: 0.3720\n",
      "[Epoch 407/500] Train Loss: 0.3106 | Val Acc: 0.3680\n",
      "[Epoch 408/500] Train Loss: 0.3210 | Val Acc: 0.3760\n",
      "[Epoch 409/500] Train Loss: 0.3715 | Val Acc: 0.3580\n",
      "[Epoch 410/500] Train Loss: 0.2784 | Val Acc: 0.3840\n",
      "[Epoch 411/500] Train Loss: 0.3283 | Val Acc: 0.3880\n",
      "[Epoch 412/500] Train Loss: 0.2845 | Val Acc: 0.3680\n",
      "[Epoch 413/500] Train Loss: 0.2916 | Val Acc: 0.3900\n",
      "[Epoch 414/500] Train Loss: 0.2825 | Val Acc: 0.3860\n",
      "[Epoch 415/500] Train Loss: 0.3359 | Val Acc: 0.3520\n",
      "[Epoch 416/500] Train Loss: 0.3814 | Val Acc: 0.3380\n",
      "[Epoch 417/500] Train Loss: 0.4106 | Val Acc: 0.3560\n",
      "[Epoch 418/500] Train Loss: 0.2468 | Val Acc: 0.3820\n",
      "[Epoch 419/500] Train Loss: 0.2744 | Val Acc: 0.3960\n",
      "[Epoch 420/500] Train Loss: 0.2731 | Val Acc: 0.3760\n",
      "[Epoch 421/500] Train Loss: 0.2881 | Val Acc: 0.3740\n",
      "[Epoch 422/500] Train Loss: 0.2803 | Val Acc: 0.3660\n",
      "[Epoch 423/500] Train Loss: 0.3185 | Val Acc: 0.3480\n",
      "[Epoch 424/500] Train Loss: 0.2658 | Val Acc: 0.3680\n",
      "[Epoch 425/500] Train Loss: 0.3086 | Val Acc: 0.3840\n",
      "[Epoch 426/500] Train Loss: 0.3081 | Val Acc: 0.3740\n",
      "[Epoch 427/500] Train Loss: 0.3092 | Val Acc: 0.3960\n",
      "[Epoch 428/500] Train Loss: 0.3175 | Val Acc: 0.3940\n",
      "[Epoch 429/500] Train Loss: 0.3150 | Val Acc: 0.3880\n",
      "[Epoch 430/500] Train Loss: 0.3131 | Val Acc: 0.3620\n",
      "[Epoch 431/500] Train Loss: 0.2736 | Val Acc: 0.3960\n",
      "[Epoch 432/500] Train Loss: 0.3095 | Val Acc: 0.3880\n",
      "[Epoch 433/500] Train Loss: 0.2778 | Val Acc: 0.3800\n",
      "[Epoch 434/500] Train Loss: 0.3135 | Val Acc: 0.3840\n",
      "[Epoch 435/500] Train Loss: 0.3144 | Val Acc: 0.4020\n",
      "[Epoch 436/500] Train Loss: 0.2760 | Val Acc: 0.3560\n",
      "[Epoch 437/500] Train Loss: 0.3011 | Val Acc: 0.3740\n",
      "[Epoch 438/500] Train Loss: 0.2569 | Val Acc: 0.3740\n",
      "[Epoch 439/500] Train Loss: 0.3375 | Val Acc: 0.3880\n",
      "[Epoch 440/500] Train Loss: 0.3109 | Val Acc: 0.3760\n",
      "[Epoch 441/500] Train Loss: 0.3263 | Val Acc: 0.3960\n",
      "[Epoch 442/500] Train Loss: 0.2706 | Val Acc: 0.3840\n",
      "[Epoch 443/500] Train Loss: 0.2623 | Val Acc: 0.3660\n",
      "[Epoch 444/500] Train Loss: 0.3180 | Val Acc: 0.4040\n",
      "[Epoch 445/500] Train Loss: 0.3195 | Val Acc: 0.3840\n",
      "[Epoch 446/500] Train Loss: 0.2659 | Val Acc: 0.3880\n",
      "[Epoch 447/500] Train Loss: 0.2967 | Val Acc: 0.3660\n",
      "[Epoch 448/500] Train Loss: 0.3486 | Val Acc: 0.3840\n",
      "[Epoch 449/500] Train Loss: 0.3203 | Val Acc: 0.3820\n",
      "[Epoch 450/500] Train Loss: 0.2669 | Val Acc: 0.3660\n",
      "[Epoch 451/500] Train Loss: 0.2709 | Val Acc: 0.3560\n",
      "[Epoch 452/500] Train Loss: 0.3387 | Val Acc: 0.3800\n",
      "[Epoch 453/500] Train Loss: 0.2831 | Val Acc: 0.3580\n",
      "[Epoch 454/500] Train Loss: 0.3119 | Val Acc: 0.3760\n",
      "[Epoch 455/500] Train Loss: 0.2674 | Val Acc: 0.3880\n",
      "[Epoch 456/500] Train Loss: 0.2661 | Val Acc: 0.3580\n",
      "[Epoch 457/500] Train Loss: 0.2600 | Val Acc: 0.3360\n",
      "[Epoch 458/500] Train Loss: 0.2571 | Val Acc: 0.3600\n",
      "[Epoch 459/500] Train Loss: 0.2861 | Val Acc: 0.3720\n",
      "[Epoch 460/500] Train Loss: 0.3510 | Val Acc: 0.3760\n",
      "[Epoch 461/500] Train Loss: 0.3355 | Val Acc: 0.3740\n",
      "[Epoch 462/500] Train Loss: 0.2676 | Val Acc: 0.3780\n",
      "[Epoch 463/500] Train Loss: 0.2517 | Val Acc: 0.3720\n",
      "[Epoch 464/500] Train Loss: 0.2793 | Val Acc: 0.3580\n",
      "[Epoch 465/500] Train Loss: 0.3189 | Val Acc: 0.3480\n",
      "[Epoch 466/500] Train Loss: 0.3826 | Val Acc: 0.3760\n",
      "[Epoch 467/500] Train Loss: 0.2789 | Val Acc: 0.3860\n",
      "[Epoch 468/500] Train Loss: 0.2366 | Val Acc: 0.3940\n",
      "[Epoch 469/500] Train Loss: 0.2839 | Val Acc: 0.3760\n",
      "[Epoch 470/500] Train Loss: 0.2701 | Val Acc: 0.4000\n",
      "[Epoch 471/500] Train Loss: 0.2614 | Val Acc: 0.3740\n",
      "[Epoch 472/500] Train Loss: 0.2675 | Val Acc: 0.3460\n",
      "[Epoch 473/500] Train Loss: 0.3603 | Val Acc: 0.3460\n",
      "[Epoch 474/500] Train Loss: 0.2487 | Val Acc: 0.3620\n",
      "[Epoch 475/500] Train Loss: 0.3689 | Val Acc: 0.3720\n",
      "[Epoch 476/500] Train Loss: 0.2744 | Val Acc: 0.3760\n",
      "[Epoch 477/500] Train Loss: 0.2506 | Val Acc: 0.3760\n",
      "[Epoch 478/500] Train Loss: 0.2519 | Val Acc: 0.3640\n",
      "[Epoch 479/500] Train Loss: 0.2980 | Val Acc: 0.3760\n",
      "[Epoch 480/500] Train Loss: 0.2880 | Val Acc: 0.4040\n",
      "[Epoch 481/500] Train Loss: 0.2463 | Val Acc: 0.3860\n",
      "[Epoch 482/500] Train Loss: 0.2638 | Val Acc: 0.3720\n",
      "[Epoch 483/500] Train Loss: 0.2633 | Val Acc: 0.3780\n",
      "[Epoch 484/500] Train Loss: 0.2764 | Val Acc: 0.3560\n",
      "[Epoch 485/500] Train Loss: 0.2537 | Val Acc: 0.3660\n",
      "[Epoch 486/500] Train Loss: 0.2513 | Val Acc: 0.3680\n",
      "[Epoch 487/500] Train Loss: 0.2631 | Val Acc: 0.3820\n",
      "[Epoch 488/500] Train Loss: 0.3005 | Val Acc: 0.3720\n",
      "[Epoch 489/500] Train Loss: 0.2607 | Val Acc: 0.3960\n",
      "[Epoch 490/500] Train Loss: 0.3042 | Val Acc: 0.3540\n",
      "[Epoch 491/500] Train Loss: 0.2767 | Val Acc: 0.3820\n",
      "[Epoch 492/500] Train Loss: 0.3103 | Val Acc: 0.3920\n",
      "[Epoch 493/500] Train Loss: 0.2863 | Val Acc: 0.3620\n",
      "[Epoch 494/500] Train Loss: 0.2513 | Val Acc: 0.3920\n",
      "[Epoch 495/500] Train Loss: 0.2623 | Val Acc: 0.3660\n",
      "[Epoch 496/500] Train Loss: 0.3026 | Val Acc: 0.3360\n",
      "[Epoch 497/500] Train Loss: 0.2638 | Val Acc: 0.3700\n",
      "[Epoch 498/500] Train Loss: 0.2862 | Val Acc: 0.3880\n",
      "[Epoch 499/500] Train Loss: 0.2274 | Val Acc: 0.3720\n",
      "[Epoch 500/500] Train Loss: 0.3120 | Val Acc: 0.3660\n"
     ]
    }
   ],
   "source": [
    "import torch\n",
    "import torch.optim as optim\n",
    "from sklearn.metrics import accuracy_score\n",
    "\n",
    "device = \"cuda\" if torch.cuda.is_available() else \"cpu\"\n",
    "print(\"Using device:\", device)\n",
    "\n",
    "num_classes = 20  # or the actual number of distinct words you have\n",
    "model = SmallTransformer(\n",
    "    input_dim=input_dim,  # e.g. F after PCA\n",
    "    d_model=64,\n",
    "    nhead=4,\n",
    "    num_layers=2,\n",
    "    dim_feedforward=128,\n",
    "    num_classes=num_classes,\n",
    "    dropout=0.1,\n",
    "    pool=\"mean\"\n",
    ").to(device)\n",
    "\n",
    "criterion = nn.CrossEntropyLoss()\n",
    "optimizer = optim.Adam(model.parameters(), lr=1e-3)\n",
    "\n",
    "epochs = 500 # Efficiency has 35%\n",
    "for epoch in range(1, epochs+1):\n",
    "    model.train()\n",
    "    total_loss = 0\n",
    "    for batch_x, batch_y in train_loader:\n",
    "        batch_x = batch_x.to(device)\n",
    "        batch_y = batch_y.to(device)\n",
    "\n",
    "        optimizer.zero_grad()\n",
    "        logits = model(batch_x)\n",
    "        loss = criterion(logits, batch_y)\n",
    "        loss.backward()\n",
    "        optimizer.step()\n",
    "        total_loss += loss.item()\n",
    "\n",
    "    avg_train_loss = total_loss / len(train_loader)\n",
    "\n",
    "    # Evaluate on val\n",
    "    model.eval()\n",
    "    val_preds = []\n",
    "    val_true = []\n",
    "    with torch.no_grad():\n",
    "        for batch_x, batch_y in val_loader:\n",
    "            batch_x = batch_x.to(device)\n",
    "            batch_y = batch_y.to(device)\n",
    "            logits = model(batch_x)\n",
    "            preds = logits.argmax(dim=-1)\n",
    "            val_preds.extend(preds.cpu().numpy())\n",
    "            val_true.extend(batch_y.cpu().numpy())\n",
    "\n",
    "    val_acc = accuracy_score(val_true, val_preds)\n",
    "    print(f\"[Epoch {epoch}/{epochs}] Train Loss: {avg_train_loss:.4f} | Val Acc: {val_acc:.4f}\")\n"
   ]
  },
  {
   "cell_type": "raw",
   "id": "7b811056-f265-4ddd-82d8-9088accbe51e",
   "metadata": {},
   "source": [
    " Testing & Confusion Matrix"
   ]
  },
  {
   "cell_type": "code",
   "execution_count": 540,
   "id": "b9fac454-a10e-4ad3-99a6-81c7efceaab2",
   "metadata": {
    "scrolled": true
   },
   "outputs": [
    {
     "name": "stdout",
     "output_type": "stream",
     "text": [
      "Test Accuracy: 0.358\n"
     ]
    },
    {
     "data": {
      "image/png": "[encoded data removed]",
      "text/plain": [
       "<Figure size 640x480 with 2 Axes>"
      ]
     },
     "metadata": {},
     "output_type": "display_data"
    }
   ],
   "source": [
    "from sklearn.metrics import accuracy_score, confusion_matrix, ConfusionMatrixDisplay\n",
    "import matplotlib.pyplot as plt\n",
    "\n",
    "model.eval()\n",
    "test_preds = []\n",
    "test_true = []\n",
    "with torch.no_grad():\n",
    "    for batch_x, batch_y in test_loader:\n",
    "        batch_x = batch_x.to(device)\n",
    "        batch_y = batch_y.to(device)\n",
    "        logits = model(batch_x)\n",
    "        preds = logits.argmax(dim=-1)\n",
    "        test_preds.extend(preds.cpu().numpy())\n",
    "        test_true.extend(batch_y.cpu().numpy())\n",
    "\n",
    "test_acc = accuracy_score(test_true, test_preds)\n",
    "print(\"Test Accuracy:\", test_acc)\n",
    "\n",
    "cm = confusion_matrix(test_true, test_preds)\n",
    "disp = ConfusionMatrixDisplay(confusion_matrix=cm, display_labels=range(num_classes))\n",
    "disp.plot(cmap=plt.cm.Blues)\n",
    "plt.title(\"Confusion Matrix (Test Set)\")\n",
    "plt.show()\n"
   ]
  },
  {
   "cell_type": "markdown",
   "id": "c0ff935c-5cde-47c8-9ebf-996c97231218",
   "metadata": {},
   "source": [
    "# Retrieve Predicted Labels for Each Sample\n"
   ]
  },
  {
   "cell_type": "code",
   "execution_count": 542,
   "id": "0c00746d-5e92-40ea-8393-2672bd797f2c",
   "metadata": {},
   "outputs": [],
   "source": [
    "import torch\n",
    "\n",
    "model.eval()\n",
    "all_predictions = []\n",
    "all_true_labels = []\n",
    "all_sample_indices = []  # optional: track which sample index\n",
    "\n",
    "with torch.no_grad():\n",
    "    for batch_idx, (batch_x, batch_y) in enumerate(test_loader):\n",
    "        # batch_x shape: (batch_size, seq_len, input_dim)\n",
    "        # batch_y shape: (batch_size,)\n",
    "        batch_x = batch_x.to(device)\n",
    "        batch_y = batch_y.to(device)\n",
    "\n",
    "        # Forward pass\n",
    "        logits = model(batch_x)  # => shape (batch_size, num_classes)\n",
    "        preds = logits.argmax(dim=-1)  # => shape (batch_size,)\n",
    "\n",
    "        # Convert to CPU numpy arrays\n",
    "        preds_np = preds.cpu().numpy()\n",
    "        labels_np = batch_y.cpu().numpy()\n",
    "\n",
    "        # Store results\n",
    "        all_predictions.extend(preds_np)\n",
    "        all_true_labels.extend(labels_np)\n",
    "\n",
    "        # If you want to track the test sample index:\n",
    "        start_idx = batch_idx * test_loader.batch_size\n",
    "        sample_indices = range(start_idx, start_idx + len(batch_y))\n",
    "        all_sample_indices.extend(sample_indices)\n",
    "\n",
    "# Now all_predictions[i] corresponds to the predicted label for sample i\n",
    "# all_true_labels[i] is the ground-truth label for sample i\n"
   ]
  },
  {
   "cell_type": "markdown",
   "id": "46631663-4341-40b1-8ed2-46d7bb93d331",
   "metadata": {},
   "source": [
    "# Mapping Labels Back to Words (Optional)"
   ]
  },
  {
   "cell_type": "code",
   "execution_count": 544,
   "id": "828ae366-90cb-4bba-bb5d-e1e342bf6201",
   "metadata": {},
   "outputs": [
    {
     "name": "stdout",
     "output_type": "stream",
     "text": [
      "Total Correct: 179/500 (35.80%)\n"
     ]
    }
   ],
   "source": [
    "label2word = {v: k for k, v in num_dict.items()}\n",
    "\n",
    "\n",
    "for i in range(len(all_predictions)):\n",
    "    pred_label = all_predictions[i]\n",
    "    true_label = all_true_labels[i]\n",
    "    pred_word = label2word[pred_label]\n",
    "    true_word = label2word[true_label]\n",
    "    # print(f\"Sample {i}: Predicted '{pred_word}', Actual '{true_word}'\")\n",
    "\n",
    "correct_predictions = sum(1 for i in range(len(all_predictions)) if all_predictions[i] == all_true_labels[i])\n",
    "total_predictions = len(all_predictions)\n",
    "\n",
    "accuracy = correct_predictions / total_predictions\n",
    "print(f\"Total Correct: {correct_predictions}/{total_predictions} ({accuracy * 100:.2f}%)\")\n",
    "\n"
   ]
  },
  {
   "cell_type": "markdown",
   "id": "125b923e-b7a0-4b0f-be1a-a63ff88206a1",
   "metadata": {},
   "source": [
    "# Storing Results to a CSV or TXT File"
   ]
  },
  {
   "cell_type": "code",
   "execution_count": 549,
   "id": "60a989a4-0a16-44c7-8b84-5d0ab328b6ce",
   "metadata": {},
   "outputs": [],
   "source": [
    "import csv\n",
    "\n",
    "with open(\"predictions.csv\", \"w\", newline=\"\") as f:\n",
    "    writer = csv.writer(f)\n",
    "    writer.writerow([\"SampleIndex\", \"PredLabel\", \"TrueLabel\", \"PredWord\", \"TrueWord\"])\n",
    "\n",
    "    for i in range(len(all_predictions)):\n",
    "        pred_label = all_predictions[i]\n",
    "        true_label = all_true_labels[i]\n",
    "        pred_word = label2word[pred_label]\n",
    "        true_word = label2word[true_label]\n",
    "\n",
    "        # If you tracked sample indices:\n",
    "        sample_idx = all_sample_indices[i]\n",
    "        writer.writerow([sample_idx, pred_label, true_label, pred_word, true_word])\n"
   ]
  },
  {
   "cell_type": "markdown",
   "id": "4775f3df",
   "metadata": {},
   "source": [
    "# Classifiers"
   ]
  },
  {
   "cell_type": "markdown",
   "id": "f6e98a29",
   "metadata": {},
   "source": [
    "Modelling RF"
   ]
  },
  {
   "cell_type": "code",
   "execution_count": 552,
   "id": "c45d58d3",
   "metadata": {},
   "outputs": [],
   "source": [
    "from collections import Counter\n",
    "from sklearn import metrics\n",
    "from sklearn.metrics import accuracy_score\n",
    "from sklearn import svm\n",
    "from sklearn.linear_model import LogisticRegression\n",
    "from sklearn.neighbors import KNeighborsClassifier\n",
    "from sklearn.ensemble import RandomForestClassifier\n",
    "from sklearn.model_selection import train_test_split\n",
    "from sklearn.model_selection import cross_val_score\n",
    "from sklearn.model_selection import GridSearchCV\n"
   ]
  },
  {
   "cell_type": "code",
   "execution_count": 553,
   "id": "10bc2e64",
   "metadata": {},
   "outputs": [],
   "source": [
    "def model_rf(x_train,y_train,x_test,y_test):\n",
    "    random=RandomForestClassifier()\n",
    "    distributions=dict(max_depth=[2,3,4],n_estimators=[10,20,30,40,50],criterion=['gini'],random_state=[42])\n",
    "    clf=GridSearchCV(random,distributions,cv=2)\n",
    "    clf.fit(x_train,y_train)\n",
    "    y_pred_test=clf.predict(x_test)\n",
    "    y_pred_train=clf.predict(x_train)\n",
    "    train_acc=accuracy_score(y_train,y_pred_train)\n",
    "    test_acc=accuracy_score(y_test,y_pred_test)\n",
    "    return train_acc,test_acc\n",
    "    \n",
    "    "
   ]
  },
  {
   "cell_type": "code",
   "execution_count": 554,
   "id": "8ef84aa3",
   "metadata": {},
   "outputs": [],
   "source": [
    "def model_rf1(x_train,y_train,x_test,y_test):\n",
    "    random=RandomForestClassifier()\n",
    "    distributions=dict(max_depth=[2,3,4],n_estimators=[10,20,30,40,50],criterion=['gini'],random_state=[42])\n",
    "    clf=GridSearchCV(random,distributions,cv=2)\n",
    "    clf.fit(x_train,y_train)\n",
    "    y_pred_test=clf.predict(x_test)\n",
    "    y_pred_train=clf.predict(x_train)\n",
    "    train_f1Score=metrics.f1_score(y_train,y_pred_train,average='weighted',zero_division=1)\n",
    "    test_f1Score=metrics.f1_score(y_test,y_pred_test,average='weighted',zero_division=1)\n",
    "    #recall_score\n",
    "    train_recallScore=metrics.recall_score(y_train,y_pred_train, average='weighted', zero_division=1)\n",
    "    test_recallScore=metrics.recall_score(y_test,y_pred_test, average='weighted', zero_division=1)  \n",
    "    #precision_score\n",
    "    train_precisionScore=metrics.precision_score(y_train,y_pred_train, average='weighted', zero_division=1)\n",
    "    test_precisionScore=metrics.precision_score(y_test,y_pred_test, average='weighted', zero_division=1) \n",
    "    return train_f1Score,test_f1Score,test_recallScore,test_precisionScore\n"
   ]
  },
  {
   "cell_type": "markdown",
   "id": "8348f86b",
   "metadata": {},
   "source": [
    "Modelling SVM"
   ]
  },
  {
   "cell_type": "code",
   "execution_count": 556,
   "id": "dc4ceb83",
   "metadata": {},
   "outputs": [],
   "source": [
    "def model_svm(x_train,y_train,x_test,y_test):\n",
    "    clf=svm.SVC(kernel='rbf')\n",
    "    clf.fit(x_train,y_train)\n",
    "    y_pred_test=clf.predict(x_test)\n",
    "    y_pred_train=clf.predict(x_train)\n",
    "    train_acc=accuracy_score(y_train,y_pred_train)\n",
    "    test_acc=accuracy_score(y_test,y_pred_test)\n",
    "    return train_acc,test_acc"
   ]
  },
  {
   "cell_type": "code",
   "execution_count": 557,
   "id": "3c054024",
   "metadata": {},
   "outputs": [],
   "source": [
    "def model_svm1(x_train,y_train,x_test,y_test):\n",
    "    clf=svm.SVC(kernel='rbf')\n",
    "    clf.fit(x_train,y_train)\n",
    "    y_pred_test=clf.predict(x_test)\n",
    "    y_pred_train=clf.predict(x_train)\n",
    "    train_f1Score=metrics.f1_score(y_train,y_pred_train,average='weighted',zero_division=1)\n",
    "    test_f1Score=metrics.f1_score(y_test,y_pred_test,average='weighted',zero_division=1)\n",
    "    #recall_score\n",
    "    train_recallScore=metrics.recall_score(y_train,y_pred_train, average='weighted', zero_division=1)\n",
    "    test_recallScore=metrics.recall_score(y_test,y_pred_test, average='weighted', zero_division=1)\n",
    "    #precision_score\n",
    "    train_precisionScore=metrics.precision_score(y_train,y_pred_train, average='weighted', zero_division=1)\n",
    "    test_precisionScore=metrics.precision_score(y_test,y_pred_test, average='weighted', zero_division=1) \n",
    "    return train_f1Score,test_f1Score,test_recallScore,test_precisionScore\n"
   ]
  },
  {
   "cell_type": "markdown",
   "id": "d28ef449",
   "metadata": {},
   "source": [
    "Modelling KNN"
   ]
  },
  {
   "cell_type": "code",
   "execution_count": 559,
   "id": "3529782e",
   "metadata": {},
   "outputs": [],
   "source": [
    "def model_knn(x_train,y_train,x_test,y_test):\n",
    "    clf=KNeighborsClassifier(n_neighbors=50)\n",
    "    clf.fit(x_train,y_train)\n",
    "    y_pred_test=clf.predict(x_test)\n",
    "    y_pred_train=clf.predict(x_train)\n",
    "    train_acc=accuracy_score(y_train,y_pred_train)\n",
    "    test_acc=accuracy_score(y_test,y_pred_test)\n",
    "    return train_acc,test_acc"
   ]
  },
  {
   "cell_type": "code",
   "execution_count": 560,
   "id": "081ee7dc",
   "metadata": {},
   "outputs": [],
   "source": [
    "def model_knn1(x_train,y_train,x_test,y_test):\n",
    "    clf=KNeighborsClassifier(n_neighbors=50)\n",
    "    clf.fit(x_train,y_train)\n",
    "    y_pred_test=clf.predict(x_test)\n",
    "    y_pred_train=clf.predict(x_train)\n",
    "    train_f1Score=metrics.f1_score(y_train,y_pred_train,average='weighted',zero_division=1)\n",
    "    test_f1Score=metrics.f1_score(y_test,y_pred_test,average='weighted',zero_division=1)\n",
    "    #recall_score\n",
    "    train_recallScore=metrics.recall_score(y_train,y_pred_train, average='weighted', zero_division=1)\n",
    "    test_recallScore=metrics.recall_score(y_test,y_pred_test, average='weighted', zero_division=1)\n",
    "    #precision_score\n",
    "    train_precisionScore=metrics.precision_score(y_train,y_pred_train, average='weighted', zero_division=1)\n",
    "    test_precisionScore=metrics.precision_score(y_test,y_pred_test, average='weighted', zero_division=1) \n",
    "    return train_f1Score,test_f1Score,test_recallScore,test_precisionScore"
   ]
  },
  {
   "cell_type": "markdown",
   "id": "dd3acdb3",
   "metadata": {},
   "source": [
    "Modelling LOGREG"
   ]
  },
  {
   "cell_type": "code",
   "execution_count": 562,
   "id": "f16d8e57",
   "metadata": {},
   "outputs": [],
   "source": [
    "def model_logreg(x_train,y_train,x_test,y_test):\n",
    "    clf=LogisticRegression(max_iter = 10000)\n",
    "    clf.fit(x_train,y_train)\n",
    "    y_pred_test=clf.predict(x_test)\n",
    "    y_pred_train=clf.predict(x_train)\n",
    "    train_acc=accuracy_score(y_train,y_pred_train)\n",
    "    test_acc=accuracy_score(y_test,y_pred_test)\n",
    "    return train_acc,test_acc"
   ]
  },
  {
   "cell_type": "code",
   "execution_count": 563,
   "id": "1c3f3807",
   "metadata": {},
   "outputs": [],
   "source": [
    "def model_logreg1(x_train,y_train,x_test,y_test):\n",
    "    clf=LogisticRegression(max_iter = 10000)\n",
    "    clf.fit(x_train,y_train)\n",
    "    y_pred_test=clf.predict(x_test)\n",
    "    y_pred_train=clf.predict(x_train)\n",
    "    train_f1Score=metrics.f1_score(y_train,y_pred_train,average='weighted',zero_division=1)\n",
    "    test_f1Score=metrics.f1_score(y_test,y_pred_test,average='weighted',zero_division=1)\n",
    "    #recall_score\n",
    "    train_recallScore=metrics.recall_score(y_train,y_pred_train, average='weighted', zero_division=1)\n",
    "    test_recallScore=metrics.recall_score(y_test,y_pred_test, average='weighted', zero_division=1)\n",
    "    #precision_score\n",
    "    train_precisionScore=metrics.precision_score(y_train,y_pred_train, average='weighted', zero_division=1)\n",
    "    test_precisionScore=metrics.precision_score(y_test,y_pred_test, average='weighted', zero_division=1)\n",
    "    return train_f1Score,test_f1Score,test_recallScore,test_precisionScore"
   ]
  },
  {
   "cell_type": "code",
   "execution_count": 564,
   "id": "afec4085",
   "metadata": {},
   "outputs": [],
   "source": [
    "def get_arrays(a,b):\n",
    "    index=np.where((y_array==a)|(y_array==b))\n",
    "    x=x_array[index]\n",
    "    y=y_array[index]\n",
    "    x_train,x_test,y_train,y_test=train_test_split(x,y,test_size=0.15,random_state=0,shuffle=False)\n",
    "    return x_train,x_test,y_train,y_test"
   ]
  },
  {
   "cell_type": "code",
   "execution_count": 565,
   "id": "597f0010",
   "metadata": {},
   "outputs": [],
   "source": [
    "num_dict={0:'date',1:'goose',2:'spruce',3:'knight',4:'juice',5:'moose',6:'night',7:'queen',8:'berry',\n",
    "          9:'hedgehog',10:'water',11:'daughter',12:'gooseberry',13:'waterfowl',14:'wilderness',\n",
    "          15:'relative',16:'watermelon',17:'caterpillar',18:'environment',19:'ambassador'}"
   ]
  },
  {
   "cell_type": "code",
   "execution_count": 566,
   "id": "e9589a71",
   "metadata": {},
   "outputs": [],
   "source": [
    "import matplotlib.pyplot as plt\n",
    "def subplot1(words,root_index,rf_test,svm_test,knn_test,logreg_test):\n",
    "    \n",
    "    x=np.arange(len(words))\n",
    "    width=0.4\n",
    "    plt.rcParams[\"figure.figsize\"] = (8,6)\n",
    "    fig, ax = plt.subplots()\n",
    "    \n",
    "    \n",
    "    rects1=ax.bar(x-width/2,rf_test,width,label='Random Forest')\n",
    "    rects2=ax.bar(x+width,svm_test,width,label='SVM')\n",
    "    rects3=ax.bar(x+width/2+width,knn_test,width,label='KNN')\n",
    "    rects4=ax.bar(x+width/4+width,logreg_test,width,label='Logistic Regression')\n",
    "\n",
    "     \n",
    "\n",
    "    ax.set_ylabel('Accuracy(%)')\n",
    "    ax.set_title(\"Root Word:\"+num_dict[root_index])\n",
    "    plt.xticks(range(len(words)),words,size='small',rotation='vertical')\n",
    "    ax.legend()\n",
    "\n",
    "    \n",
    "    fig.tight_layout()\n",
    "    \n",
    "    plt.show()\n",
    "    \n",
    "    return\n",
    "    \n",
    "    "
   ]
  },
  {
   "cell_type": "code",
   "execution_count": 567,
   "id": "4b8348e2",
   "metadata": {},
   "outputs": [],
   "source": [
    "import matplotlib.pyplot as plt\n",
    "def subplot2(words,root_index,rf_test,svm_test,knn_test,logreg_test):\n",
    "    plt.rcParams[\"figure.figsize\"] = (8,6)\n",
    "    sorted_rf=sorted(zip(rf_test,words))\n",
    "    sorted_svm=sorted(zip(svm_test,words))\n",
    "    sorted_knn=sorted(zip(knn_test,words))\n",
    "    sorted_logreg=sorted(zip(logreg_test,words))\n",
    "    rf_test,rf_words=[list(tuple) for tuple in zip(*sorted_rf)]\n",
    "    svm_test,svm_words=[list(tuple) for tuple in zip(*sorted_svm)]\n",
    "    knn_test,knn_words=[list(tuple) for tuple in zip(*sorted_knn)]\n",
    "    logreg_test,logreg_words=[list(tuple) for tuple in zip(*sorted_logreg)]\n",
    "    \n",
    "    fig,axs=plt.subplots(4,constrained_layout=True)\n",
    "    plt.subplots_adjust(left=0.1,\n",
    "                       bottom=0.1,\n",
    "                       right=0.9,\n",
    "                       top=0.9,\n",
    "                       wspace=0.4,\n",
    "                       hspace=0.4)\n",
    "    plt.xticks(range(len(words)),words,size='small',rotation=45)\n",
    "    fig.suptitle('Word:'+num_dict[root_index])\n",
    "    axs[0].set_title(\"Random Forest\")\n",
    "    axs[0].bar(words,rf_test,width=1,edgecolor=\"white\",linewidth=0.2)\n",
    "    axs[1].set_title(\"SVM\")\n",
    "    axs[1].bar(words,svm_test,width=2,edgecolor=\"white\",linewidth=0.4,color='orange')\n",
    "    axs[2].set_title(\"KNN\")\n",
    "    axs[2].bar(words,knn_test,width=3,edgecolor=\"white\",linewidth=0.6,color='blue')\n",
    "    axs[3].set_title(\"Logistic Regression\")\n",
    "    axs[3].bar(words,logreg_test,width=4,edgecolor=\"white\",linewidth=0.6,color='red')\n",
    "    fig.tight_layout()\n",
    "    plt.show()\n",
    "    return\n",
    "    \n",
    "    \n",
    "    "
   ]
  },
  {
   "cell_type": "code",
   "execution_count": 568,
   "id": "cf0fe722",
   "metadata": {},
   "outputs": [],
   "source": [
    "import matplotlib.pyplot as plt\n",
    "def subplot3(words,root_index,rf_test,svm_test,knn_test,logreg_test):\n",
    "    \n",
    "    x=np.arange(len(words))\n",
    "    width=0.4\n",
    "    plt.rcParams[\"figure.figsize\"] = (8,6)\n",
    "    fig, ax = plt.subplots()\n",
    "    \n",
    "    \n",
    "    rects1=ax.bar(x-width/2,rf_test,width,label='Random Forest',color='C1')\n",
    "    rects2=ax.bar(x+width,svm_test,width,label='SVM',color='C2')\n",
    "    rects3=ax.bar(x+width/2+width,knn_test,width,label='KNN',color='C3')\n",
    "    rects4=ax.bar(x+width/4+width,logreg_test,width,label='Logistic Regression',color='C4')\n",
    "\n",
    "     \n",
    "\n",
    "    ax.set_ylabel('F1Score(%)')\n",
    "    ax.set_title(\"Root Word:\"+num_dict[root_index],color='C0')\n",
    "    plt.xticks(range(len(words)),words,size='small',rotation='vertical')\n",
    "    ax.legend()\n",
    "    \n",
    "    ax.bar_label(rects1,padding=3)\n",
    "    ax.bar_label(rects2,padding=3)\n",
    "    ax.bar_label(rects3,padding=3)\n",
    "    ax.bar_label(rects4,padding=3)\n",
    "    \n",
    "    fig.tight_layout()\n",
    "    \n",
    "    plt.show()\n",
    "    \n",
    "    return"
   ]
  },
  {
   "cell_type": "code",
   "execution_count": 569,
   "id": "f70e0381",
   "metadata": {},
   "outputs": [],
   "source": [
    "def plot(pairs,rf_test,svm_test,knn_test,logreg_test):\n",
    "    for i,index in enumerate(pairs.keys()):\n",
    "        word_list=[]\n",
    "        for j in pairs[index]:\n",
    "            word_list.append(num_dict[j])\n",
    "        if len(rf_test[0])==6:\n",
    "            subplot1(word_list,index,rf_test[i],svm_test[i],knn_test[i],logreg_test[i])\n",
    "        else:\n",
    "            subplot1(word_list,index,rf_test[i],svm_test[i],knn_test[i],logreg_test[i])\n",
    "    return\n",
    "            "
   ]
  },
  {
   "cell_type": "code",
   "execution_count": 570,
   "id": "38862f8a",
   "metadata": {},
   "outputs": [],
   "source": [
    "def plot1(pairs,rf_test,svm_test,knn_test,logreg_test):\n",
    "    for i,index in enumerate(pairs.keys()):\n",
    "        word_list=[]\n",
    "        for j in pairs[index]:\n",
    "            word_list.append(num_dict[j])\n",
    "        if len(rf_test[0])==6:\n",
    "            subplot3(word_list,index,rf_test[i],svm_test[i],knn_test[i],logreg_test[i])\n",
    "        else:\n",
    "            subplot3(word_list,index,rf_test[i],svm_test[i],knn_test[i],logreg_test[i])\n",
    "    return"
   ]
  },
  {
   "cell_type": "code",
   "execution_count": 571,
   "id": "60c9c07b",
   "metadata": {},
   "outputs": [],
   "source": [
    "def calculate_results(dict1):\n",
    "    for i in dict1.keys():\n",
    "        n=len(dict1[i])\n",
    "        break\n",
    "    rf_test=np.zeros([len(dict1.keys()),n])\n",
    "    rf_train=np.zeros([len(dict1.keys()),n])\n",
    "    svm_test=np.zeros([len(dict1.keys()),n])\n",
    "    svm_train=np.zeros([len(dict1.keys()),n])\n",
    "    knn_test=np.zeros([len(dict1.keys()),n])\n",
    "    knn_train=np.zeros([len(dict1.keys()),n])\n",
    "    logreg_test=np.zeros([len(dict1.keys()),n])\n",
    "    logreg_train=np.zeros([len(dict1.keys()),n])\n",
    "    word_list=[]\n",
    "    for i,word_index in enumerate(dict1.keys()):\n",
    "        words=[]\n",
    "        for j in range(len(dict1[word_index])):\n",
    "            words.append(num_dict[dict1[word_index][j]])\n",
    "            x_train,x_test,y_train,y_test=get_arrays(word_index,dict1[word_index][j])\n",
    "            train_acc,test_acc=model_rf(x_train,y_train,x_test,y_test)\n",
    "            rf_test[i][j]=round(test_acc*100,2)\n",
    "            rf_train[i][j]=round(train_acc*100,2)\n",
    "            train_acc,test_acc=model_svm(x_train,y_train,x_test,y_test)\n",
    "            svm_test[i][j]=round(test_acc*100,2)\n",
    "            svm_train[i][j]=round(train_acc*100,2)\n",
    "            train_acc,test_acc=model_knn(x_train,y_train,x_test,y_test)\n",
    "            knn_test[i][j]=round(test_acc*100,2)\n",
    "            knn_train[i][j]=round(train_acc*100,2)\n",
    "            train_acc,test_acc=model_logreg(x_train,y_train,x_test,y_test)\n",
    "            logreg_test[i][j]=round(test_acc*100,2)\n",
    "            logreg_train[i][j]=round(train_acc*100,2)\n",
    "        word_list.append(words)\n",
    "    return rf_test,rf_train,svm_test,svm_train,knn_test,knn_train,logreg_test,logreg_train\n",
    "            \n",
    "            \n",
    "        \n",
    "        \n",
    "        "
   ]
  },
  {
   "cell_type": "code",
   "execution_count": 572,
   "id": "f8747c14",
   "metadata": {},
   "outputs": [],
   "source": [
    "def calculate_F1score(dict1):\n",
    "    for i in dict1.keys():\n",
    "        n=len(dict1[i])\n",
    "        break\n",
    "    rf_test=np.zeros([len(dict1.keys()),n])\n",
    "    rf_train=np.zeros([len(dict1.keys()),n])\n",
    "    rf_test_recall=np.zeros([len(dict1.keys()),n])\n",
    "    rf_test_precision=np.zeros([len(dict1.keys()),n])\n",
    "    svm_test=np.zeros([len(dict1.keys()),n])\n",
    "    svm_train=np.zeros([len(dict1.keys()),n])\n",
    "    svm_test_recall=np.zeros([len(dict1.keys()),n])\n",
    "    svm_test_precision=np.zeros([len(dict1.keys()),n])\n",
    "    knn_test=np.zeros([len(dict1.keys()),n])\n",
    "    knn_train=np.zeros([len(dict1.keys()),n])\n",
    "    knn_test_recall=np.zeros([len(dict1.keys()),n])\n",
    "    knn_test_precision=np.zeros([len(dict1.keys()),n])\n",
    "    logreg_test=np.zeros([len(dict1.keys()),n])\n",
    "    logreg_train=np.zeros([len(dict1.keys()),n])\n",
    "    logreg_test_recall=np.zeros([len(dict1.keys()),n])\n",
    "    logreg_test_precision=np.zeros([len(dict1.keys()),n])\n",
    "    word_list=[]\n",
    "    for i,word_index in enumerate(dict1.keys()):\n",
    "        words=[]\n",
    "        for j in range(len(dict1[word_index])):\n",
    "            words.append(num_dict[dict1[word_index][j]])\n",
    "            x_train,x_test,y_train,y_test=get_arrays(word_index,dict1[word_index][j])\n",
    "            train_f1Score,test_f1Score,rf_test_listRecall,rf_test_listPrecision=model_rf1(x_train,y_train,x_test,y_test)\n",
    "            rf_test[i][j]=round(test_f1Score*100,2)\n",
    "            rf_train[i][j]=round(train_f1Score*100,2)\n",
    "            rf_test_recall[i][j]=round(rf_test_listRecall*100,2)\n",
    "            rf_test_precision[i][j]=round(rf_test_listPrecision*100,2)\n",
    "            train_f1Score,test_f1Score,svm_test_listRecall,svm_test_listPrecision=model_svm1(x_train,y_train,x_test,y_test)\n",
    "            svm_test[i][j]=round(test_f1Score*100,2)\n",
    "            svm_train[i][j]=round(train_f1Score*100,2)\n",
    "            svm_test_recall[i][j]=round(svm_test_listRecall*100,2)\n",
    "            svm_test_precision[i][j]=round(svm_test_listPrecision*100,2)\n",
    "            train_f1Score,test_f1Score,knn_test_listRecall,knn_test_listPrecision=model_knn1(x_train,y_train,x_test,y_test)\n",
    "            knn_test[i][j]=round(test_f1Score*100,2)\n",
    "            knn_train[i][j]=round(train_f1Score*100,2)\n",
    "            knn_test_recall[i][j]=round(knn_test_listRecall*100,2)\n",
    "            knn_test_precision[i][j]=round(knn_test_listPrecision*100,2)\n",
    "            train_f1Score,test_f1Score,logreg_test_listRecall,logreg_test_listPrecision=model_logreg1(x_train,y_train,x_test,y_test)\n",
    "            logreg_test[i][j]=round(test_f1Score*100,2)\n",
    "            logreg_train[i][j]=round(train_f1Score*100,2)\n",
    "            logreg_test_recall[i][j]=round(logreg_test_listRecall*100,2)\n",
    "            logreg_test_precision[i][j]=round(logreg_test_listPrecision*100,2)\n",
    "        word_list.append(words)\n",
    "    return rf_test,rf_train,svm_test,svm_train,knn_test,knn_train,logreg_test,logreg_train,rf_test_recall,rf_test_precision,svm_test_recall,svm_test_precision,knn_test_recall,knn_test_precision,logreg_test_recall,logreg_test_precision\n",
    "            \n",
    "            \n",
    "        \n",
    "        \n",
    "        "
   ]
  },
  {
   "cell_type": "code",
   "execution_count": 573,
   "id": "8323348c",
   "metadata": {},
   "outputs": [],
   "source": [
    "def metric_score(rf_test,svm_test,knn_test,logreg_test):\n",
    "    rf_score=0\n",
    "    svm_score=0\n",
    "    knn_score=0\n",
    "    logreg_score=0\n",
    "    for i in range(len(rf_test)):\n",
    "        rf_test_score=np.sum(rf_test[i][3:])-np.sum(rf_test[i][:3])\n",
    "        svm_test_score=np.sum(svm_test[i][3:])-np.sum(svm_test[i][:3])\n",
    "        knn_test_score=np.sum(knn_test[i][3:])-np.sum(knn_test[i][:3])\n",
    "        logreg_test_score=np.sum(logreg_test[i][3:])-np.sum(logreg_test[i][:3])\n",
    "        \n",
    "        rf_score+=rf_test_score\n",
    "        svm_score+=svm_test_score\n",
    "        knn_score+=knn_test_score\n",
    "        logreg_score+=logreg_test_score\n",
    "    return rf_score,svm_score,knn_score,logreg_score"
   ]
  },
  {
   "cell_type": "code",
   "execution_count": 574,
   "id": "56355950",
   "metadata": {},
   "outputs": [],
   "source": [
    "def metric_score1(rf_test,svm_test,knn_test,logreg_test):\n",
    "    print(len(rf_test))\n",
    "    rf_score=0\n",
    "    svm_score=0\n",
    "    knn_score=0\n",
    "    logreg_score=0\n",
    "    for i in range(len(rf_test)):\n",
    "        rf_test_score=np.sum(rf_test[i][3:])-np.sum(rf_test[i][:3])\n",
    "        svm_test_score=np.sum(svm_test[i][3:])-np.sum(svm_test[i][:3])\n",
    "        knn_test_score=np.sum(knn_test[i][3:])-np.sum(knn_test[i][:3])\n",
    "        logreg_test_score=np.sum(logreg_test[i][3:])-np.sum(logreg_test[i][:3])\n",
    "        \n",
    "        rf_score+=rf_test_score\n",
    "        svm_score+=svm_test_score\n",
    "        knn_score+=knn_test_score\n",
    "        logreg_score+=logreg_test_score\n",
    "    return rf_score,svm_score,knn_score,logreg_score"
   ]
  },
  {
   "cell_type": "code",
   "execution_count": 575,
   "id": "91bc8515",
   "metadata": {},
   "outputs": [],
   "source": [
    "def plot_classification_report(cr, title='Classification report ', with_avg_total=False, cmap=plt.cm.Blues):\n",
    "\n",
    "    lines = cr.split('\\n')\n",
    "\n",
    "    classes = []\n",
    "    plotMat = []\n",
    "    for line in lines[2 : (len(lines) - 3)]:\n",
    "        #print(line)\n",
    "        t = line.split()\n",
    "        # print(t)\n",
    "        classes.append(t[0])\n",
    "        v = [float(x) for x in t[1: len(t) - 1]]\n",
    "        print(v)\n",
    "        plotMat.append(v)\n",
    "\n",
    "    if with_avg_total:\n",
    "        aveTotal = lines[len(lines) - 1].split()\n",
    "        classes.append('avg/total')\n",
    "        vAveTotal = [float(x) for x in t[1:len(aveTotal) - 1]]\n",
    "        plotMat.append(vAveTotal)\n",
    "\n",
    "\n",
    "    plt.imshow(plotMat, interpolation='nearest', cmap=cmap)\n",
    "    plt.title(title)\n",
    "    plt.colorbar()\n",
    "    x_tick_marks = np.arange(3)\n",
    "    y_tick_marks = np.arange(len(classes))\n",
    "    plt.xticks(x_tick_marks, ['precision', 'recall', 'f1-score'], rotation=45)\n",
    "    plt.yticks(y_tick_marks, classes)\n",
    "    plt.tight_layout()\n",
    "    plt.ylabel('Classes')\n",
    "    plt.xlabel('Measures')"
   ]
  },
  {
   "cell_type": "markdown",
   "id": "2dbaf1d8",
   "metadata": {},
   "source": [
    "Loading similar and dissimilar words based on various distance matrices"
   ]
  },
  {
   "cell_type": "markdown",
   "id": "01fe5981",
   "metadata": {},
   "source": [
    "Complete pairs"
   ]
  },
  {
   "cell_type": "code",
   "execution_count": 578,
   "id": "25b32ffd",
   "metadata": {},
   "outputs": [],
   "source": [
    "complete_pairs={}\n",
    "x=np.arange(20)\n",
    "for i in range(20):\n",
    "    complete_pairs[i]=list(x[x!=i])"
   ]
  },
  {
   "cell_type": "code",
   "execution_count": 579,
   "id": "d5310723",
   "metadata": {},
   "outputs": [
    {
     "data": {
      "text/plain": [
       "{0: [1, 2, 3, 4, 5, 6, 7, 8, 9, 10, 11, 12, 13, 14, 15, 16, 17, 18, 19],\n",
       " 1: [0, 2, 3, 4, 5, 6, 7, 8, 9, 10, 11, 12, 13, 14, 15, 16, 17, 18, 19],\n",
       " 2: [0, 1, 3, 4, 5, 6, 7, 8, 9, 10, 11, 12, 13, 14, 15, 16, 17, 18, 19],\n",
       " 3: [0, 1, 2, 4, 5, 6, 7, 8, 9, 10, 11, 12, 13, 14, 15, 16, 17, 18, 19],\n",
       " 4: [0, 1, 2, 3, 5, 6, 7, 8, 9, 10, 11, 12, 13, 14, 15, 16, 17, 18, 19],\n",
       " 5: [0, 1, 2, 3, 4, 6, 7, 8, 9, 10, 11, 12, 13, 14, 15, 16, 17, 18, 19],\n",
       " 6: [0, 1, 2, 3, 4, 5, 7, 8, 9, 10, 11, 12, 13, 14, 15, 16, 17, 18, 19],\n",
       " 7: [0, 1, 2, 3, 4, 5, 6, 8, 9, 10, 11, 12, 13, 14, 15, 16, 17, 18, 19],\n",
       " 8: [0, 1, 2, 3, 4, 5, 6, 7, 9, 10, 11, 12, 13, 14, 15, 16, 17, 18, 19],\n",
       " 9: [0, 1, 2, 3, 4, 5, 6, 7, 8, 10, 11, 12, 13, 14, 15, 16, 17, 18, 19],\n",
       " 10: [0, 1, 2, 3, 4, 5, 6, 7, 8, 9, 11, 12, 13, 14, 15, 16, 17, 18, 19],\n",
       " 11: [0, 1, 2, 3, 4, 5, 6, 7, 8, 9, 10, 12, 13, 14, 15, 16, 17, 18, 19],\n",
       " 12: [0, 1, 2, 3, 4, 5, 6, 7, 8, 9, 10, 11, 13, 14, 15, 16, 17, 18, 19],\n",
       " 13: [0, 1, 2, 3, 4, 5, 6, 7, 8, 9, 10, 11, 12, 14, 15, 16, 17, 18, 19],\n",
       " 14: [0, 1, 2, 3, 4, 5, 6, 7, 8, 9, 10, 11, 12, 13, 15, 16, 17, 18, 19],\n",
       " 15: [0, 1, 2, 3, 4, 5, 6, 7, 8, 9, 10, 11, 12, 13, 14, 16, 17, 18, 19],\n",
       " 16: [0, 1, 2, 3, 4, 5, 6, 7, 8, 9, 10, 11, 12, 13, 14, 15, 17, 18, 19],\n",
       " 17: [0, 1, 2, 3, 4, 5, 6, 7, 8, 9, 10, 11, 12, 13, 14, 15, 16, 18, 19],\n",
       " 18: [0, 1, 2, 3, 4, 5, 6, 7, 8, 9, 10, 11, 12, 13, 14, 15, 16, 17, 19],\n",
       " 19: [0, 1, 2, 3, 4, 5, 6, 7, 8, 9, 10, 11, 12, 13, 14, 15, 16, 17, 18]}"
      ]
     },
     "execution_count": 579,
     "metadata": {},
     "output_type": "execute_result"
    }
   ],
   "source": [
    "complete_pairs"
   ]
  },
  {
   "cell_type": "markdown",
   "id": "976f97a0",
   "metadata": {},
   "source": [
    "Long and Short word pairs"
   ]
  },
  {
   "cell_type": "code",
   "execution_count": 581,
   "id": "d9a724a2",
   "metadata": {},
   "outputs": [],
   "source": [
    "long_pairs={}\n",
    "x=np.arange(12,20)\n",
    "for i in range(12,20):\n",
    "    long_pairs[i]=list(x[x!=i])"
   ]
  },
  {
   "cell_type": "code",
   "execution_count": 582,
   "id": "06acc098",
   "metadata": {},
   "outputs": [],
   "source": [
    "short_pairs={}\n",
    "x=np.arange(12)\n",
    "for i in range(12):\n",
    "    short_pairs[i]=list(x[x!=i])"
   ]
  },
  {
   "cell_type": "markdown",
   "id": "0cded832",
   "metadata": {},
   "source": [
    "Based on Levenshtein Pairs"
   ]
  },
  {
   "cell_type": "code",
   "execution_count": 584,
   "id": "7189a032",
   "metadata": {},
   "outputs": [],
   "source": [
    "num_dict={0:'date',1:'goose',2:'spruce',3:'knight',4:'juice',5:'moose',6:'night',7:'queen',8:'berry',\n",
    "          9:'hedgehog',10:'water',11:'daughter',12:'gooseberry',13:'waterfowl',14:'wilderness',\n",
    "          15:'relative',16:'watermelon',17:'caterpillar',18:'environment',19:'ambassador'}"
   ]
  },
  {
   "cell_type": "code",
   "execution_count": 585,
   "id": "65fbc959",
   "metadata": {},
   "outputs": [],
   "source": [
    "import pickle\n",
    "with open('levenshtein_word_pairs.pickle',\"rb\") as file:\n",
    "    levenshtein_pairs=pickle.load(file)"
   ]
  },
  {
   "cell_type": "markdown",
   "id": "0a1485f1",
   "metadata": {},
   "source": [
    "Based on word2vec pairs"
   ]
  },
  {
   "cell_type": "code",
   "execution_count": 587,
   "id": "a44c1e7d",
   "metadata": {},
   "outputs": [],
   "source": [
    "import pickle\n",
    "with open('word2vec_word_pairs.pickle',\"rb\") as file:\n",
    "    word2vec_pairs=pickle.load(file)"
   ]
  },
  {
   "cell_type": "code",
   "execution_count": 588,
   "id": "763736c7",
   "metadata": {},
   "outputs": [
    {
     "name": "stdout",
     "output_type": "stream",
     "text": [
      "Long Pairs\n"
     ]
    },
    {
     "data": {
      "text/plain": [
       "{12: [13, 14, 15, 16, 17, 18, 19],\n",
       " 13: [12, 14, 15, 16, 17, 18, 19],\n",
       " 14: [12, 13, 15, 16, 17, 18, 19],\n",
       " 15: [12, 13, 14, 16, 17, 18, 19],\n",
       " 16: [12, 13, 14, 15, 17, 18, 19],\n",
       " 17: [12, 13, 14, 15, 16, 18, 19],\n",
       " 18: [12, 13, 14, 15, 16, 17, 19],\n",
       " 19: [12, 13, 14, 15, 16, 17, 18]}"
      ]
     },
     "execution_count": 588,
     "metadata": {},
     "output_type": "execute_result"
    }
   ],
   "source": [
    "print(\"Long Pairs\")\n",
    "long_pairs\n"
   ]
  },
  {
   "cell_type": "code",
   "execution_count": 589,
   "id": "83fc1ecb",
   "metadata": {},
   "outputs": [
    {
     "name": "stdout",
     "output_type": "stream",
     "text": [
      "Short Pairs\n"
     ]
    },
    {
     "data": {
      "text/plain": [
       "{0: [1, 2, 3, 4, 5, 6, 7, 8, 9, 10, 11],\n",
       " 1: [0, 2, 3, 4, 5, 6, 7, 8, 9, 10, 11],\n",
       " 2: [0, 1, 3, 4, 5, 6, 7, 8, 9, 10, 11],\n",
       " 3: [0, 1, 2, 4, 5, 6, 7, 8, 9, 10, 11],\n",
       " 4: [0, 1, 2, 3, 5, 6, 7, 8, 9, 10, 11],\n",
       " 5: [0, 1, 2, 3, 4, 6, 7, 8, 9, 10, 11],\n",
       " 6: [0, 1, 2, 3, 4, 5, 7, 8, 9, 10, 11],\n",
       " 7: [0, 1, 2, 3, 4, 5, 6, 8, 9, 10, 11],\n",
       " 8: [0, 1, 2, 3, 4, 5, 6, 7, 9, 10, 11],\n",
       " 9: [0, 1, 2, 3, 4, 5, 6, 7, 8, 10, 11],\n",
       " 10: [0, 1, 2, 3, 4, 5, 6, 7, 8, 9, 11],\n",
       " 11: [0, 1, 2, 3, 4, 5, 6, 7, 8, 9, 10]}"
      ]
     },
     "execution_count": 589,
     "metadata": {},
     "output_type": "execute_result"
    }
   ],
   "source": [
    "print(\"Short Pairs\")\n",
    "short_pairs"
   ]
  },
  {
   "cell_type": "markdown",
   "id": "45568c26",
   "metadata": {},
   "source": [
    "# Analysis and Interpretation of Results"
   ]
  },
  {
   "cell_type": "code",
   "execution_count": null,
   "id": "200167db",
   "metadata": {},
   "outputs": [
    {
     "name": "stdout",
     "output_type": "stream",
     "text": [
      "1740010564.6172721\n"
     ]
    }
   ],
   "source": [
    "import time\n",
    "print(time.time())\n",
    "pair_list=[complete_pairs]\n",
    "rf_test_list=[]\n",
    "rf_train_list=[]\n",
    "svm_test_list=[]\n",
    "svm_train_list=[]\n",
    "knn_test_list=[]\n",
    "knn_train_list=[]\n",
    "logreg_test_list=[]\n",
    "logreg_train_list=[]\n",
    "rf_test_list1=[]\n",
    "rf_train_list1=[]\n",
    "svm_test_list1=[]\n",
    "svm_train_list1=[]\n",
    "knn_test_list1=[]\n",
    "knn_train_list1=[]\n",
    "logreg_test_list1=[]\n",
    "logreg_train_list1=[]\n",
    "for pairs in pair_list:\n",
    "    rf_test,rf_train,svm_test,svm_train,knn_test,knn_train,logreg_test,logreg_train=calculate_results(pairs)\n",
    "    rf_test_list.append(rf_test)\n",
    "    rf_train_list.append(rf_train)\n",
    "    svm_test_list.append(svm_test)\n",
    "    svm_train_list.append(svm_train)\n",
    "    knn_test_list.append(knn_test)\n",
    "    knn_train_list.append(knn_train)\n",
    "    logreg_test_list.append(logreg_test)\n",
    "    logreg_train_list.append(logreg_train)\n",
    "    #f1score\n",
    "    rf_test1,rf_train1,svm_test1,svm_train1,knn_test1,knn_train1,logreg_test1,logreg_train1,rf_test_listRecall,rf_test_listPrecision,svm_test_listRecall,svm_test_listPrecision,knn_test_listRecall,knn_test_listPrecision,logreg_test_listRecall,logreg_test_listPrecision=calculate_F1score(pairs)\n",
    "    rf_test_list1.append(rf_test1)\n",
    "    rf_train_list1.append(rf_train1)\n",
    "    svm_test_list1.append(svm_test1)\n",
    "    svm_train_list1.append(svm_train1)\n",
    "    knn_test_list1.append(knn_test1)\n",
    "    knn_train_list1.append(knn_train1)\n",
    "    logreg_test_list1.append(logreg_test1)\n",
    "    logreg_train_list1.append(logreg_train1)\n",
    "    rf_score_recall=0\n",
    "    rf_score_precision=0\n",
    "    \n",
    "    svm_score_recall=0\n",
    "    svm_score_precision=0\n",
    "    \n",
    "    knn_score_recall=0\n",
    "    knn_score_precision=0\n",
    "    \n",
    "    logreg_score_recall=0\n",
    "    logreg_score_precision=0\n",
    "    \n",
    "    for i in range(len(rf_test_listRecall)):\n",
    "        rf_test_recallScore=np.sum(rf_test_listRecall[i][3:])-np.sum(rf_test_listRecall[i][:3])\n",
    "        rf_test_precisionScore=np.sum(rf_test_listPrecision[i][3:])-np.sum(rf_test_listPrecision[i][:3])\n",
    "        \n",
    "        svm_test_recallScore=np.sum(svm_test_listRecall[i][3:])-np.sum(svm_test_listRecall[i][:3])\n",
    "        svm_test_precisionScore=np.sum(svm_test_listPrecision[i][3:])-np.sum(svm_test_listPrecision[i][:3])\n",
    "        \n",
    "        knn_test_recallScore=np.sum(knn_test_listRecall[i][3:])-np.sum(knn_test_listRecall[i][:3])\n",
    "        knn_test_precisionScore=np.sum(knn_test_listPrecision[i][3:])-np.sum(knn_test_listPrecision[i][:3])\n",
    "        \n",
    "        logreg_test_recallScore=np.sum(logreg_test_listRecall[i][3:])-np.sum(logreg_test_listRecall[i][:3])\n",
    "        logreg_test_precisionScore=np.sum(logreg_test_listPrecision[i][3:])-np.sum(logreg_test_listPrecision[i][:3])\n",
    "        \n",
    "        rf_score_recall+=rf_test_recallScore\n",
    "        rf_score_precision+=rf_test_precisionScore\n",
    "        \n",
    "        svm_score_recall+=svm_test_recallScore\n",
    "        svm_score_precision+=svm_test_precisionScore\n",
    "        \n",
    "        knn_score_recall+=knn_test_recallScore\n",
    "        knn_score_precision+=knn_test_precisionScore\n",
    "        \n",
    "        logreg_score_recall+=logreg_test_recallScore\n",
    "        logreg_score_precision+=logreg_test_precisionScore\n",
    "        \n",
    "    print(\"done\")\n",
    "    print(\"RF\")\n",
    "    print(\"__\")\n",
    "    print(\"rf_score_recall\",rf_score_recall)\n",
    "    print(\"rf_score_precision\",rf_score_precision)\n",
    "    print(\"__\")\n",
    "    \n",
    "    print(\"SVM\")\n",
    "    print(\"___\")\n",
    "    print(\"svm_score_recall\",svm_score_recall)\n",
    "    print(\"svm_score_precision\",svm_score_precision)\n",
    "    print(\"__\")\n",
    "    \n",
    "    print(\"KNN\")\n",
    "    print(\"___\")\n",
    "    print(\"knn_score_recall\",knn_score_recall)\n",
    "    print(\"knn_score_precision\",knn_score_precision)\n",
    "    print(\"__\")\n",
    "    \n",
    "    print(\"LOGREG\")\n",
    "    print(\"______\")\n",
    "    print(\"logreg_score_recall\",logreg_score_recall)\n",
    "    print(\"logreg_score_precision\",logreg_score_precision)\n",
    "    print(\"__\")\n",
    "    print(\" \")\n",
    "    \n",
    "print(time.time())\n"
   ]
  },
  {
   "cell_type": "markdown",
   "id": "866e9464",
   "metadata": {},
   "source": [
    "# Plotting Graphs"
   ]
  },
  {
   "cell_type": "code",
   "execution_count": null,
   "id": "1006b85a",
   "metadata": {},
   "outputs": [],
   "source": [
    "plot(pair_list[0],rf_test_list[0],svm_test_list[0],knn_test_list[0],logreg_test_list[0])"
   ]
  },
  {
   "cell_type": "code",
   "execution_count": null,
   "id": "5872912f",
   "metadata": {},
   "outputs": [],
   "source": [
    "metric_score(rf_test_list[0],svm_test_list[0],knn_test_list[0],logreg_test_list[0])"
   ]
  },
  {
   "cell_type": "code",
   "execution_count": null,
   "id": "c43fab59",
   "metadata": {},
   "outputs": [],
   "source": [
    "plot1(pair_list[0],rf_test_list1[0],svm_test_list1[0],knn_test_list1[0],logreg_test_list1[0])"
   ]
  },
  {
   "cell_type": "code",
   "execution_count": null,
   "id": "de69afe4",
   "metadata": {},
   "outputs": [],
   "source": [
    "metric_score1(rf_test_list1[0],svm_test_list1[0],knn_test_list1[0],logreg_test_list1[0])"
   ]
  },
  {
   "cell_type": "code",
   "execution_count": null,
   "id": "b6f1b215-321c-4209-8a0c-ed9f64532afa",
   "metadata": {},
   "outputs": [],
   "source": [
    "pip install plot_confusion_matrix"
   ]
  },
  {
   "cell_type": "code",
   "execution_count": null,
   "id": "fd5cb7f7-dcf8-43df-9746-bc9b338bdd01",
   "metadata": {},
   "outputs": [],
   "source": [
    "pip install --upgrade scikit-learn"
   ]
  },
  {
   "cell_type": "code",
   "execution_count": null,
   "id": "b08c55d1",
   "metadata": {},
   "outputs": [],
   "source": [
    "\n",
    "from sklearn.metrics import ConfusionMatrixDisplay"
   ]
  },
  {
   "cell_type": "code",
   "execution_count": null,
   "id": "41528745",
   "metadata": {},
   "outputs": [],
   "source": [
    "import numpy as np\n",
    "import matplotlib.pyplot as plt\n",
    "from scipy.spatial import distance\n",
    "from sklearn.model_selection import train_test_split\n",
    "from sklearn.neighbors import KNeighborsClassifier\n",
    "from sklearn.model_selection import GridSearchCV\n",
    "from sklearn.metrics import classification_report,confusion_matrix\n",
    "\n",
    "pair_list=[complete_pairs]\n",
    "for pairs in pair_list:\n",
    "    for i in pairs.keys():\n",
    "        n=len(pairs[i])\n",
    "        break\n",
    "    for i,word_index in enumerate(pairs.keys()):\n",
    "        for j in range(len(pairs[word_index])):\n",
    "            X_train, X_test, y_train, y_test = get_arrays(word_index,pairs[word_index][j])\n",
    "#toy dataset \n",
    "# X = np.random.random((100,10))\n",
    "# y = np.random.randint(0,2, (100))\n",
    "#X_train, X_test, y_train, y_test = get_arrays(word_index,dict1[word_index][j])\n",
    "\n",
    "#custom metric\n",
    "def DTW(a, b):   \n",
    "    an = a.size\n",
    "    bn = b.size\n",
    "    pointwise_distance = distance.cdist(a.reshape(-1,1),b.reshape(-1,1))\n",
    "    cumdist = np.matrix(np.ones((an+1,bn+1)) * np.inf)\n",
    "    cumdist[0,0] = 0\n",
    "    \n",
    "    for ai in range(an):\n",
    "        for bi in range(bn):\n",
    "            minimum_cost = np.min([cumdist[ai, bi+1],\n",
    "                                   cumdist[ai+1, bi],\n",
    "                                   cumdist[ai, bi]])\n",
    "            cumdist[ai+1, bi+1] = pointwise_distance[ai,bi] + minimum_cost\n",
    "\n",
    "    return cumdist[an, bn]\n",
    "\n",
    "#train\n",
    "parameters = {'n_neighbors':[2, 4, 8]}\n",
    "clf = GridSearchCV(KNeighborsClassifier(metric =DTW), parameters, cv=5)\n",
    "clf.fit(X_train, y_train)\n",
    "print(\"accuracy :\",clf.best_score_)\n",
    "\n",
    "#evaluate\n",
    "y_pred = clf.predict(X_test)\n",
    "print(classification_report(y_test, y_pred))\n",
    "print(confusion_matrix(y_test, y_pred))\n",
    "ConfusionMatrixDisplay.from_estimator(clf, X_test, y_test) \n",
    "plt.show()"
   ]
  },
  {
   "cell_type": "code",
   "execution_count": null,
   "id": "7a7b9867",
   "metadata": {},
   "outputs": [],
   "source": [
    "import numpy as np\n",
    "import matplotlib.pyplot as plt\n",
    "from scipy.spatial import distance\n",
    "from sklearn.model_selection import train_test_split\n",
    "from sklearn.neighbors import KNeighborsClassifier\n",
    "from sklearn.model_selection import GridSearchCV\n",
    "from sklearn.metrics import classification_report,confusion_matrix\n",
    "\n",
    "pair_list=[complete_pairs]\n",
    "for pairs in pair_list:\n",
    "    for i in pairs.keys():\n",
    "        n=len(pairs[i])\n",
    "        break\n",
    "    for i,word_index in enumerate(pairs.keys()):\n",
    "        for j in range(len(pairs[word_index])):\n",
    "            X_train, X_test, y_train, y_test = get_arrays(word_index,pairs[word_index][j])\n",
    "\n",
    "\n",
    "#train\n",
    "parameters = {'n_neighbors':[2, 4, 8]}\n",
    "clf = GridSearchCV(KNeighborsClassifier(n_jobs=None), parameters, cv=5)\n",
    "clf.fit(X_train, y_train)\n",
    "print(\"accuracy :\",clf.best_score_)\n",
    "#evaluate\n",
    "y_pred = clf.predict(X_test)\n",
    "print(classification_report(y_test, y_pred))\n",
    "print(confusion_matrix(y_test, y_pred))\n",
    "ConfusionMatrixDisplay.from_estimator(clf, X_test, y_test) \n",
    "plt.show()"
   ]
  },
  {
   "cell_type": "code",
   "execution_count": null,
   "id": "af3d8da7",
   "metadata": {},
   "outputs": [],
   "source": [
    "import numpy as np\n",
    "from scipy.spatial import distance\n",
    "from sklearn.model_selection import train_test_split\n",
    "from sklearn.neighbors import KNeighborsClassifier\n",
    "from sklearn.model_selection import GridSearchCV\n",
    "from sklearn.metrics import classification_report,confusion_matrix\n",
    "\n",
    "pair_list=[complete_pairs]\n",
    "for pairs in pair_list:\n",
    "    for i in pairs.keys():\n",
    "        n=len(pairs[i])\n",
    "        break\n",
    "    for i,word_index in enumerate(pairs.keys()):\n",
    "        for j in range(len(pairs[word_index])):\n",
    "            X_train, X_test, y_train, y_test = get_arrays(word_index,pairs[word_index][j])\n",
    "\n",
    "\n",
    "#train\n",
    "param_grid = {'C': [0.1, 1, 10, 100, 1000], \n",
    "              'gamma': [1, 0.1, 0.01, 0.001, 0.0001],\n",
    "              'kernel': ['rbf']} \n",
    "clf = GridSearchCV(svm.SVC(), param_grid, refit = True, verbose = 3)\n",
    "clf.fit(X_train, y_train)\n",
    "print(\"accuracy :\",clf.best_score_)\n",
    "\n",
    "#evaluate\n",
    "y_pred = clf.predict(X_test)\n",
    "print(classification_report(y_test, y_pred))\n",
    "print(confusion_matrix(y_test, y_pred))\n",
    "ConfusionMatrixDisplay.from_estimator(clf, X_test, y_test) \n",
    "plt.show()\n",
    "\n",
    "\n"
   ]
  },
  {
   "cell_type": "code",
   "execution_count": null,
   "id": "08c7ab7f",
   "metadata": {},
   "outputs": [],
   "source": [
    "\n",
    "import matplotlib.pyplot as plt\n",
    "import numpy as np\n",
    "from scipy.spatial import distance\n",
    "from sklearn.model_selection import train_test_split\n",
    "from sklearn.neighbors import KNeighborsClassifier\n",
    "from sklearn.model_selection import GridSearchCV\n",
    "from sklearn.metrics import classification_report,confusion_matrix\n",
    "\n",
    "pair_list=[complete_pairs]\n",
    "for pairs in pair_list:\n",
    "    for i in pairs.keys():\n",
    "        n=len(pairs[i])\n",
    "        break\n",
    "    for i,word_index in enumerate(pairs.keys()):\n",
    "        for j in range(len(pairs[word_index])):\n",
    "            X_train, X_test, y_train, y_test = get_arrays(word_index,pairs[word_index][j])\n",
    "\n",
    "\n",
    "#train\n",
    "grid={\"C\":np.logspace(-3,3,7), \"penalty\":[\"l2\"]} \n",
    "clf = GridSearchCV(LogisticRegression(), grid,cv=10)\n",
    "clf.fit(X_train, y_train)\n",
    "\n",
    "print(\"tuned hpyerparameters :(best parameters) \",clf.best_params_)\n",
    "print(\"accuracy :\",clf.best_score_)\n",
    "\n",
    "#evaluate\n",
    "y_pred = clf.predict(X_test)\n",
    "print(classification_report(y_test, y_pred))\n",
    "print(confusion_matrix(y_test, y_pred))\n",
    "ConfusionMatrixDisplay.from_estimator(clf, X_test, y_test) \n",
    "plt.show()\n",
    "\n",
    "\n"
   ]
  },
  {
   "cell_type": "code",
   "execution_count": null,
   "id": "1210ad52",
   "metadata": {
    "editable": true,
    "scrolled": true,
    "slideshow": {
     "slide_type": ""
    },
    "tags": []
   },
   "outputs": [],
   "source": [
    "\n",
    "import matplotlib.pyplot as plt\n",
    "import numpy as np\n",
    "from scipy.spatial import distance\n",
    "from sklearn.model_selection import train_test_split\n",
    "from sklearn.neighbors import KNeighborsClassifier\n",
    "from sklearn.model_selection import GridSearchCV\n",
    "from sklearn.metrics import classification_report,confusion_matrix\n",
    "\n",
    "pair_list=[complete_pairs]\n",
    "for pairs in pair_list:\n",
    "    for i in pairs.keys():\n",
    "        n=len(pairs[i])\n",
    "        break\n",
    "    for i,word_index in enumerate(pairs.keys()):\n",
    "        for j in range(len(pairs[word_index])):\n",
    "            X_train, X_test, y_train, y_test = get_arrays(word_index,pairs[word_index][j])\n",
    "\n",
    "\n",
    "#train\n",
    "param_grid = {\n",
    "    'bootstrap': [True],\n",
    "    'max_depth': [80, 90, 100, 110],\n",
    "    'max_features': [2, 3],\n",
    "    'min_samples_leaf': [3, 4, 5],\n",
    "    'min_samples_split': [8, 10, 12],\n",
    "    'n_estimators': [100, 200, 300, 1000]\n",
    "}\n",
    "clf = GridSearchCV(estimator = RandomForestClassifier(), param_grid = param_grid, \n",
    "                          cv = 3, n_jobs = -1, verbose = 2)\n",
    "clf.fit(X_train, y_train)\n",
    "\n",
    "# print(\"tuned hpyerparameters :(best parameters) \",clf.best_params_)\n",
    "print(\"accuracy :\",clf.best_score_)\n",
    "\n",
    "#evaluate\n",
    "y_pred = clf.predict(X_test)\n",
    "print(classification_report(y_test, y_pred))\n",
    "print(confusion_matrix(y_test, y_pred))\n",
    "ConfusionMatrixDisplay.from_estimator(clf, X_test, y_test) \n",
    "plt.show()\n",
    "\n"
   ]
  }
 ],
 "metadata": {
  "jupytext": {
   "cell_metadata_filter": "-all",
   "encoding": "# -*- coding: utf-8 -*-",
   "main_language": "python",
   "notebook_metadata_filter": "-all"
  },
  "kernelspec": {
   "display_name": "Python [conda env:base] *",
   "language": "python",
   "name": "conda-base-py"
  },
  "language_info": {
   "codemirror_mode": {
    "name": "ipython",
    "version": 3
   },
   "file_extension": ".py",
   "mimetype": "text/x-python",
   "name": "python",
   "nbconvert_exporter": "python",
   "pygments_lexer": "ipython3",
   "version": "3.12.7"
  }
 },
 "nbformat": 4,
 "nbformat_minor": 5
}
